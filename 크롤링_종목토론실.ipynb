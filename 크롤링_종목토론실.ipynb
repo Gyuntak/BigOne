{
 "cells": [
  {
   "cell_type": "markdown",
   "id": "707f9682",
   "metadata": {},
   "source": [
    "### 네이버 증권페이지 내의 종목토론실에서 의견 수집"
   ]
  },
  {
   "cell_type": "code",
   "execution_count": 1,
   "id": "822a56d1",
   "metadata": {},
   "outputs": [],
   "source": [
    "from selenium import webdriver\n",
    "import time\n",
    "\n",
    "from bs4 import BeautifulSoup\n",
    "from urllib.request import urlopen\n",
    "from urllib.request import Request\n",
    "import pandas as pd\n",
    "import numpy as np"
   ]
  },
  {
   "cell_type": "code",
   "execution_count": 2,
   "id": "80e8ced2",
   "metadata": {},
   "outputs": [
    {
     "name": "stderr",
     "output_type": "stream",
     "text": [
      "C:\\Users\\admin\\AppData\\Local\\Temp/ipykernel_20112/627124562.py:2: DeprecationWarning: executable_path has been deprecated, please pass in a Service object\n",
      "  driver = webdriver.Chrome('./driver/chromedriver')\n"
     ]
    }
   ],
   "source": [
    "# 크롬 웹브라우저 실행\n",
    "driver = webdriver.Chrome('./driver/chromedriver')"
   ]
  },
  {
   "cell_type": "code",
   "execution_count": 3,
   "id": "8b00efd8",
   "metadata": {},
   "outputs": [],
   "source": [
    "# 네이버증권 페이지 접속 - 1페이지 테스트\n",
    "driver.get('https://finance.naver.com/item/board.naver?code=035720&page=1')"
   ]
  },
  {
   "cell_type": "code",
   "execution_count": 275,
   "id": "299275d1",
   "metadata": {},
   "outputs": [
    {
     "data": {
      "text/plain": [
       "16519"
      ]
     },
     "execution_count": 275,
     "metadata": {},
     "output_type": "execute_result"
    }
   ],
   "source": [
    "# 해당 페이지 소스 가져오기\n",
    "req = driver.page_source\n",
    "soup = BeautifulSoup(req, 'html.parser')\n",
    "soup\n",
    "# 마지막 페이지 숫자만 추출\n",
    "last_page = int(soup.select_one('#content > div.section.inner_sub > table:nth-child(3) > tbody > tr > td:nth-child(2) > table > tbody > tr > td.pgRR > a')['href'][35:])\n",
    "type(last_page) # str -> int로 변경\n",
    "last_page # 16519"
   ]
  },
  {
   "cell_type": "markdown",
   "id": "290ec755",
   "metadata": {},
   "source": [
    "### 테이블로 구성되어있는데, 한페이지 내에서 자식선택자로 모든 tr 가져오기\n",
    "- content > div.section.inner_sub > table.type2 > tbody > tr:nth-child(3) ~ 3부터 7\n",
    "- content > div.section.inner_sub > table.type2 > tbody > tr:nth-child(9) ~ 9부터 13\n",
    "- content > div.section.inner_sub > table.type2 > tbody > tr:nth-child(15) ~ 15부터 19\n",
    "- content > div.section.inner_sub > table.type2 > tbody > tr:nth-child(21) ~ 21부터 25"
   ]
  },
  {
   "cell_type": "markdown",
   "id": "fa41b1f4",
   "metadata": {},
   "source": [
    "- 날짜, 제목, url, 공감수, 비공감수 수집할 것\n",
    "\n",
    "**공감수와 비공감수**\n",
    "- \" 0 \" 인 경우 : ('strong',{'class':'tah p10 gray03'})\n",
    "- \" 0 초과 \" 공감 : ('strong',{'class':'tah p10 red01'})\n",
    "- \" 0 초과 \" 비공감 : ('strong',{'class':'tah p10 blue01'})\n",
    "\n",
    "\n",
    "- 날짜에서 2020.01.01까지 조건걸기\n",
    "\n",
    "\n",
    "- url접속 후 글내용을 위 df에 합치기"
   ]
  },
  {
   "cell_type": "code",
   "execution_count": 276,
   "id": "ce9665c5",
   "metadata": {},
   "outputs": [],
   "source": [
    "# 빈리스트생성\n",
    "date = []\n",
    "title = []\n",
    "url = []\n",
    "upvote = []\n",
    "downvote = []\n",
    "\n",
    "\n",
    "# 네이버증권 페이지 이동\n",
    "base_url = 'https://finance.naver.com/item/board.naver?code=035720&page='\n",
    "\n",
    "num = 1"
   ]
  },
  {
   "cell_type": "code",
   "execution_count": 277,
   "id": "ec1754d5",
   "metadata": {
    "scrolled": true
   },
   "outputs": [],
   "source": [
    "\n",
    "while num <= last_page :\n",
    "    driver.get('https://finance.naver.com/item/board.naver?code=035720&page='+str(num))\n",
    "\n",
    "    # 해당 페이지 소스 가져오기\n",
    "    req = driver.page_source\n",
    "    soup = BeautifulSoup(req, 'html.parser')\n",
    "\n",
    "    # 테이블 tr 전체 가져오기 \n",
    "    for i in range(3,26) : \n",
    "        boxes = soup.select('#content > div.section.inner_sub > table.type2 > tbody > tr:nth-child('+str(i)+')')\n",
    "    #         print(boxes)\n",
    "\n",
    "        # tr 코드 하나씩 for문으로 읽기\n",
    "        for box in boxes :\n",
    "\n",
    "            # 중간에 구분선 tr이 있어서 에러발생. 예외처리\n",
    "            try :\n",
    "                # 2022~2020 년도 작성글만 수집\n",
    "                year_check = box.find('span',{'class':'tah p10 gray03'}).text[:-6]\n",
    "\n",
    "                if \"2022\"or\"2021\"or\"2020\" in year_check : \n",
    "\n",
    "                    # 날짜\n",
    "                    date.append(year_check)\n",
    "                    # 제목\n",
    "                    title.append(box.find('a')['title'])\n",
    "                    # url\n",
    "                    url.append(box.find('a')['href'])\n",
    "                    # 공감\n",
    "                    upvote.append(box.select('strong')[0].text)\n",
    "                    # 비공감\n",
    "                    downvote.append(box.select('strong')[1].text)\n",
    "\n",
    "            except :\n",
    "                continue\n",
    "\n",
    "    # VIEW탭에서 수집한 url 데이터프레임\n",
    "    discuss_df = pd.DataFrame({'작성일':date,'제목':title,'url':url, '공감':upvote, '비공감':downvote})\n",
    "    \n",
    "    if num%5 == 0 :\n",
    "        discuss_df.to_csv('./crawl_data/discuss_df_df.csv')\n",
    "    \n",
    "    num+=1"
   ]
  },
  {
   "cell_type": "code",
   "execution_count": 279,
   "id": "3e050ee2",
   "metadata": {},
   "outputs": [],
   "source": [
    "driver.close()"
   ]
  },
  {
   "cell_type": "code",
   "execution_count": null,
   "id": "86f2a16c",
   "metadata": {},
   "outputs": [],
   "source": []
  },
  {
   "cell_type": "markdown",
   "id": "567f41ce",
   "metadata": {},
   "source": [
    "### 페이지 넘기기\n",
    "- url : https://finance.naver.com/item/board.naver?code=035720&page= \"페이지번호\"\n",
    "\n",
    "1. select나 xpath를 통해 드라이버로 클릭?\n",
    "\n",
    "2. for문으로 마지막페이지까지..?"
   ]
  },
  {
   "cell_type": "markdown",
   "id": "1e9bd75d",
   "metadata": {},
   "source": [
    "### 드라이버로 페이지 이동 후 데이터 수집"
   ]
  },
  {
   "cell_type": "markdown",
   "id": "089094e1",
   "metadata": {},
   "source": [
    "- 1페이지 \n",
    "- //*[@id=\"content\"]/div[2]/table[2]/tbody/tr/td[2]/table/tbody/tr/td[1]/a\n",
    "- //*[@id=\"content\"]/div[2]/table[2]/tbody/tr/td[2]/table/tbody/tr/td[2]/a\n",
    "- //*[@id=\"content\"]/div[2]/table[2]/tbody/tr/td[2]/table/tbody/tr/td[3]/a\n",
    "- ...\n",
    "- //*[@id=\"content\"]/div[2]/table[2]/tbody/tr/td[2]/table/tbody/tr/td[10]/a\n",
    "- 1페이지 > 다음\n",
    "- //*[@id=\"content\"]/div[2]/table[2]/tbody/tr/td[2]/table/tbody/tr/td[11]/a\n",
    "\n",
    "\n",
    "- 2페이지\n",
    "- //*[@id=\"content\"]/div[2]/table[2]/tbody/tr/td[2]/table/tbody/tr/td[3]/a\n",
    "- //*[@id=\"content\"]/div[2]/table[2]/tbody/tr/td[2]/table/tbody/tr/td[3]/a\n",
    "- //*[@id=\"content\"]/div[2]/table[2]/tbody/tr/td[2]/table/tbody/tr/td[4]/a\n",
    "- ...\n",
    "- //*[@id=\"content\"]/div[2]/table[2]/tbody/tr/td[2]/table/tbody/tr/td[12]/a\n",
    "- //*[@id=\"content\"]/div[2]/table[2]/tbody/tr/td[2]/table/tbody/tr/td[12]/a\n",
    "- 2페이지 > 다음\n",
    "- //*[@id=\"content\"]/div[2]/table[2]/tbody/tr/td[2]/table/tbody/tr/td[13]/a\n",
    "- //*[@id=\"content\"]/div[2]/table[2]/tbody/tr/td[2]/table/tbody/tr/td[13]/a "
   ]
  },
  {
   "cell_type": "code",
   "execution_count": null,
   "id": "c1940d00",
   "metadata": {},
   "outputs": [],
   "source": [
    "from selenium import webdriver\n",
    "import time\n",
    "\n",
    "from bs4 import BeautifulSoup\n",
    "from urllib.request import urlopen\n",
    "from urllib.request import Request\n",
    "import pandas as pd\n",
    "import numpy as np"
   ]
  },
  {
   "cell_type": "code",
   "execution_count": 232,
   "id": "2357f849",
   "metadata": {},
   "outputs": [
    {
     "name": "stderr",
     "output_type": "stream",
     "text": [
      "C:\\Users\\admin\\AppData\\Local\\Temp/ipykernel_22500/2879495366.py:2: DeprecationWarning: executable_path has been deprecated, please pass in a Service object\n",
      "  driver = webdriver.Chrome('./driver/chromedriver')\n"
     ]
    },
    {
     "data": {
      "text/plain": [
       "16519"
      ]
     },
     "execution_count": 232,
     "metadata": {},
     "output_type": "execute_result"
    }
   ],
   "source": [
    "# 크롬 웹브라우저 실행\n",
    "driver = webdriver.Chrome('./driver/chromedriver')\n",
    "\n",
    "# 카카오종목토론실 1페이지로 일단 접속\n",
    "driver.get('https://finance.naver.com/item/board.naver?code=035720&page=1')\n",
    "\n",
    "# 1페이지 소스 가져오기\n",
    "req = driver.page_source\n",
    "soup = BeautifulSoup(req, 'html.parser')\n",
    "\n",
    "# 네이버증권 페이지 접속 - 1페이지 테스트\n",
    "base_url = 'https://finance.naver.com/item/board.naver?code=035720&page='\n",
    "# 마지막 페이지 숫자만 추출\n",
    "last_page = int(soup.select_one('#content > div.section.inner_sub > table:nth-child(3) > tbody > tr > td:nth-child(2) > table > tbody > tr > td.pgRR > a')['href'][35:])\n",
    "type(last_page) # str -> int로 변경\n",
    "last_page # 16519"
   ]
  },
  {
   "cell_type": "code",
   "execution_count": null,
   "id": "39c3b91a",
   "metadata": {},
   "outputs": [],
   "source": [
    "# 네이버증권 페이지 접속 - 1페이지 테스트\n",
    "#driver.get('https://finance.naver.com/item/board.naver?code=035720&page=1')\n",
    "#content > div.section.inner_sub > table:nth-child(3) > tbody > tr > td:nth-child(2) > table > tbody > tr > td.on > a\n",
    "#content > div.section.inner_sub > table:nth-child(3) > tbody > tr > td:nth-child(2) > table > tbody > tr > td:nth-child(2) > a\n",
    "#content > div.section.inner_sub > table:nth-child(3) > tbody > tr > td:nth-child(2) > table > tbody > tr > td:nth-child(5) > a\n",
    "#content > div.section.inner_sub > table:nth-child(3) > tbody > tr > td:nth-child(2) > table > tbody > tr > td:nth-child(10) > a"
   ]
  },
  {
   "cell_type": "code",
   "execution_count": 235,
   "id": "bf0df140",
   "metadata": {},
   "outputs": [
    {
     "name": "stderr",
     "output_type": "stream",
     "text": [
      "C:\\Users\\admin\\AppData\\Local\\Temp/ipykernel_22500/2101149385.py:9: DeprecationWarning: find_element_by_xpath is deprecated. Please use find_element(by=By.XPATH, value=xpath) instead\n",
      "  driver.find_element_by_xpath('//*[@id=\"content\"]/div[2]/table[2]/tbody/tr/td[2]/table/tbody/tr/td[12]/a').click()\n"
     ]
    }
   ],
   "source": [
    "# 네이버증권 페이지 접속 - 1페이지 테스트\n",
    "base_url = 'https://finance.naver.com/item/board.naver?code=035720&page='\n",
    "\n",
    "for i in range(1,11) :\n",
    "    url = base_url + str(i)\n",
    "    driver.get(url)\n",
    "\n",
    "# 다음 페이지 클릭 - 11페이지로 넘어간다.\n",
    "driver.find_element_by_xpath('//*[@id=\"content\"]/div[2]/table[2]/tbody/tr/td[2]/table/tbody/tr/td[12]/a').click()"
   ]
  },
  {
   "cell_type": "code",
   "execution_count": 237,
   "id": "0979a5b1",
   "metadata": {
    "scrolled": true
   },
   "outputs": [
    {
     "name": "stderr",
     "output_type": "stream",
     "text": [
      "C:\\Users\\admin\\AppData\\Local\\Temp/ipykernel_22500/330087774.py:6: DeprecationWarning: find_element_by_xpath is deprecated. Please use find_element(by=By.XPATH, value=xpath) instead\n",
      "  driver.find_element_by_xpath('//*[@id=\"content\"]/div[2]/table[2]/tbody/tr/td[2]/table/tbody/tr/td['+str(i)+']/a').click()\n"
     ]
    },
    {
     "ename": "NoSuchElementException",
     "evalue": "Message: no such element: Unable to locate element: {\"method\":\"xpath\",\"selector\":\"//*[@id=\"content\"]/div[2]/table[2]/tbody/tr/td[2]/table/tbody/tr/td[20]/a\"}\n  (Session info: chrome=100.0.4896.88)\nStacktrace:\nBacktrace:\n\tOrdinal0 [0x00429943+2595139]\n\tOrdinal0 [0x003BC9F1+2148849]\n\tOrdinal0 [0x002B4528+1066280]\n\tOrdinal0 [0x002E0FD4+1249236]\n\tOrdinal0 [0x002E11CB+1249739]\n\tOrdinal0 [0x0030D812+1431570]\n\tOrdinal0 [0x002FBA34+1358388]\n\tOrdinal0 [0x0030BAF2+1424114]\n\tOrdinal0 [0x002FB806+1357830]\n\tOrdinal0 [0x002D6086+1204358]\n\tOrdinal0 [0x002D6F96+1208214]\n\tGetHandleVerifier [0x005CB232+1658114]\n\tGetHandleVerifier [0x0068312C+2411516]\n\tGetHandleVerifier [0x004BF261+560433]\n\tGetHandleVerifier [0x004BE366+556598]\n\tOrdinal0 [0x003C286B+2173035]\n\tOrdinal0 [0x003C75F8+2192888]\n\tOrdinal0 [0x003C76E5+2193125]\n\tOrdinal0 [0x003D11FC+2232828]\n\tBaseThreadInitThunk [0x755CFA29+25]\n\tRtlGetAppContainerNamedObjectPath [0x77747A7E+286]\n\tRtlGetAppContainerNamedObjectPath [0x77747A4E+238]\n",
     "output_type": "error",
     "traceback": [
      "\u001b[1;31m---------------------------------------------------------------------------\u001b[0m",
      "\u001b[1;31mNoSuchElementException\u001b[0m                    Traceback (most recent call last)",
      "\u001b[1;32m~\\AppData\\Local\\Temp/ipykernel_22500/330087774.py\u001b[0m in \u001b[0;36m<module>\u001b[1;34m\u001b[0m\n\u001b[0;32m      4\u001b[0m \u001b[1;33m\u001b[0m\u001b[0m\n\u001b[0;32m      5\u001b[0m \u001b[1;31m# 11~20페이지, 다음버튼까지 클릭 - 21페이지\u001b[0m\u001b[1;33m\u001b[0m\u001b[1;33m\u001b[0m\u001b[0m\n\u001b[1;32m----> 6\u001b[1;33m \u001b[0mdriver\u001b[0m\u001b[1;33m.\u001b[0m\u001b[0mfind_element_by_xpath\u001b[0m\u001b[1;33m(\u001b[0m\u001b[1;34m'//*[@id=\"content\"]/div[2]/table[2]/tbody/tr/td[2]/table/tbody/tr/td['\u001b[0m\u001b[1;33m+\u001b[0m\u001b[0mstr\u001b[0m\u001b[1;33m(\u001b[0m\u001b[0mi\u001b[0m\u001b[1;33m)\u001b[0m\u001b[1;33m+\u001b[0m\u001b[1;34m']/a'\u001b[0m\u001b[1;33m)\u001b[0m\u001b[1;33m.\u001b[0m\u001b[0mclick\u001b[0m\u001b[1;33m(\u001b[0m\u001b[1;33m)\u001b[0m\u001b[1;33m\u001b[0m\u001b[1;33m\u001b[0m\u001b[0m\n\u001b[0m\u001b[0;32m      7\u001b[0m \u001b[0mtime\u001b[0m\u001b[1;33m.\u001b[0m\u001b[0msleep\u001b[0m\u001b[1;33m(\u001b[0m\u001b[1;36m0.5\u001b[0m\u001b[1;33m)\u001b[0m\u001b[1;33m\u001b[0m\u001b[1;33m\u001b[0m\u001b[0m\n",
      "\u001b[1;32mC:\\Anaconda3\\lib\\site-packages\\selenium\\webdriver\\remote\\webdriver.py\u001b[0m in \u001b[0;36mfind_element_by_xpath\u001b[1;34m(self, xpath)\u001b[0m\n\u001b[0;32m    519\u001b[0m             \u001b[0mstacklevel\u001b[0m\u001b[1;33m=\u001b[0m\u001b[1;36m2\u001b[0m\u001b[1;33m,\u001b[0m\u001b[1;33m\u001b[0m\u001b[1;33m\u001b[0m\u001b[0m\n\u001b[0;32m    520\u001b[0m         )\n\u001b[1;32m--> 521\u001b[1;33m         \u001b[1;32mreturn\u001b[0m \u001b[0mself\u001b[0m\u001b[1;33m.\u001b[0m\u001b[0mfind_element\u001b[0m\u001b[1;33m(\u001b[0m\u001b[0mby\u001b[0m\u001b[1;33m=\u001b[0m\u001b[0mBy\u001b[0m\u001b[1;33m.\u001b[0m\u001b[0mXPATH\u001b[0m\u001b[1;33m,\u001b[0m \u001b[0mvalue\u001b[0m\u001b[1;33m=\u001b[0m\u001b[0mxpath\u001b[0m\u001b[1;33m)\u001b[0m\u001b[1;33m\u001b[0m\u001b[1;33m\u001b[0m\u001b[0m\n\u001b[0m\u001b[0;32m    522\u001b[0m \u001b[1;33m\u001b[0m\u001b[0m\n\u001b[0;32m    523\u001b[0m     \u001b[1;32mdef\u001b[0m \u001b[0mfind_elements_by_xpath\u001b[0m\u001b[1;33m(\u001b[0m\u001b[0mself\u001b[0m\u001b[1;33m,\u001b[0m \u001b[0mxpath\u001b[0m\u001b[1;33m)\u001b[0m \u001b[1;33m->\u001b[0m \u001b[0mList\u001b[0m\u001b[1;33m[\u001b[0m\u001b[0mWebElement\u001b[0m\u001b[1;33m]\u001b[0m\u001b[1;33m:\u001b[0m\u001b[1;33m\u001b[0m\u001b[1;33m\u001b[0m\u001b[0m\n",
      "\u001b[1;32mC:\\Anaconda3\\lib\\site-packages\\selenium\\webdriver\\remote\\webdriver.py\u001b[0m in \u001b[0;36mfind_element\u001b[1;34m(self, by, value)\u001b[0m\n\u001b[0;32m   1246\u001b[0m             \u001b[0mvalue\u001b[0m \u001b[1;33m=\u001b[0m \u001b[1;34m'[name=\"%s\"]'\u001b[0m \u001b[1;33m%\u001b[0m \u001b[0mvalue\u001b[0m\u001b[1;33m\u001b[0m\u001b[1;33m\u001b[0m\u001b[0m\n\u001b[0;32m   1247\u001b[0m \u001b[1;33m\u001b[0m\u001b[0m\n\u001b[1;32m-> 1248\u001b[1;33m         return self.execute(Command.FIND_ELEMENT, {\n\u001b[0m\u001b[0;32m   1249\u001b[0m             \u001b[1;34m'using'\u001b[0m\u001b[1;33m:\u001b[0m \u001b[0mby\u001b[0m\u001b[1;33m,\u001b[0m\u001b[1;33m\u001b[0m\u001b[1;33m\u001b[0m\u001b[0m\n\u001b[0;32m   1250\u001b[0m             'value': value})['value']\n",
      "\u001b[1;32mC:\\Anaconda3\\lib\\site-packages\\selenium\\webdriver\\remote\\webdriver.py\u001b[0m in \u001b[0;36mexecute\u001b[1;34m(self, driver_command, params)\u001b[0m\n\u001b[0;32m    423\u001b[0m         \u001b[0mresponse\u001b[0m \u001b[1;33m=\u001b[0m \u001b[0mself\u001b[0m\u001b[1;33m.\u001b[0m\u001b[0mcommand_executor\u001b[0m\u001b[1;33m.\u001b[0m\u001b[0mexecute\u001b[0m\u001b[1;33m(\u001b[0m\u001b[0mdriver_command\u001b[0m\u001b[1;33m,\u001b[0m \u001b[0mparams\u001b[0m\u001b[1;33m)\u001b[0m\u001b[1;33m\u001b[0m\u001b[1;33m\u001b[0m\u001b[0m\n\u001b[0;32m    424\u001b[0m         \u001b[1;32mif\u001b[0m \u001b[0mresponse\u001b[0m\u001b[1;33m:\u001b[0m\u001b[1;33m\u001b[0m\u001b[1;33m\u001b[0m\u001b[0m\n\u001b[1;32m--> 425\u001b[1;33m             \u001b[0mself\u001b[0m\u001b[1;33m.\u001b[0m\u001b[0merror_handler\u001b[0m\u001b[1;33m.\u001b[0m\u001b[0mcheck_response\u001b[0m\u001b[1;33m(\u001b[0m\u001b[0mresponse\u001b[0m\u001b[1;33m)\u001b[0m\u001b[1;33m\u001b[0m\u001b[1;33m\u001b[0m\u001b[0m\n\u001b[0m\u001b[0;32m    426\u001b[0m             response['value'] = self._unwrap_value(\n\u001b[0;32m    427\u001b[0m                 response.get('value', None))\n",
      "\u001b[1;32mC:\\Anaconda3\\lib\\site-packages\\selenium\\webdriver\\remote\\errorhandler.py\u001b[0m in \u001b[0;36mcheck_response\u001b[1;34m(self, response)\u001b[0m\n\u001b[0;32m    245\u001b[0m                 \u001b[0malert_text\u001b[0m \u001b[1;33m=\u001b[0m \u001b[0mvalue\u001b[0m\u001b[1;33m[\u001b[0m\u001b[1;34m'alert'\u001b[0m\u001b[1;33m]\u001b[0m\u001b[1;33m.\u001b[0m\u001b[0mget\u001b[0m\u001b[1;33m(\u001b[0m\u001b[1;34m'text'\u001b[0m\u001b[1;33m)\u001b[0m\u001b[1;33m\u001b[0m\u001b[1;33m\u001b[0m\u001b[0m\n\u001b[0;32m    246\u001b[0m             \u001b[1;32mraise\u001b[0m \u001b[0mexception_class\u001b[0m\u001b[1;33m(\u001b[0m\u001b[0mmessage\u001b[0m\u001b[1;33m,\u001b[0m \u001b[0mscreen\u001b[0m\u001b[1;33m,\u001b[0m \u001b[0mstacktrace\u001b[0m\u001b[1;33m,\u001b[0m \u001b[0malert_text\u001b[0m\u001b[1;33m)\u001b[0m  \u001b[1;31m# type: ignore[call-arg]  # mypy is not smart enough here\u001b[0m\u001b[1;33m\u001b[0m\u001b[1;33m\u001b[0m\u001b[0m\n\u001b[1;32m--> 247\u001b[1;33m         \u001b[1;32mraise\u001b[0m \u001b[0mexception_class\u001b[0m\u001b[1;33m(\u001b[0m\u001b[0mmessage\u001b[0m\u001b[1;33m,\u001b[0m \u001b[0mscreen\u001b[0m\u001b[1;33m,\u001b[0m \u001b[0mstacktrace\u001b[0m\u001b[1;33m)\u001b[0m\u001b[1;33m\u001b[0m\u001b[1;33m\u001b[0m\u001b[0m\n\u001b[0m\u001b[0;32m    248\u001b[0m \u001b[1;33m\u001b[0m\u001b[0m\n\u001b[0;32m    249\u001b[0m     \u001b[1;32mdef\u001b[0m \u001b[0m_value_or_default\u001b[0m\u001b[1;33m(\u001b[0m\u001b[0mself\u001b[0m\u001b[1;33m,\u001b[0m \u001b[0mobj\u001b[0m\u001b[1;33m:\u001b[0m \u001b[0mMapping\u001b[0m\u001b[1;33m[\u001b[0m\u001b[0m_KT\u001b[0m\u001b[1;33m,\u001b[0m \u001b[0m_VT\u001b[0m\u001b[1;33m]\u001b[0m\u001b[1;33m,\u001b[0m \u001b[0mkey\u001b[0m\u001b[1;33m:\u001b[0m \u001b[0m_KT\u001b[0m\u001b[1;33m,\u001b[0m \u001b[0mdefault\u001b[0m\u001b[1;33m:\u001b[0m \u001b[0m_VT\u001b[0m\u001b[1;33m)\u001b[0m \u001b[1;33m->\u001b[0m \u001b[0m_VT\u001b[0m\u001b[1;33m:\u001b[0m\u001b[1;33m\u001b[0m\u001b[1;33m\u001b[0m\u001b[0m\n",
      "\u001b[1;31mNoSuchElementException\u001b[0m: Message: no such element: Unable to locate element: {\"method\":\"xpath\",\"selector\":\"//*[@id=\"content\"]/div[2]/table[2]/tbody/tr/td[2]/table/tbody/tr/td[20]/a\"}\n  (Session info: chrome=100.0.4896.88)\nStacktrace:\nBacktrace:\n\tOrdinal0 [0x00429943+2595139]\n\tOrdinal0 [0x003BC9F1+2148849]\n\tOrdinal0 [0x002B4528+1066280]\n\tOrdinal0 [0x002E0FD4+1249236]\n\tOrdinal0 [0x002E11CB+1249739]\n\tOrdinal0 [0x0030D812+1431570]\n\tOrdinal0 [0x002FBA34+1358388]\n\tOrdinal0 [0x0030BAF2+1424114]\n\tOrdinal0 [0x002FB806+1357830]\n\tOrdinal0 [0x002D6086+1204358]\n\tOrdinal0 [0x002D6F96+1208214]\n\tGetHandleVerifier [0x005CB232+1658114]\n\tGetHandleVerifier [0x0068312C+2411516]\n\tGetHandleVerifier [0x004BF261+560433]\n\tGetHandleVerifier [0x004BE366+556598]\n\tOrdinal0 [0x003C286B+2173035]\n\tOrdinal0 [0x003C75F8+2192888]\n\tOrdinal0 [0x003C76E5+2193125]\n\tOrdinal0 [0x003D11FC+2232828]\n\tBaseThreadInitThunk [0x755CFA29+25]\n\tRtlGetAppContainerNamedObjectPath [0x77747A7E+286]\n\tRtlGetAppContainerNamedObjectPath [0x77747A4E+238]\n"
     ]
    }
   ],
   "source": [
    "for i in range(11,21) :\n",
    "    url = base_url + str(i)\n",
    "    driver.get(url)\n",
    "    \n",
    "# 11~20페이지, 다음버튼까지 클릭 - 21페이지\n",
    "driver.find_element_by_xpath('//*[@id=\"content\"]/div[2]/table[2]/tbody/tr/td[2]/table/tbody/tr/td['+str(i)+']/a').click()\n",
    "time.sleep(0.5)"
   ]
  },
  {
   "cell_type": "code",
   "execution_count": 278,
   "id": "7a59fd88",
   "metadata": {},
   "outputs": [
    {
     "data": {
      "text/plain": [
       "'https://finance.naver.com/item/board.naver?code=035720&page=16519'"
      ]
     },
     "execution_count": 278,
     "metadata": {},
     "output_type": "execute_result"
    }
   ],
   "source": [
    "driver.current_url"
   ]
  },
  {
   "cell_type": "code",
   "execution_count": null,
   "id": "6043a10f",
   "metadata": {},
   "outputs": [],
   "source": []
  },
  {
   "cell_type": "markdown",
   "id": "45f4ee11",
   "metadata": {},
   "source": [
    "### 테스트데이터 수집 (2022.04.18~04.27)"
   ]
  },
  {
   "cell_type": "code",
   "execution_count": 4,
   "id": "a1ea72d1",
   "metadata": {},
   "outputs": [],
   "source": [
    "from selenium import webdriver\n",
    "import time\n",
    "\n",
    "from bs4 import BeautifulSoup\n",
    "from urllib.request import urlopen\n",
    "from urllib.request import Request\n",
    "import pandas as pd\n",
    "import numpy as np"
   ]
  },
  {
   "cell_type": "code",
   "execution_count": 5,
   "id": "1eaba332",
   "metadata": {},
   "outputs": [
    {
     "name": "stderr",
     "output_type": "stream",
     "text": [
      "C:\\Users\\admin\\AppData\\Local\\Temp/ipykernel_20112/627124562.py:2: DeprecationWarning: executable_path has been deprecated, please pass in a Service object\n",
      "  driver = webdriver.Chrome('./driver/chromedriver')\n"
     ]
    }
   ],
   "source": [
    "# 크롬 웹브라우저 실행\n",
    "driver = webdriver.Chrome('./driver/chromedriver')"
   ]
  },
  {
   "cell_type": "code",
   "execution_count": 9,
   "id": "717e3fe9",
   "metadata": {},
   "outputs": [],
   "source": [
    "# 빈리스트생성\n",
    "date = []\n",
    "title = []\n",
    "url = []\n",
    "\n",
    "# 네이버증권 페이지 이동 \n",
    "base_url = 'https://finance.naver.com/item/board.naver?code=035720&page='\n",
    "# 84페이지까지\n",
    "last_page = 84\n",
    "\n",
    "num = 1"
   ]
  },
  {
   "cell_type": "code",
   "execution_count": 10,
   "id": "909b91a7",
   "metadata": {},
   "outputs": [],
   "source": [
    "\n",
    "while num <= last_page :\n",
    "    driver.get('https://finance.naver.com/item/board.naver?code=035720&page='+str(num))\n",
    "\n",
    "    # 해당 페이지 소스 가져오기\n",
    "    req = driver.page_source\n",
    "    soup = BeautifulSoup(req, 'html.parser')\n",
    "\n",
    "    # 테이블 tr 전체 가져오기 \n",
    "    for i in range(3,26) : \n",
    "        boxes = soup.select('#content > div.section.inner_sub > table.type2 > tbody > tr:nth-child('+str(i)+')')\n",
    "    #         print(boxes)\n",
    "\n",
    "        # tr 코드 하나씩 for문으로 읽기\n",
    "        for box in boxes :\n",
    "\n",
    "            # 중간에 구분선 tr이 있어서 에러발생. 예외처리\n",
    "            try :\n",
    "                # 2022~2020 년도 작성글만 수집\n",
    "                year_check = box.find('span',{'class':'tah p10 gray03'}).text[:-6]\n",
    "\n",
    "                if \"2022.04.17\" not in year_check : \n",
    "\n",
    "                    # 날짜\n",
    "                    date.append(year_check)\n",
    "                    # 제목\n",
    "                    title.append(box.find('a')['title'])\n",
    "                    # url\n",
    "                    url.append(box.find('a')['href'])\n",
    "\n",
    "            except :\n",
    "                continue\n",
    "\n",
    "    # VIEW탭에서 수집한 url 데이터프레임\n",
    "    discuss_df = pd.DataFrame({'작성일':date,'제목':title,'url':url})\n",
    "    \n",
    "    if num%5 == 0 :\n",
    "        discuss_df.to_csv('./crawl_data/test_discuss.csv')\n",
    "    \n",
    "    num+=1"
   ]
  },
  {
   "cell_type": "code",
   "execution_count": 13,
   "id": "8a8c19eb",
   "metadata": {},
   "outputs": [],
   "source": [
    "discuss_df_1 = discuss_df.drop(1667)\n",
    "discuss_df_1\n",
    "discuss_df_1.to_csv('./crawl_data/test_discuss.csv')"
   ]
  },
  {
   "cell_type": "code",
   "execution_count": 14,
   "id": "96d6c206",
   "metadata": {},
   "outputs": [],
   "source": [
    "driver.close()"
   ]
  }
 ],
 "metadata": {
  "kernelspec": {
   "display_name": "Python 3 (ipykernel)",
   "language": "python",
   "name": "python3"
  },
  "language_info": {
   "codemirror_mode": {
    "name": "ipython",
    "version": 3
   },
   "file_extension": ".py",
   "mimetype": "text/x-python",
   "name": "python",
   "nbconvert_exporter": "python",
   "pygments_lexer": "ipython3",
   "version": "3.9.7"
  }
 },
 "nbformat": 4,
 "nbformat_minor": 5
}
