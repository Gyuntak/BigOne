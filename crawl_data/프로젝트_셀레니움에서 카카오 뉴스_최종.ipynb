{
 "cells": [
  {
   "cell_type": "code",
   "execution_count": 1,
   "id": "778f841f",
   "metadata": {},
   "outputs": [],
   "source": [
    "import selenium\n",
    "from selenium import webdriver\n",
    "import pandas as pd\n",
    "import numpy as np\n",
    "from bs4 import BeautifulSoup\n",
    "from time import sleep\n",
    "import requests"
   ]
  },
  {
   "cell_type": "code",
   "execution_count": 3,
   "id": "1a9ddb60",
   "metadata": {},
   "outputs": [
    {
     "name": "stderr",
     "output_type": "stream",
     "text": [
      "C:\\Users\\Seyoon\\AppData\\Local\\Temp/ipykernel_20096/1323713230.py:2: DeprecationWarning: executable_path has been deprecated, please pass in a Service object\n",
      "  driver = webdriver.Chrome('./driver/chromedriver')\n"
     ]
    }
   ],
   "source": [
    "# webdriber 객체 생성\n",
    "driver = webdriver.Chrome('./driver/chromedriver')"
   ]
  },
  {
   "cell_type": "code",
   "execution_count": 43,
   "id": "8966c4d6",
   "metadata": {},
   "outputs": [],
   "source": [
    "# 빈 리스트 만들기\n",
    "title_list = []\n",
    "date_list = []\n",
    "content_list = []\n",
    "link_list = []"
   ]
  },
  {
   "cell_type": "code",
   "execution_count": 44,
   "id": "63292dde",
   "metadata": {},
   "outputs": [
    {
     "name": "stderr",
     "output_type": "stream",
     "text": [
      "C:\\Users\\Seyoon\\AppData\\Local\\Temp/ipykernel_20096/1395615720.py:2: DeprecationWarning: executable_path has been deprecated, please pass in a Service object\n",
      "  driver = webdriver.Chrome('./driver/chromedriver')\n"
     ]
    }
   ],
   "source": [
    "# 페이지 접근\n",
    "driver = webdriver.Chrome('./driver/chromedriver')\n",
    "url = 'https://www.kakaocorp.com/page/news'\n",
    "driver.get(url)"
   ]
  },
  {
   "cell_type": "code",
   "execution_count": 76,
   "id": "d069af67",
   "metadata": {},
   "outputs": [
    {
     "name": "stderr",
     "output_type": "stream",
     "text": [
      "C:\\Users\\Seyoon\\AppData\\Local\\Temp/ipykernel_20096/3112377082.py:4: DeprecationWarning: find_elements_by_class_name is deprecated. Please use find_elements(by=By.CLASS_NAME, value=name) instead\n",
      "  card_link = driver.find_elements_by_class_name(\"link_item\")\n"
     ]
    },
    {
     "name": "stdout",
     "output_type": "stream",
     "text": [
      "https://www.kakaocorp.com/page/detail/8772\n",
      "https://www.kakaocorp.com/page/detail/8771\n",
      "https://www.kakaocorp.com/page/detail/8770\n",
      "https://www.kakaocorp.com/page/detail/8769\n",
      "https://www.kakaocorp.com/page/detail/8768\n",
      "https://www.kakaocorp.com/page/detail/8767\n",
      "https://www.kakaocorp.com/page/detail/8766\n",
      "https://www.kakaocorp.com/page/detail/8765\n",
      "https://www.kakaocorp.com/page/detail/8764\n",
      "https://www.kakaocorp.com/page/detail/8763\n",
      "https://www.kakaocorp.com/page/detail/8762\n",
      "https://www.kakaocorp.com/page/detail/8761\n"
     ]
    },
    {
     "name": "stderr",
     "output_type": "stream",
     "text": [
      "C:\\Users\\Seyoon\\AppData\\Local\\Temp/ipykernel_20096/3112377082.py:13: DeprecationWarning: find_element_by_xpath is deprecated. Please use find_element(by=By.XPATH, value=xpath) instead\n",
      "  next_btn = driver.find_element_by_xpath(x_path)\n"
     ]
    }
   ],
   "source": [
    "# 필요한 링크 반복작업ㅎ..페이지가..29쪽이 될때까지 이 코드 반복 실행 함ㅎㅎ...\n",
    "\n",
    "\n",
    "card_link = driver.find_elements_by_class_name(\"link_item\")\n",
    "\n",
    "for i in card_link:\n",
    "    href = i.get_attribute('href')\n",
    "    print(href)\n",
    "    link_list.append(href)\n",
    "\n",
    "# 다음페이지 이동\n",
    "x_path = '//*[@id=\"mainContent\"]/div/article/section/div[2]/button[2]'\n",
    "next_btn = driver.find_element_by_xpath(x_path)\n",
    "next_btn.click()\n",
    "\n"
   ]
  },
  {
   "cell_type": "code",
   "execution_count": 89,
   "id": "d74fad6e",
   "metadata": {},
   "outputs": [
    {
     "data": {
      "text/plain": [
       "['https://www.kakaocorp.com/page/detail/9702',\n",
       " 'https://www.kakaocorp.com/page/detail/9701',\n",
       " 'https://www.kakaocorp.com/page/detail/9700',\n",
       " 'https://www.kakaocorp.com/page/detail/9699',\n",
       " 'https://www.kakaocorp.com/page/detail/9698',\n",
       " 'https://www.kakaocorp.com/page/detail/9697',\n",
       " 'https://www.kakaocorp.com/page/detail/9696',\n",
       " 'https://www.kakaocorp.com/page/detail/9695',\n",
       " 'https://www.kakaocorp.com/page/detail/9694',\n",
       " 'https://www.kakaocorp.com/page/detail/9693',\n",
       " 'https://www.kakaocorp.com/page/detail/9692',\n",
       " 'https://www.kakaocorp.com/page/detail/9691',\n",
       " 'https://www.kakaocorp.com/page/detail/9689',\n",
       " 'https://www.kakaocorp.com/page/detail/9690',\n",
       " 'https://www.kakaocorp.com/page/detail/9688',\n",
       " 'https://www.kakaocorp.com/page/detail/9687',\n",
       " 'https://www.kakaocorp.com/page/detail/9686',\n",
       " 'https://www.kakaocorp.com/page/detail/9685',\n",
       " 'https://www.kakaocorp.com/page/detail/9684',\n",
       " 'https://www.kakaocorp.com/page/detail/9683',\n",
       " 'https://www.kakaocorp.com/page/detail/9682',\n",
       " 'https://www.kakaocorp.com/page/detail/9681',\n",
       " 'https://www.kakaocorp.com/page/detail/9680',\n",
       " 'https://www.kakaocorp.com/page/detail/9679',\n",
       " 'https://www.kakaocorp.com/page/detail/9678',\n",
       " 'https://www.kakaocorp.com/page/detail/9676',\n",
       " 'https://www.kakaocorp.com/page/detail/9675',\n",
       " 'https://www.kakaocorp.com/page/detail/9674',\n",
       " 'https://www.kakaocorp.com/page/detail/9673',\n",
       " 'https://www.kakaocorp.com/page/detail/9672',\n",
       " 'https://www.kakaocorp.com/page/detail/9671',\n",
       " 'https://www.kakaocorp.com/page/detail/9670',\n",
       " 'https://www.kakaocorp.com/page/detail/9669',\n",
       " 'https://www.kakaocorp.com/page/detail/9668',\n",
       " 'https://www.kakaocorp.com/page/detail/9666',\n",
       " 'https://www.kakaocorp.com/page/detail/9665',\n",
       " 'https://www.kakaocorp.com/page/detail/9664',\n",
       " 'https://www.kakaocorp.com/page/detail/9663',\n",
       " 'https://www.kakaocorp.com/page/detail/9662',\n",
       " 'https://www.kakaocorp.com/page/detail/9661',\n",
       " 'https://www.kakaocorp.com/page/detail/9660',\n",
       " 'https://www.kakaocorp.com/page/detail/9659',\n",
       " 'https://www.kakaocorp.com/page/detail/9658',\n",
       " 'https://www.kakaocorp.com/page/detail/9656',\n",
       " 'https://www.kakaocorp.com/page/detail/9655',\n",
       " 'https://www.kakaocorp.com/page/detail/9654',\n",
       " 'https://www.kakaocorp.com/page/detail/9650',\n",
       " 'https://www.kakaocorp.com/page/detail/9649',\n",
       " 'https://www.kakaocorp.com/page/detail/9648',\n",
       " 'https://www.kakaocorp.com/page/detail/9647',\n",
       " 'https://www.kakaocorp.com/page/detail/9646',\n",
       " 'https://www.kakaocorp.com/page/detail/9645',\n",
       " 'https://www.kakaocorp.com/page/detail/9644',\n",
       " 'https://www.kakaocorp.com/page/detail/9643',\n",
       " 'https://www.kakaocorp.com/page/detail/9642',\n",
       " 'https://www.kakaocorp.com/page/detail/9641',\n",
       " 'https://www.kakaocorp.com/page/detail/9640',\n",
       " 'https://www.kakaocorp.com/page/detail/9639',\n",
       " 'https://www.kakaocorp.com/page/detail/9638',\n",
       " 'https://www.kakaocorp.com/page/detail/9637',\n",
       " 'https://www.kakaocorp.com/page/detail/9636',\n",
       " 'https://www.kakaocorp.com/page/detail/9635',\n",
       " 'https://www.kakaocorp.com/page/detail/9633',\n",
       " 'https://www.kakaocorp.com/page/detail/9632',\n",
       " 'https://www.kakaocorp.com/page/detail/9631',\n",
       " 'https://www.kakaocorp.com/page/detail/9629',\n",
       " 'https://www.kakaocorp.com/page/detail/9627',\n",
       " 'https://www.kakaocorp.com/page/detail/9626',\n",
       " 'https://www.kakaocorp.com/page/detail/9623',\n",
       " 'https://www.kakaocorp.com/page/detail/9618',\n",
       " 'https://www.kakaocorp.com/page/detail/9617',\n",
       " 'https://www.kakaocorp.com/page/detail/9616',\n",
       " 'https://www.kakaocorp.com/page/detail/9615',\n",
       " 'https://www.kakaocorp.com/page/detail/9614',\n",
       " 'https://www.kakaocorp.com/page/detail/9613',\n",
       " 'https://www.kakaocorp.com/page/detail/9612',\n",
       " 'https://www.kakaocorp.com/page/detail/9611',\n",
       " 'https://www.kakaocorp.com/page/detail/9610',\n",
       " 'https://www.kakaocorp.com/page/detail/9609',\n",
       " 'https://www.kakaocorp.com/page/detail/9608',\n",
       " 'https://www.kakaocorp.com/page/detail/9607',\n",
       " 'https://www.kakaocorp.com/page/detail/9606',\n",
       " 'https://www.kakaocorp.com/page/detail/9605',\n",
       " 'https://www.kakaocorp.com/page/detail/9604',\n",
       " 'https://www.kakaocorp.com/page/detail/9603',\n",
       " 'https://www.kakaocorp.com/page/detail/9602',\n",
       " 'https://www.kakaocorp.com/page/detail/9601',\n",
       " 'https://www.kakaocorp.com/page/detail/9600',\n",
       " 'https://www.kakaocorp.com/page/detail/9594',\n",
       " 'https://www.kakaocorp.com/page/detail/9593',\n",
       " 'https://www.kakaocorp.com/page/detail/9592',\n",
       " 'https://www.kakaocorp.com/page/detail/9590',\n",
       " 'https://www.kakaocorp.com/page/detail/9591',\n",
       " 'https://www.kakaocorp.com/page/detail/9589',\n",
       " 'https://www.kakaocorp.com/page/detail/9588',\n",
       " 'https://www.kakaocorp.com/page/detail/9587',\n",
       " 'https://www.kakaocorp.com/page/detail/9585',\n",
       " 'https://www.kakaocorp.com/page/detail/9584',\n",
       " 'https://www.kakaocorp.com/page/detail/9583',\n",
       " 'https://www.kakaocorp.com/page/detail/9582',\n",
       " 'https://www.kakaocorp.com/page/detail/9581',\n",
       " 'https://www.kakaocorp.com/page/detail/9580',\n",
       " 'https://www.kakaocorp.com/page/detail/9634',\n",
       " 'https://www.kakaocorp.com/page/detail/9578',\n",
       " 'https://www.kakaocorp.com/page/detail/9577',\n",
       " 'https://www.kakaocorp.com/page/detail/9576',\n",
       " 'https://www.kakaocorp.com/page/detail/9575',\n",
       " 'https://www.kakaocorp.com/page/detail/9574',\n",
       " 'https://www.kakaocorp.com/page/detail/9573',\n",
       " 'https://www.kakaocorp.com/page/detail/9571',\n",
       " 'https://www.kakaocorp.com/page/detail/9570',\n",
       " 'https://www.kakaocorp.com/page/detail/9569',\n",
       " 'https://www.kakaocorp.com/page/detail/9568',\n",
       " 'https://www.kakaocorp.com/page/detail/9567',\n",
       " 'https://www.kakaocorp.com/page/detail/9566',\n",
       " 'https://www.kakaocorp.com/page/detail/9565',\n",
       " 'https://www.kakaocorp.com/page/detail/9564',\n",
       " 'https://www.kakaocorp.com/page/detail/9562',\n",
       " 'https://www.kakaocorp.com/page/detail/9560',\n",
       " 'https://www.kakaocorp.com/page/detail/9559',\n",
       " 'https://www.kakaocorp.com/page/detail/9563',\n",
       " 'https://www.kakaocorp.com/page/detail/9558',\n",
       " 'https://www.kakaocorp.com/page/detail/9557',\n",
       " 'https://www.kakaocorp.com/page/detail/9556',\n",
       " 'https://www.kakaocorp.com/page/detail/9572',\n",
       " 'https://www.kakaocorp.com/page/detail/9555',\n",
       " 'https://www.kakaocorp.com/page/detail/9552',\n",
       " 'https://www.kakaocorp.com/page/detail/9551',\n",
       " 'https://www.kakaocorp.com/page/detail/9550',\n",
       " 'https://www.kakaocorp.com/page/detail/9547',\n",
       " 'https://www.kakaocorp.com/page/detail/9546',\n",
       " 'https://www.kakaocorp.com/page/detail/9545',\n",
       " 'https://www.kakaocorp.com/page/detail/9544',\n",
       " 'https://www.kakaocorp.com/page/detail/9543',\n",
       " 'https://www.kakaocorp.com/page/detail/9540',\n",
       " 'https://www.kakaocorp.com/page/detail/9561',\n",
       " 'https://www.kakaocorp.com/page/detail/9554',\n",
       " 'https://www.kakaocorp.com/page/detail/9539',\n",
       " 'https://www.kakaocorp.com/page/detail/9537',\n",
       " 'https://www.kakaocorp.com/page/detail/9534',\n",
       " 'https://www.kakaocorp.com/page/detail/9533',\n",
       " 'https://www.kakaocorp.com/page/detail/9530',\n",
       " 'https://www.kakaocorp.com/page/detail/9509',\n",
       " 'https://www.kakaocorp.com/page/detail/9508',\n",
       " 'https://www.kakaocorp.com/page/detail/9529',\n",
       " 'https://www.kakaocorp.com/page/detail/9507',\n",
       " 'https://www.kakaocorp.com/page/detail/9504',\n",
       " 'https://www.kakaocorp.com/page/detail/9503',\n",
       " 'https://www.kakaocorp.com/page/detail/9502',\n",
       " 'https://www.kakaocorp.com/page/detail/9471',\n",
       " 'https://www.kakaocorp.com/page/detail/9492',\n",
       " 'https://www.kakaocorp.com/page/detail/9528',\n",
       " 'https://www.kakaocorp.com/page/detail/9489',\n",
       " 'https://www.kakaocorp.com/page/detail/9493',\n",
       " 'https://www.kakaocorp.com/page/detail/9488',\n",
       " 'https://www.kakaocorp.com/page/detail/9470',\n",
       " 'https://www.kakaocorp.com/page/detail/9468',\n",
       " 'https://www.kakaocorp.com/page/detail/9467',\n",
       " 'https://www.kakaocorp.com/page/detail/9465',\n",
       " 'https://www.kakaocorp.com/page/detail/9464',\n",
       " 'https://www.kakaocorp.com/page/detail/9494',\n",
       " 'https://www.kakaocorp.com/page/detail/9466',\n",
       " 'https://www.kakaocorp.com/page/detail/9463',\n",
       " 'https://www.kakaocorp.com/page/detail/9462',\n",
       " 'https://www.kakaocorp.com/page/detail/9495',\n",
       " 'https://www.kakaocorp.com/page/detail/9461',\n",
       " 'https://www.kakaocorp.com/page/detail/9460',\n",
       " 'https://www.kakaocorp.com/page/detail/9496',\n",
       " 'https://www.kakaocorp.com/page/detail/9459',\n",
       " 'https://www.kakaocorp.com/page/detail/9458',\n",
       " 'https://www.kakaocorp.com/page/detail/9457',\n",
       " 'https://www.kakaocorp.com/page/detail/9454',\n",
       " 'https://www.kakaocorp.com/page/detail/9497',\n",
       " 'https://www.kakaocorp.com/page/detail/9401',\n",
       " 'https://www.kakaocorp.com/page/detail/9362',\n",
       " 'https://www.kakaocorp.com/page/detail/9498',\n",
       " 'https://www.kakaocorp.com/page/detail/9412',\n",
       " 'https://www.kakaocorp.com/page/detail/9527',\n",
       " 'https://www.kakaocorp.com/page/detail/9408',\n",
       " 'https://www.kakaocorp.com/page/detail/9356',\n",
       " 'https://www.kakaocorp.com/page/detail/9360',\n",
       " 'https://www.kakaocorp.com/page/detail/5213',\n",
       " 'https://www.kakaocorp.com/page/detail/5215',\n",
       " 'https://www.kakaocorp.com/page/detail/5192',\n",
       " 'https://www.kakaocorp.com/page/detail/5191',\n",
       " 'https://www.kakaocorp.com/page/detail/5218',\n",
       " 'https://www.kakaocorp.com/page/detail/9499',\n",
       " 'https://www.kakaocorp.com/page/detail/5212',\n",
       " 'https://www.kakaocorp.com/page/detail/5211',\n",
       " 'https://www.kakaocorp.com/page/detail/5210',\n",
       " 'https://www.kakaocorp.com/page/detail/5208',\n",
       " 'https://www.kakaocorp.com/page/detail/5207',\n",
       " 'https://www.kakaocorp.com/page/detail/5206',\n",
       " 'https://www.kakaocorp.com/page/detail/5185',\n",
       " 'https://www.kakaocorp.com/page/detail/9500',\n",
       " 'https://www.kakaocorp.com/page/detail/5178',\n",
       " 'https://www.kakaocorp.com/page/detail/5177',\n",
       " 'https://www.kakaocorp.com/page/detail/9411',\n",
       " 'https://www.kakaocorp.com/page/detail/5175',\n",
       " 'https://www.kakaocorp.com/page/detail/9501',\n",
       " 'https://www.kakaocorp.com/page/detail/5214',\n",
       " 'https://www.kakaocorp.com/page/detail/5165',\n",
       " 'https://www.kakaocorp.com/page/detail/9410',\n",
       " 'https://www.kakaocorp.com/page/detail/9405',\n",
       " 'https://www.kakaocorp.com/page/detail/4861',\n",
       " 'https://www.kakaocorp.com/page/detail/9316',\n",
       " 'https://www.kakaocorp.com/page/detail/9315',\n",
       " 'https://www.kakaocorp.com/page/detail/9409',\n",
       " 'https://www.kakaocorp.com/page/detail/9317',\n",
       " 'https://www.kakaocorp.com/page/detail/9322',\n",
       " 'https://www.kakaocorp.com/page/detail/9407',\n",
       " 'https://www.kakaocorp.com/page/detail/5078',\n",
       " 'https://www.kakaocorp.com/page/detail/9404',\n",
       " 'https://www.kakaocorp.com/page/detail/9403',\n",
       " 'https://www.kakaocorp.com/page/detail/9324',\n",
       " 'https://www.kakaocorp.com/page/detail/9326',\n",
       " 'https://www.kakaocorp.com/page/detail/9325',\n",
       " 'https://www.kakaocorp.com/page/detail/9487',\n",
       " 'https://www.kakaocorp.com/page/detail/9327',\n",
       " 'https://www.kakaocorp.com/page/detail/9328',\n",
       " 'https://www.kakaocorp.com/page/detail/9329',\n",
       " 'https://www.kakaocorp.com/page/detail/9526',\n",
       " 'https://www.kakaocorp.com/page/detail/9330',\n",
       " 'https://www.kakaocorp.com/page/detail/9331',\n",
       " 'https://www.kakaocorp.com/page/detail/9406',\n",
       " 'https://www.kakaocorp.com/page/detail/9332',\n",
       " 'https://www.kakaocorp.com/page/detail/9333',\n",
       " 'https://www.kakaocorp.com/page/detail/9335',\n",
       " 'https://www.kakaocorp.com/page/detail/9334',\n",
       " 'https://www.kakaocorp.com/page/detail/9525',\n",
       " 'https://www.kakaocorp.com/page/detail/9402',\n",
       " 'https://www.kakaocorp.com/page/detail/9336',\n",
       " 'https://www.kakaocorp.com/page/detail/9337',\n",
       " 'https://www.kakaocorp.com/page/detail/9338',\n",
       " 'https://www.kakaocorp.com/page/detail/8877',\n",
       " 'https://www.kakaocorp.com/page/detail/8876',\n",
       " 'https://www.kakaocorp.com/page/detail/8875',\n",
       " 'https://www.kakaocorp.com/page/detail/8874',\n",
       " 'https://www.kakaocorp.com/page/detail/8873',\n",
       " 'https://www.kakaocorp.com/page/detail/8872',\n",
       " 'https://www.kakaocorp.com/page/detail/8871',\n",
       " 'https://www.kakaocorp.com/page/detail/8870',\n",
       " 'https://www.kakaocorp.com/page/detail/8869',\n",
       " 'https://www.kakaocorp.com/page/detail/8868',\n",
       " 'https://www.kakaocorp.com/page/detail/8867',\n",
       " 'https://www.kakaocorp.com/page/detail/8866',\n",
       " 'https://www.kakaocorp.com/page/detail/8865',\n",
       " 'https://www.kakaocorp.com/page/detail/8864',\n",
       " 'https://www.kakaocorp.com/page/detail/8863',\n",
       " 'https://www.kakaocorp.com/page/detail/8862',\n",
       " 'https://www.kakaocorp.com/page/detail/8860',\n",
       " 'https://www.kakaocorp.com/page/detail/8859',\n",
       " 'https://www.kakaocorp.com/page/detail/8861',\n",
       " 'https://www.kakaocorp.com/page/detail/8858',\n",
       " 'https://www.kakaocorp.com/page/detail/8857',\n",
       " 'https://www.kakaocorp.com/page/detail/8856',\n",
       " 'https://www.kakaocorp.com/page/detail/8855',\n",
       " 'https://www.kakaocorp.com/page/detail/8853',\n",
       " 'https://www.kakaocorp.com/page/detail/8852',\n",
       " 'https://www.kakaocorp.com/page/detail/8851',\n",
       " 'https://www.kakaocorp.com/page/detail/8850',\n",
       " 'https://www.kakaocorp.com/page/detail/8849',\n",
       " 'https://www.kakaocorp.com/page/detail/8848',\n",
       " 'https://www.kakaocorp.com/page/detail/8847',\n",
       " 'https://www.kakaocorp.com/page/detail/8846',\n",
       " 'https://www.kakaocorp.com/page/detail/8845',\n",
       " 'https://www.kakaocorp.com/page/detail/8844',\n",
       " 'https://www.kakaocorp.com/page/detail/8843',\n",
       " 'https://www.kakaocorp.com/page/detail/8842',\n",
       " 'https://www.kakaocorp.com/page/detail/8841',\n",
       " 'https://www.kakaocorp.com/page/detail/8840',\n",
       " 'https://www.kakaocorp.com/page/detail/8839',\n",
       " 'https://www.kakaocorp.com/page/detail/8837',\n",
       " 'https://www.kakaocorp.com/page/detail/8836',\n",
       " 'https://www.kakaocorp.com/page/detail/8835',\n",
       " 'https://www.kakaocorp.com/page/detail/8834',\n",
       " 'https://www.kakaocorp.com/page/detail/8833',\n",
       " 'https://www.kakaocorp.com/page/detail/8832',\n",
       " 'https://www.kakaocorp.com/page/detail/8831',\n",
       " 'https://www.kakaocorp.com/page/detail/8830',\n",
       " 'https://www.kakaocorp.com/page/detail/8829',\n",
       " 'https://www.kakaocorp.com/page/detail/8828',\n",
       " 'https://www.kakaocorp.com/page/detail/8827',\n",
       " 'https://www.kakaocorp.com/page/detail/8826',\n",
       " 'https://www.kakaocorp.com/page/detail/8825',\n",
       " 'https://www.kakaocorp.com/page/detail/8824',\n",
       " 'https://www.kakaocorp.com/page/detail/8823',\n",
       " 'https://www.kakaocorp.com/page/detail/8822',\n",
       " 'https://www.kakaocorp.com/page/detail/8821',\n",
       " 'https://www.kakaocorp.com/page/detail/8820',\n",
       " 'https://www.kakaocorp.com/page/detail/8818',\n",
       " 'https://www.kakaocorp.com/page/detail/8817',\n",
       " 'https://www.kakaocorp.com/page/detail/8816',\n",
       " 'https://www.kakaocorp.com/page/detail/8815',\n",
       " 'https://www.kakaocorp.com/page/detail/8814',\n",
       " 'https://www.kakaocorp.com/page/detail/8813',\n",
       " 'https://www.kakaocorp.com/page/detail/8812',\n",
       " 'https://www.kakaocorp.com/page/detail/8811',\n",
       " 'https://www.kakaocorp.com/page/detail/8810',\n",
       " 'https://www.kakaocorp.com/page/detail/8809',\n",
       " 'https://www.kakaocorp.com/page/detail/8808',\n",
       " 'https://www.kakaocorp.com/page/detail/8807',\n",
       " 'https://www.kakaocorp.com/page/detail/8806',\n",
       " 'https://www.kakaocorp.com/page/detail/8805',\n",
       " 'https://www.kakaocorp.com/page/detail/8804',\n",
       " 'https://www.kakaocorp.com/page/detail/8803',\n",
       " 'https://www.kakaocorp.com/page/detail/8802',\n",
       " 'https://www.kakaocorp.com/page/detail/8801',\n",
       " 'https://www.kakaocorp.com/page/detail/8800',\n",
       " 'https://www.kakaocorp.com/page/detail/8799',\n",
       " 'https://www.kakaocorp.com/page/detail/8798',\n",
       " 'https://www.kakaocorp.com/page/detail/8797',\n",
       " 'https://www.kakaocorp.com/page/detail/8796',\n",
       " 'https://www.kakaocorp.com/page/detail/8795',\n",
       " 'https://www.kakaocorp.com/page/detail/8794',\n",
       " 'https://www.kakaocorp.com/page/detail/8793',\n",
       " 'https://www.kakaocorp.com/page/detail/8792',\n",
       " 'https://www.kakaocorp.com/page/detail/8791',\n",
       " 'https://www.kakaocorp.com/page/detail/8790',\n",
       " 'https://www.kakaocorp.com/page/detail/8789',\n",
       " 'https://www.kakaocorp.com/page/detail/8788',\n",
       " 'https://www.kakaocorp.com/page/detail/8787',\n",
       " 'https://www.kakaocorp.com/page/detail/8786',\n",
       " 'https://www.kakaocorp.com/page/detail/8785',\n",
       " 'https://www.kakaocorp.com/page/detail/8783',\n",
       " 'https://www.kakaocorp.com/page/detail/8784',\n",
       " 'https://www.kakaocorp.com/page/detail/8782',\n",
       " 'https://www.kakaocorp.com/page/detail/8781',\n",
       " 'https://www.kakaocorp.com/page/detail/8780',\n",
       " 'https://www.kakaocorp.com/page/detail/8779',\n",
       " 'https://www.kakaocorp.com/page/detail/8778',\n",
       " 'https://www.kakaocorp.com/page/detail/8777',\n",
       " 'https://www.kakaocorp.com/page/detail/8775',\n",
       " 'https://www.kakaocorp.com/page/detail/8776',\n",
       " 'https://www.kakaocorp.com/page/detail/8773',\n",
       " 'https://www.kakaocorp.com/page/detail/8774',\n",
       " 'https://www.kakaocorp.com/page/detail/8772',\n",
       " 'https://www.kakaocorp.com/page/detail/8771',\n",
       " 'https://www.kakaocorp.com/page/detail/8770',\n",
       " 'https://www.kakaocorp.com/page/detail/8769',\n",
       " 'https://www.kakaocorp.com/page/detail/8768',\n",
       " 'https://www.kakaocorp.com/page/detail/8767',\n",
       " 'https://www.kakaocorp.com/page/detail/8766',\n",
       " 'https://www.kakaocorp.com/page/detail/8765',\n",
       " 'https://www.kakaocorp.com/page/detail/8764',\n",
       " 'https://www.kakaocorp.com/page/detail/8763',\n",
       " 'https://www.kakaocorp.com/page/detail/8762',\n",
       " 'https://www.kakaocorp.com/page/detail/8761']"
      ]
     },
     "execution_count": 89,
     "metadata": {},
     "output_type": "execute_result"
    }
   ],
   "source": [
    "# 크롤링 해야하는 기사 목록\n",
    "link_list"
   ]
  },
  {
   "cell_type": "code",
   "execution_count": 90,
   "id": "cd25dad0",
   "metadata": {},
   "outputs": [],
   "source": [
    "html = requests.get(url).text \n",
    "soup = BeautifulSoup(html, 'html.parser')"
   ]
  },
  {
   "cell_type": "code",
   "execution_count": 91,
   "id": "3109a459",
   "metadata": {},
   "outputs": [
    {
     "name": "stderr",
     "output_type": "stream",
     "text": [
      "C:\\Users\\Seyoon\\AppData\\Local\\Temp/ipykernel_20096/1464896314.py:3: DeprecationWarning: find_element_by_xpath is deprecated. Please use find_element(by=By.XPATH, value=xpath) instead\n",
      "  next_btn = driver.find_element_by_xpath(x_path)\n"
     ]
    }
   ],
   "source": [
    "# 다음페이지 이동\n",
    "x_path = '//*[@id=\"mainContent\"]/div/article/section/div[2]/button[2]'\n",
    "next_btn = driver.find_element_by_xpath(x_path)\n",
    "next_btn.click()"
   ]
  },
  {
   "cell_type": "code",
   "execution_count": 92,
   "id": "b9e3ea70",
   "metadata": {},
   "outputs": [
    {
     "name": "stderr",
     "output_type": "stream",
     "text": [
      "C:\\Users\\Seyoon\\AppData\\Local\\Temp/ipykernel_20096/2056830121.py:2: DeprecationWarning: find_elements_by_class_name is deprecated. Please use find_elements(by=By.CLASS_NAME, value=name) instead\n",
      "  card_title = driver.find_elements_by_class_name(\"tit_card\")\n"
     ]
    },
    {
     "name": "stdout",
     "output_type": "stream",
     "text": [
      "카카오싱크, 출시 반 년 만에 비즈니스 파트너 돕는 톡 비즈 솔루션으로 자리잡아\n",
      "카카오, ‘카카오메일’ 베타 서비스 출시\n",
      "'MMA 2019’, 'TOP10 선정' 1차 투표 시작\n",
      "카카오-SKT, 미래 ICT분야 사업 협력을 위한 전략적 파트너십 체결\n",
      "뉴스 및 검색 서비스 개편 계획 발표\n",
      "카카오 뮤직플랫폼 멜론, 11월 30일 ‘MMA 2019’ 개최\n",
      "카카오 콘텐츠 퍼블리싱 플랫폼 브런치, ‘제7회 브런치북 출판 프로젝트’ 개최\n",
      "카카오, ‘카카오메일’ 출시 앞서 ‘마이 워너비 메일주소’ 이벤트 실시\n",
      "카카오임팩트, ‘크리에이터스데이 2019’ 개최...참가자 모집\n",
      "카카오, 이용자 대상 리워드 프로그램 ‘카카오콘’ 출시\n",
      "멜론, ‘모바일 5.0’ 시대 시작! 이용자가 직접 구성하는 ‘홈 편집’ 눈길\n",
      "카카오, 스마트 헬멧 '세나(SENA) 헤이카카오 에디션’ 출시\n"
     ]
    }
   ],
   "source": [
    "# 제목 추출 테스트\n",
    "card_title = driver.find_elements_by_class_name(\"tit_card\")\n",
    "\n",
    "for i in card_title:\n",
    "    title = i.text\n",
    "    print(title)"
   ]
  },
  {
   "cell_type": "code",
   "execution_count": 93,
   "id": "a68a76d8",
   "metadata": {},
   "outputs": [
    {
     "name": "stderr",
     "output_type": "stream",
     "text": [
      "C:\\Users\\Seyoon\\AppData\\Local\\Temp/ipykernel_20096/613491838.py:3: DeprecationWarning: find_elements_by_class_name is deprecated. Please use find_elements(by=By.CLASS_NAME, value=name) instead\n",
      "  card_link = driver.find_elements_by_class_name(\"link_item\")\n"
     ]
    },
    {
     "name": "stdout",
     "output_type": "stream",
     "text": [
      "https://www.kakaocorp.com/page/detail/8735\n",
      "https://www.kakaocorp.com/page/detail/8734\n",
      "https://www.kakaocorp.com/page/detail/8733\n",
      "https://www.kakaocorp.com/page/detail/8731\n",
      "https://www.kakaocorp.com/page/detail/8732\n",
      "https://www.kakaocorp.com/page/detail/8730\n",
      "https://www.kakaocorp.com/page/detail/8729\n",
      "https://www.kakaocorp.com/page/detail/8728\n",
      "https://www.kakaocorp.com/page/detail/8727\n",
      "https://www.kakaocorp.com/page/detail/8726\n",
      "https://www.kakaocorp.com/page/detail/8725\n",
      "https://www.kakaocorp.com/page/detail/8724\n"
     ]
    }
   ],
   "source": [
    "# 링크 좌라락 뽑아내기 테스트\n",
    "\n",
    "card_link = driver.find_elements_by_class_name(\"link_item\")\n",
    "\n",
    "for i in card_link:\n",
    "    href = i.get_attribute('href')\n",
    "    print(href)\n"
   ]
  },
  {
   "cell_type": "code",
   "execution_count": 94,
   "id": "da216c0d",
   "metadata": {},
   "outputs": [
    {
     "name": "stderr",
     "output_type": "stream",
     "text": [
      "C:\\Users\\Seyoon\\AppData\\Local\\Temp/ipykernel_20096/1029344135.py:2: DeprecationWarning: find_elements_by_class_name is deprecated. Please use find_elements(by=By.CLASS_NAME, value=name) instead\n",
      "  driver.find_elements_by_class_name(\"link_item\")[0].click()\n"
     ]
    }
   ],
   "source": [
    "# 첫번째 기사 클릭\n",
    "driver.find_elements_by_class_name(\"link_item\")[0].click()"
   ]
  },
  {
   "cell_type": "code",
   "execution_count": 60,
   "id": "541bd173",
   "metadata": {},
   "outputs": [],
   "source": [
    "# 뒤로가기\n",
    "# driver.back()"
   ]
  },
  {
   "cell_type": "code",
   "execution_count": 95,
   "id": "fdabc4bd",
   "metadata": {},
   "outputs": [
    {
     "name": "stderr",
     "output_type": "stream",
     "text": [
      "C:\\Users\\Seyoon\\AppData\\Local\\Temp/ipykernel_20096/415770913.py:3: DeprecationWarning: find_element_by_xpath is deprecated. Please use find_element(by=By.XPATH, value=xpath) instead\n",
      "  title = driver.find_element_by_xpath(x_path)\n"
     ]
    },
    {
     "data": {
      "text/plain": [
       "'카카오싱크, 출시 반 년 만에 비즈니스 파트너 돕는 톡 비즈 솔루션으로 자리잡아'"
      ]
     },
     "execution_count": 95,
     "metadata": {},
     "output_type": "execute_result"
    }
   ],
   "source": [
    "# 링크 안 제목 추출 테스트\n",
    "x_path='//*[@id=\"mainContent\"]/div/article/div[1]/h3'\n",
    "title = driver.find_element_by_xpath(x_path)\n",
    "title.text"
   ]
  },
  {
   "cell_type": "code",
   "execution_count": 96,
   "id": "fc6567bf",
   "metadata": {},
   "outputs": [
    {
     "name": "stderr",
     "output_type": "stream",
     "text": [
      "C:\\Users\\Seyoon\\AppData\\Local\\Temp/ipykernel_20096/143195731.py:3: DeprecationWarning: find_element_by_xpath is deprecated. Please use find_element(by=By.XPATH, value=xpath) instead\n",
      "  date = driver.find_element_by_xpath(x_path)\n"
     ]
    },
    {
     "data": {
      "text/plain": [
       "'2019년 11월 06일'"
      ]
     },
     "execution_count": 96,
     "metadata": {},
     "output_type": "execute_result"
    }
   ],
   "source": [
    "# 날짜 추출 테스트\n",
    "x_path = '//*[@id=\"mainContent\"]/div/article/div[1]/div[1]/span[2]'\n",
    "date = driver.find_element_by_xpath(x_path)\n",
    "date.text"
   ]
  },
  {
   "cell_type": "code",
   "execution_count": 97,
   "id": "ebc7be5e",
   "metadata": {},
   "outputs": [
    {
     "name": "stderr",
     "output_type": "stream",
     "text": [
      "C:\\Users\\Seyoon\\AppData\\Local\\Temp/ipykernel_20096/1750734620.py:3: DeprecationWarning: find_element_by_xpath is deprecated. Please use find_element(by=By.XPATH, value=xpath) instead\n",
      "  content = driver.find_element_by_xpath(x_path)\n"
     ]
    },
    {
     "data": {
      "text/plain": [
       "''"
      ]
     },
     "execution_count": 97,
     "metadata": {},
     "output_type": "execute_result"
    }
   ],
   "source": [
    "# 내용 추출\n",
    "x_path = '//*[@id=\"mainContent\"]/div/article/div[3]/div'\n",
    "content = driver.find_element_by_xpath(x_path)\n",
    "content.text"
   ]
  },
  {
   "cell_type": "code",
   "execution_count": null,
   "id": "173e1c38",
   "metadata": {},
   "outputs": [],
   "source": [
    "# 링크 페이지를 좌라락 넘겨서\n",
    "# 그 페이지의 제목을 좌라락\n",
    "# 날짜도 좌라락\n",
    "# 내용도 좌라락\n",
    "# 가보자고"
   ]
  },
  {
   "cell_type": "code",
   "execution_count": 98,
   "id": "649b6b0a",
   "metadata": {},
   "outputs": [],
   "source": [
    "# 한 페이지에서 내용 가져오기\n",
    "\n",
    "def all_info() :\n",
    "    # 제목 추출\n",
    "    title_path='//*[@id=\"mainContent\"]/div/article/div[1]/h3'\n",
    "    title = driver.find_element_by_xpath(title_path).text\n",
    "    title_list.append(title)\n",
    "\n",
    "    # 날짜 추출\n",
    "    date_path = '//*[@id=\"mainContent\"]/div/article/div[1]/div[1]/span[2]'\n",
    "    date = driver.find_element_by_xpath(date_path).text\n",
    "    date_list.append(date)\n",
    "\n",
    "    # 내용 추출\n",
    "    con_path = '//*[@id=\"mainContent\"]/div/article/div[3]/div'\n",
    "    content = driver.find_element_by_xpath(con_path).text\n",
    "    content_list.append(content)\n",
    "    \n",
    "    return{'title':title, 'date':date, 'content':content}"
   ]
  },
  {
   "cell_type": "code",
   "execution_count": 99,
   "id": "fe4d7c4e",
   "metadata": {},
   "outputs": [
    {
     "name": "stderr",
     "output_type": "stream",
     "text": [
      "C:\\Users\\Seyoon\\AppData\\Local\\Temp/ipykernel_20096/1215439994.py:6: DeprecationWarning: find_element_by_xpath is deprecated. Please use find_element(by=By.XPATH, value=xpath) instead\n",
      "  title = driver.find_element_by_xpath(title_path).text\n",
      "C:\\Users\\Seyoon\\AppData\\Local\\Temp/ipykernel_20096/1215439994.py:11: DeprecationWarning: find_element_by_xpath is deprecated. Please use find_element(by=By.XPATH, value=xpath) instead\n",
      "  date = driver.find_element_by_xpath(date_path).text\n",
      "C:\\Users\\Seyoon\\AppData\\Local\\Temp/ipykernel_20096/1215439994.py:16: DeprecationWarning: find_element_by_xpath is deprecated. Please use find_element(by=By.XPATH, value=xpath) instead\n",
      "  content = driver.find_element_by_xpath(con_path).text\n"
     ]
    },
    {
     "data": {
      "text/plain": [
       "{'title': '카카오싱크, 출시 반 년 만에 비즈니스 파트너 돕는 톡 비즈 솔루션으로 자리잡아',\n",
       " 'date': '2019년 11월 06일',\n",
       " 'content': ''}"
      ]
     },
     "execution_count": 99,
     "metadata": {},
     "output_type": "execute_result"
    }
   ],
   "source": [
    "# all_info() 테스트\n",
    "all_info()"
   ]
  },
  {
   "cell_type": "code",
   "execution_count": 100,
   "id": "6d6d748f",
   "metadata": {},
   "outputs": [
    {
     "name": "stderr",
     "output_type": "stream",
     "text": [
      "C:\\Users\\Seyoon\\AppData\\Local\\Temp/ipykernel_20096/1858453630.py:1: DeprecationWarning: find_elements_by_class_name is deprecated. Please use find_elements(by=By.CLASS_NAME, value=name) instead\n",
      "  print(len(driver.find_elements_by_class_name(\"link_item\")))\n"
     ]
    },
    {
     "name": "stdout",
     "output_type": "stream",
     "text": [
      "0\n"
     ]
    },
    {
     "name": "stderr",
     "output_type": "stream",
     "text": [
      "C:\\Users\\Seyoon\\AppData\\Local\\Temp/ipykernel_20096/1215439994.py:6: DeprecationWarning: find_element_by_xpath is deprecated. Please use find_element(by=By.XPATH, value=xpath) instead\n",
      "  title = driver.find_element_by_xpath(title_path).text\n",
      "C:\\Users\\Seyoon\\AppData\\Local\\Temp/ipykernel_20096/1215439994.py:11: DeprecationWarning: find_element_by_xpath is deprecated. Please use find_element(by=By.XPATH, value=xpath) instead\n",
      "  date = driver.find_element_by_xpath(date_path).text\n",
      "C:\\Users\\Seyoon\\AppData\\Local\\Temp/ipykernel_20096/1215439994.py:16: DeprecationWarning: find_element_by_xpath is deprecated. Please use find_element(by=By.XPATH, value=xpath) instead\n",
      "  content = driver.find_element_by_xpath(con_path).text\n"
     ]
    }
   ],
   "source": [
    "print(len(driver.find_elements_by_class_name(\"link_item\")))\n",
    "\n",
    "\n",
    "for i in link_list :\n",
    "    driver.get(i)\n",
    "    all_info()\n",
    "    \n",
    "    "
   ]
  },
  {
   "cell_type": "code",
   "execution_count": 101,
   "id": "f37b02d0",
   "metadata": {},
   "outputs": [],
   "source": [
    "news_dict= {'제목':title_list, '내용':content_list, '날짜':date_list}\n",
    "news_df = pd.DataFrame(news_dict)"
   ]
  },
  {
   "cell_type": "code",
   "execution_count": 103,
   "id": "83d94f9c",
   "metadata": {},
   "outputs": [
    {
     "data": {
      "text/html": [
       "<div>\n",
       "<style scoped>\n",
       "    .dataframe tbody tr th:only-of-type {\n",
       "        vertical-align: middle;\n",
       "    }\n",
       "\n",
       "    .dataframe tbody tr th {\n",
       "        vertical-align: top;\n",
       "    }\n",
       "\n",
       "    .dataframe thead th {\n",
       "        text-align: right;\n",
       "    }\n",
       "</style>\n",
       "<table border=\"1\" class=\"dataframe\">\n",
       "  <thead>\n",
       "    <tr style=\"text-align: right;\">\n",
       "      <th></th>\n",
       "      <th>제목</th>\n",
       "      <th>내용</th>\n",
       "      <th>날짜</th>\n",
       "    </tr>\n",
       "  </thead>\n",
       "  <tbody>\n",
       "    <tr>\n",
       "      <th>0</th>\n",
       "      <td>카카오싱크, 출시 반 년 만에 비즈니스 파트너 돕는 톡 비즈 솔루션으로 자리잡아</td>\n",
       "      <td></td>\n",
       "      <td>2019년 11월 06일</td>\n",
       "    </tr>\n",
       "    <tr>\n",
       "      <th>1</th>\n",
       "      <td>카카오 브런치, 브런치북 특별상 수상작 크라우드 펀딩으로</td>\n",
       "      <td>- 브런치, 제9회 브런치북 출판 프로젝트 수상작 활용해 크라우드 펀딩으로 상품 출...</td>\n",
       "      <td>2022년 04월 18일</td>\n",
       "    </tr>\n",
       "    <tr>\n",
       "      <th>2</th>\n",
       "      <td>카카오, 다양한 주제로 ‘카카오 비즈니스 세미나’ 확장 개최</td>\n",
       "      <td>- 세무 강좌, 창업 성공 노하우 등 소상공인에 실질적 도움 되는 강의 확장 개설\\...</td>\n",
       "      <td>2022년 04월 18일</td>\n",
       "    </tr>\n",
       "    <tr>\n",
       "      <th>3</th>\n",
       "      <td>카카오톡에서 주민등록등본 신청하고 발급 받으세요</td>\n",
       "      <td>- 카카오톡 지갑 내 전자증명서 메뉴 통해 정부24의 주요 공공문서를 발급, 열람,...</td>\n",
       "      <td>2022년 04월 15일</td>\n",
       "    </tr>\n",
       "    <tr>\n",
       "      <th>4</th>\n",
       "      <td>카카오엔터프라이즈, 부산광역시교육청과 손잡고 디지털 공교육 환경 혁신 나선다.</td>\n",
       "      <td>- 부산의 초/중/고 학생 및 교원 대상 교육용 카카오워크 무상 제공하며 공교육 스...</td>\n",
       "      <td>2022년 04월 11일</td>\n",
       "    </tr>\n",
       "  </tbody>\n",
       "</table>\n",
       "</div>"
      ],
      "text/plain": [
       "                                             제목  \\\n",
       "0  카카오싱크, 출시 반 년 만에 비즈니스 파트너 돕는 톡 비즈 솔루션으로 자리잡아   \n",
       "1               카카오 브런치, 브런치북 특별상 수상작 크라우드 펀딩으로   \n",
       "2             카카오, 다양한 주제로 ‘카카오 비즈니스 세미나’ 확장 개최   \n",
       "3                    카카오톡에서 주민등록등본 신청하고 발급 받으세요   \n",
       "4   카카오엔터프라이즈, 부산광역시교육청과 손잡고 디지털 공교육 환경 혁신 나선다.   \n",
       "\n",
       "                                                  내용             날짜  \n",
       "0                                                     2019년 11월 06일  \n",
       "1  - 브런치, 제9회 브런치북 출판 프로젝트 수상작 활용해 크라우드 펀딩으로 상품 출...  2022년 04월 18일  \n",
       "2  - 세무 강좌, 창업 성공 노하우 등 소상공인에 실질적 도움 되는 강의 확장 개설\\...  2022년 04월 18일  \n",
       "3  - 카카오톡 지갑 내 전자증명서 메뉴 통해 정부24의 주요 공공문서를 발급, 열람,...  2022년 04월 15일  \n",
       "4  - 부산의 초/중/고 학생 및 교원 대상 교육용 카카오워크 무상 제공하며 공교육 스...  2022년 04월 11일  "
      ]
     },
     "execution_count": 103,
     "metadata": {},
     "output_type": "execute_result"
    }
   ],
   "source": [
    "news_df.head()\n",
    "# news_df.tail() # 내용 왜 크롤링 안되는것도 있냐"
   ]
  },
  {
   "cell_type": "code",
   "execution_count": 131,
   "id": "cf993749",
   "metadata": {},
   "outputs": [
    {
     "data": {
      "text/html": [
       "<div>\n",
       "<style scoped>\n",
       "    .dataframe tbody tr th:only-of-type {\n",
       "        vertical-align: middle;\n",
       "    }\n",
       "\n",
       "    .dataframe tbody tr th {\n",
       "        vertical-align: top;\n",
       "    }\n",
       "\n",
       "    .dataframe thead th {\n",
       "        text-align: right;\n",
       "    }\n",
       "</style>\n",
       "<table border=\"1\" class=\"dataframe\">\n",
       "  <thead>\n",
       "    <tr style=\"text-align: right;\">\n",
       "      <th></th>\n",
       "      <th>제목</th>\n",
       "      <th>내용</th>\n",
       "      <th>날짜</th>\n",
       "    </tr>\n",
       "  </thead>\n",
       "  <tbody>\n",
       "    <tr>\n",
       "      <th>4</th>\n",
       "      <td>카카오엔터프라이즈, 부산광역시교육청과 손잡고 디지털 공교육 환경 혁신 나선다.</td>\n",
       "      <td>- 부산의 초/중/고 학생 및 교원 대상 교육용 카카오워크 무상 제공하며 공교육 스...</td>\n",
       "      <td>2022년 04월 11일</td>\n",
       "    </tr>\n",
       "    <tr>\n",
       "      <th>5</th>\n",
       "      <td>카카오, 2022년 상반기 채용연계형 인턴십 모집</td>\n",
       "      <td>- 000명 규모로 테크 분야 채용연계형 인턴십 진행, 5월 2일까지 홈페이지 접수...</td>\n",
       "      <td>2022년 04월 11일</td>\n",
       "    </tr>\n",
       "    <tr>\n",
       "      <th>6</th>\n",
       "      <td>카카오, 사회와 함께하는 지속 가능 성장 방안 발표</td>\n",
       "      <td>- 사회의 지속가능성 기여 위해 소상공인, 창작자, 플랫폼 종사자 등 파트너 중심의...</td>\n",
       "      <td>2022년 04월 06일</td>\n",
       "    </tr>\n",
       "    <tr>\n",
       "      <th>7</th>\n",
       "      <td>카카오, 카카오톡 오픈채팅에 음성 대화 기능 ‘보이스룸’ 오픈</td>\n",
       "      <td>- 텍스트 기반의 대화 넘어 음성 대화 추가돼 보다 다채롭고 효율적인 커뮤니케이션 ...</td>\n",
       "      <td>2022년 04월 05일</td>\n",
       "    </tr>\n",
       "    <tr>\n",
       "      <th>8</th>\n",
       "      <td>카카오, 서울시와 함께 국내 최초 음악 전문 아레나 공연장 만든다</td>\n",
       "      <td>- 카카오, 최대 28,000명까지 수용 가능한 아레나급 규모 음악 전문 공연장 설...</td>\n",
       "      <td>2022년 04월 04일</td>\n",
       "    </tr>\n",
       "    <tr>\n",
       "      <th>...</th>\n",
       "      <td>...</td>\n",
       "      <td>...</td>\n",
       "      <td>...</td>\n",
       "    </tr>\n",
       "    <tr>\n",
       "      <th>344</th>\n",
       "      <td>카카오톡 선물하기, 졸업 선물 기획전 운영</td>\n",
       "      <td></td>\n",
       "      <td>2020년 02월 19일</td>\n",
       "    </tr>\n",
       "    <tr>\n",
       "      <th>345</th>\n",
       "      <td>카카오, 2019년 4분기 및 연간 실적발표, 연간 매출 3조 898억, 영업이익 ...</td>\n",
       "      <td></td>\n",
       "      <td>2020년 02월 13일</td>\n",
       "    </tr>\n",
       "    <tr>\n",
       "      <th>346</th>\n",
       "      <td>카카오톡 선물하기, 명품 테마 신설해 프리미엄 선물 제품군 확대</td>\n",
       "      <td></td>\n",
       "      <td>2020년 02월 10일</td>\n",
       "    </tr>\n",
       "    <tr>\n",
       "      <th>347</th>\n",
       "      <td>카카오, 포털 다음(Daum)에 골프 중계센터 오픈</td>\n",
       "      <td></td>\n",
       "      <td>2020년 01월 16일</td>\n",
       "    </tr>\n",
       "    <tr>\n",
       "      <th>348</th>\n",
       "      <td>카카오엔터프라이즈, 특허청과 인공지능 기술 제공 협약 체결</td>\n",
       "      <td></td>\n",
       "      <td>2020년 01월 09일</td>\n",
       "    </tr>\n",
       "  </tbody>\n",
       "</table>\n",
       "<p>345 rows × 3 columns</p>\n",
       "</div>"
      ],
      "text/plain": [
       "                                                    제목  \\\n",
       "4          카카오엔터프라이즈, 부산광역시교육청과 손잡고 디지털 공교육 환경 혁신 나선다.   \n",
       "5                          카카오, 2022년 상반기 채용연계형 인턴십 모집   \n",
       "6                         카카오, 사회와 함께하는 지속 가능 성장 방안 발표   \n",
       "7                   카카오, 카카오톡 오픈채팅에 음성 대화 기능 ‘보이스룸’ 오픈   \n",
       "8                 카카오, 서울시와 함께 국내 최초 음악 전문 아레나 공연장 만든다   \n",
       "..                                                 ...   \n",
       "344                            카카오톡 선물하기, 졸업 선물 기획전 운영   \n",
       "345  카카오, 2019년 4분기 및 연간 실적발표, 연간 매출 3조 898억, 영업이익 ...   \n",
       "346                카카오톡 선물하기, 명품 테마 신설해 프리미엄 선물 제품군 확대   \n",
       "347                       카카오, 포털 다음(Daum)에 골프 중계센터 오픈   \n",
       "348                   카카오엔터프라이즈, 특허청과 인공지능 기술 제공 협약 체결   \n",
       "\n",
       "                                                    내용             날짜  \n",
       "4    - 부산의 초/중/고 학생 및 교원 대상 교육용 카카오워크 무상 제공하며 공교육 스...  2022년 04월 11일  \n",
       "5    - 000명 규모로 테크 분야 채용연계형 인턴십 진행, 5월 2일까지 홈페이지 접수...  2022년 04월 11일  \n",
       "6    - 사회의 지속가능성 기여 위해 소상공인, 창작자, 플랫폼 종사자 등 파트너 중심의...  2022년 04월 06일  \n",
       "7    - 텍스트 기반의 대화 넘어 음성 대화 추가돼 보다 다채롭고 효율적인 커뮤니케이션 ...  2022년 04월 05일  \n",
       "8    - 카카오, 최대 28,000명까지 수용 가능한 아레나급 규모 음악 전문 공연장 설...  2022년 04월 04일  \n",
       "..                                                 ...            ...  \n",
       "344                                                     2020년 02월 19일  \n",
       "345                                                     2020년 02월 13일  \n",
       "346                                                     2020년 02월 10일  \n",
       "347                                                     2020년 01월 16일  \n",
       "348                                                     2020년 01월 09일  \n",
       "\n",
       "[345 rows x 3 columns]"
      ]
     },
     "execution_count": 131,
     "metadata": {},
     "output_type": "execute_result"
    }
   ],
   "source": [
    "news_df[0:2]\n",
    "news_df1=news_df.drop(index=0, axis=0)\n",
    "news_df1\n",
    "news_df2=news_df1.drop(index=2, axis=0)\n",
    "news_df2\n",
    "news_df3=news_df2.drop(index=3, axis=0)\n",
    "news_df3\n",
    "final_news_df = news_df3\n",
    "final_news_df"
   ]
  },
  {
   "cell_type": "code",
   "execution_count": 132,
   "id": "0c8d15e3",
   "metadata": {},
   "outputs": [],
   "source": [
    "final_news_df.to_csv('./data/final_project_kakao_homepage_news.csv')"
   ]
  },
  {
   "cell_type": "markdown",
   "id": "98de7ba5",
   "metadata": {},
   "source": [
    "끝!"
   ]
  },
  {
   "cell_type": "markdown",
   "id": "2ccaae1e",
   "metadata": {},
   "source": [
    "***"
   ]
  }
 ],
 "metadata": {
  "kernelspec": {
   "display_name": "Python 3 (ipykernel)",
   "language": "python",
   "name": "python3"
  },
  "language_info": {
   "codemirror_mode": {
    "name": "ipython",
    "version": 3
   },
   "file_extension": ".py",
   "mimetype": "text/x-python",
   "name": "python",
   "nbconvert_exporter": "python",
   "pygments_lexer": "ipython3",
   "version": "3.9.7"
  }
 },
 "nbformat": 4,
 "nbformat_minor": 5
}
