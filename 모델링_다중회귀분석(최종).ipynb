{
 "cells": [
  {
   "cell_type": "code",
   "execution_count": 1,
   "id": "530f9398",
   "metadata": {},
   "outputs": [],
   "source": [
    "import numpy as np\n",
    "import pandas as pd\n",
    "import matplotlib.pyplot as plt\n",
    "%matplotlib inline\n",
    "from datetime import datetime, timedelta\n",
    "import seaborn as sns\n",
    "\n",
    "from sklearn.model_selection import train_test_split\n",
    "from sklearn.linear_model import LinearRegression\n",
    "from sklearn.metrics import mean_squared_error , r2_score\n",
    "from sklearn.preprocessing import PolynomialFeatures\n",
    "from sklearn.linear_model import LinearRegression\n",
    "from sklearn.pipeline import Pipeline\n",
    "from sklearn.model_selection import cross_val_score"
   ]
  },
  {
   "cell_type": "markdown",
   "id": "5bb828d1",
   "metadata": {},
   "source": [
    "# 데이터 준비"
   ]
  },
  {
   "cell_type": "code",
   "execution_count": 2,
   "id": "97e3f142",
   "metadata": {},
   "outputs": [
    {
     "data": {
      "text/html": [
       "<div>\n",
       "<style scoped>\n",
       "    .dataframe tbody tr th:only-of-type {\n",
       "        vertical-align: middle;\n",
       "    }\n",
       "\n",
       "    .dataframe tbody tr th {\n",
       "        vertical-align: top;\n",
       "    }\n",
       "\n",
       "    .dataframe thead th {\n",
       "        text-align: right;\n",
       "    }\n",
       "</style>\n",
       "<table border=\"1\" class=\"dataframe\">\n",
       "  <thead>\n",
       "    <tr style=\"text-align: right;\">\n",
       "      <th></th>\n",
       "      <th>Date</th>\n",
       "      <th>Open</th>\n",
       "      <th>High</th>\n",
       "      <th>Low</th>\n",
       "      <th>Close</th>\n",
       "      <th>Adj.Close</th>\n",
       "      <th>Volume</th>\n",
       "      <th>일일종가차이</th>\n",
       "    </tr>\n",
       "  </thead>\n",
       "  <tbody>\n",
       "    <tr>\n",
       "      <th>0</th>\n",
       "      <td>2020-01-02</td>\n",
       "      <td>30800.0</td>\n",
       "      <td>30900</td>\n",
       "      <td>30400.0</td>\n",
       "      <td>30500.0</td>\n",
       "      <td>30473.498047</td>\n",
       "      <td>1205235</td>\n",
       "      <td>-200</td>\n",
       "    </tr>\n",
       "    <tr>\n",
       "      <th>1</th>\n",
       "      <td>2020-01-03</td>\n",
       "      <td>30700.0</td>\n",
       "      <td>31000</td>\n",
       "      <td>30200.0</td>\n",
       "      <td>30500.0</td>\n",
       "      <td>30473.498047</td>\n",
       "      <td>1574240</td>\n",
       "      <td>0</td>\n",
       "    </tr>\n",
       "    <tr>\n",
       "      <th>2</th>\n",
       "      <td>2020-01-06</td>\n",
       "      <td>30100.0</td>\n",
       "      <td>31000</td>\n",
       "      <td>30000.0</td>\n",
       "      <td>30900.0</td>\n",
       "      <td>30873.152344</td>\n",
       "      <td>1968575</td>\n",
       "      <td>400</td>\n",
       "    </tr>\n",
       "    <tr>\n",
       "      <th>3</th>\n",
       "      <td>2020-01-07</td>\n",
       "      <td>31000.0</td>\n",
       "      <td>32000</td>\n",
       "      <td>30900.0</td>\n",
       "      <td>32000.0</td>\n",
       "      <td>31972.195313</td>\n",
       "      <td>4200930</td>\n",
       "      <td>1100</td>\n",
       "    </tr>\n",
       "    <tr>\n",
       "      <th>4</th>\n",
       "      <td>2020-01-08</td>\n",
       "      <td>31700.0</td>\n",
       "      <td>32400</td>\n",
       "      <td>31300.0</td>\n",
       "      <td>31900.0</td>\n",
       "      <td>31872.283203</td>\n",
       "      <td>4258095</td>\n",
       "      <td>-100</td>\n",
       "    </tr>\n",
       "    <tr>\n",
       "      <th>...</th>\n",
       "      <td>...</td>\n",
       "      <td>...</td>\n",
       "      <td>...</td>\n",
       "      <td>...</td>\n",
       "      <td>...</td>\n",
       "      <td>...</td>\n",
       "      <td>...</td>\n",
       "      <td>...</td>\n",
       "    </tr>\n",
       "    <tr>\n",
       "      <th>568</th>\n",
       "      <td>2022-04-21</td>\n",
       "      <td>95100.0</td>\n",
       "      <td>95100</td>\n",
       "      <td>93100.0</td>\n",
       "      <td>93600.0</td>\n",
       "      <td>93600.000000</td>\n",
       "      <td>1809576</td>\n",
       "      <td>-1500</td>\n",
       "    </tr>\n",
       "    <tr>\n",
       "      <th>569</th>\n",
       "      <td>2022-04-22</td>\n",
       "      <td>92200.0</td>\n",
       "      <td>92400</td>\n",
       "      <td>91400.0</td>\n",
       "      <td>92000.0</td>\n",
       "      <td>92000.000000</td>\n",
       "      <td>1553904</td>\n",
       "      <td>-1600</td>\n",
       "    </tr>\n",
       "    <tr>\n",
       "      <th>570</th>\n",
       "      <td>2022-04-25</td>\n",
       "      <td>90400.0</td>\n",
       "      <td>91600</td>\n",
       "      <td>89600.0</td>\n",
       "      <td>89700.0</td>\n",
       "      <td>89700.000000</td>\n",
       "      <td>1511408</td>\n",
       "      <td>-2300</td>\n",
       "    </tr>\n",
       "    <tr>\n",
       "      <th>571</th>\n",
       "      <td>2022-04-26</td>\n",
       "      <td>89800.0</td>\n",
       "      <td>91700</td>\n",
       "      <td>89700.0</td>\n",
       "      <td>90200.0</td>\n",
       "      <td>90200.000000</td>\n",
       "      <td>1368258</td>\n",
       "      <td>500</td>\n",
       "    </tr>\n",
       "    <tr>\n",
       "      <th>572</th>\n",
       "      <td>2022-04-27</td>\n",
       "      <td>87600.0</td>\n",
       "      <td>88900</td>\n",
       "      <td>87600.0</td>\n",
       "      <td>88400.0</td>\n",
       "      <td>88400.000000</td>\n",
       "      <td>1379033</td>\n",
       "      <td>-1800</td>\n",
       "    </tr>\n",
       "  </tbody>\n",
       "</table>\n",
       "<p>573 rows × 8 columns</p>\n",
       "</div>"
      ],
      "text/plain": [
       "           Date     Open   High      Low    Close     Adj.Close   Volume  \\\n",
       "0    2020-01-02  30800.0  30900  30400.0  30500.0  30473.498047  1205235   \n",
       "1    2020-01-03  30700.0  31000  30200.0  30500.0  30473.498047  1574240   \n",
       "2    2020-01-06  30100.0  31000  30000.0  30900.0  30873.152344  1968575   \n",
       "3    2020-01-07  31000.0  32000  30900.0  32000.0  31972.195313  4200930   \n",
       "4    2020-01-08  31700.0  32400  31300.0  31900.0  31872.283203  4258095   \n",
       "..          ...      ...    ...      ...      ...           ...      ...   \n",
       "568  2022-04-21  95100.0  95100  93100.0  93600.0  93600.000000  1809576   \n",
       "569  2022-04-22  92200.0  92400  91400.0  92000.0  92000.000000  1553904   \n",
       "570  2022-04-25  90400.0  91600  89600.0  89700.0  89700.000000  1511408   \n",
       "571  2022-04-26  89800.0  91700  89700.0  90200.0  90200.000000  1368258   \n",
       "572  2022-04-27  87600.0  88900  87600.0  88400.0  88400.000000  1379033   \n",
       "\n",
       "     일일종가차이  \n",
       "0      -200  \n",
       "1         0  \n",
       "2       400  \n",
       "3      1100  \n",
       "4      -100  \n",
       "..      ...  \n",
       "568   -1500  \n",
       "569   -1600  \n",
       "570   -2300  \n",
       "571     500  \n",
       "572   -1800  \n",
       "\n",
       "[573 rows x 8 columns]"
      ]
     },
     "execution_count": 2,
     "metadata": {},
     "output_type": "execute_result"
    }
   ],
   "source": [
    "# 카카오 주가 데이터\n",
    "kakao1 = pd.read_csv('./data/주가_train_data.csv', index_col=0)\n",
    "kakao2 = pd.read_csv('./data/주가_test_data.csv', index_col=0)\n",
    "\n",
    "kakao = pd.concat((kakao1,kakao2), ignore_index=True)\n",
    "kakao"
   ]
  },
  {
   "cell_type": "code",
   "execution_count": 3,
   "id": "c75dce07",
   "metadata": {},
   "outputs": [
    {
     "data": {
      "text/html": [
       "<div>\n",
       "<style scoped>\n",
       "    .dataframe tbody tr th:only-of-type {\n",
       "        vertical-align: middle;\n",
       "    }\n",
       "\n",
       "    .dataframe tbody tr th {\n",
       "        vertical-align: top;\n",
       "    }\n",
       "\n",
       "    .dataframe thead th {\n",
       "        text-align: right;\n",
       "    }\n",
       "</style>\n",
       "<table border=\"1\" class=\"dataframe\">\n",
       "  <thead>\n",
       "    <tr style=\"text-align: right;\">\n",
       "      <th></th>\n",
       "      <th>date</th>\n",
       "      <th>text</th>\n",
       "      <th>score</th>\n",
       "      <th>senti</th>\n",
       "    </tr>\n",
       "  </thead>\n",
       "  <tbody>\n",
       "    <tr>\n",
       "      <th>0</th>\n",
       "      <td>2020.01.01</td>\n",
       "      <td>네이버카카오 작년 연매출 사상최대</td>\n",
       "      <td>1</td>\n",
       "      <td>1</td>\n",
       "    </tr>\n",
       "    <tr>\n",
       "      <th>1</th>\n",
       "      <td>2020.01.01</td>\n",
       "      <td>한진네이버카카오두산…국민연금 수익률 ‘효자’</td>\n",
       "      <td>2</td>\n",
       "      <td>1</td>\n",
       "    </tr>\n",
       "    <tr>\n",
       "      <th>2</th>\n",
       "      <td>2020.01.01</td>\n",
       "      <td>백브리핑 돈보다 금배지</td>\n",
       "      <td>1</td>\n",
       "      <td>1</td>\n",
       "    </tr>\n",
       "    <tr>\n",
       "      <th>3</th>\n",
       "      <td>2020.01.01</td>\n",
       "      <td>게임위 GO 애플 STOP19금 게임 이중검열 논란</td>\n",
       "      <td>-2</td>\n",
       "      <td>-1</td>\n",
       "    </tr>\n",
       "    <tr>\n",
       "      <th>4</th>\n",
       "      <td>2020.01.01</td>\n",
       "      <td>달린 거리만큼 보험료 내는 ‘디지털 車보험’ 나온다</td>\n",
       "      <td>0</td>\n",
       "      <td>0</td>\n",
       "    </tr>\n",
       "    <tr>\n",
       "      <th>...</th>\n",
       "      <td>...</td>\n",
       "      <td>...</td>\n",
       "      <td>...</td>\n",
       "      <td>...</td>\n",
       "    </tr>\n",
       "    <tr>\n",
       "      <th>143178</th>\n",
       "      <td>2022.04.12</td>\n",
       "      <td>전세계 매출   위 앱 개발사에   기업  곳  엔씨 넷마블 카카오 포함   다음뉴...</td>\n",
       "      <td>1</td>\n",
       "      <td>1</td>\n",
       "    </tr>\n",
       "    <tr>\n",
       "      <th>143179</th>\n",
       "      <td>2022.04.12</td>\n",
       "      <td>지금 모 행  간식쿠폰     준대  커피부터 치킨까지 커피 편의점 치킨 쿠폰 랜덤...</td>\n",
       "      <td>-1</td>\n",
       "      <td>-1</td>\n",
       "    </tr>\n",
       "    <tr>\n",
       "      <th>143180</th>\n",
       "      <td>2022.04.12</td>\n",
       "      <td>충격  국민연금  중국에   조원 투자       기업에   조원 투자한 국민연금...</td>\n",
       "      <td>-2</td>\n",
       "      <td>-1</td>\n",
       "    </tr>\n",
       "    <tr>\n",
       "      <th>143181</th>\n",
       "      <td>2022.04.12</td>\n",
       "      <td>구글 애플의 갑질은 금지해야 하지만  네이버 카카오의 갑질은 그대로 놔두자고 주장하...</td>\n",
       "      <td>1</td>\n",
       "      <td>1</td>\n",
       "    </tr>\n",
       "    <tr>\n",
       "      <th>143182</th>\n",
       "      <td>2022.04.12</td>\n",
       "      <td>조간브리핑  네이버 카카오 시총   조 증발    분기 실적도 기대 못 미칠 것 ...</td>\n",
       "      <td>-1</td>\n",
       "      <td>-1</td>\n",
       "    </tr>\n",
       "  </tbody>\n",
       "</table>\n",
       "<p>143183 rows × 4 columns</p>\n",
       "</div>"
      ],
      "text/plain": [
       "              date                                               text  score  \\\n",
       "0       2020.01.01                                 네이버카카오 작년 연매출 사상최대      1   \n",
       "1       2020.01.01                           한진네이버카카오두산…국민연금 수익률 ‘효자’      2   \n",
       "2       2020.01.01                                       백브리핑 돈보다 금배지      1   \n",
       "3       2020.01.01                       게임위 GO 애플 STOP19금 게임 이중검열 논란     -2   \n",
       "4       2020.01.01                       달린 거리만큼 보험료 내는 ‘디지털 車보험’ 나온다      0   \n",
       "...            ...                                                ...    ...   \n",
       "143178  2022.04.12  전세계 매출   위 앱 개발사에   기업  곳  엔씨 넷마블 카카오 포함   다음뉴...      1   \n",
       "143179  2022.04.12  지금 모 행  간식쿠폰     준대  커피부터 치킨까지 커피 편의점 치킨 쿠폰 랜덤...     -1   \n",
       "143180  2022.04.12   충격  국민연금  중국에   조원 투자       기업에   조원 투자한 국민연금...     -2   \n",
       "143181  2022.04.12  구글 애플의 갑질은 금지해야 하지만  네이버 카카오의 갑질은 그대로 놔두자고 주장하...      1   \n",
       "143182  2022.04.12   조간브리핑  네이버 카카오 시총   조 증발    분기 실적도 기대 못 미칠 것 ...     -1   \n",
       "\n",
       "        senti  \n",
       "0           1  \n",
       "1           1  \n",
       "2           1  \n",
       "3          -1  \n",
       "4           0  \n",
       "...       ...  \n",
       "143178      1  \n",
       "143179     -1  \n",
       "143180     -1  \n",
       "143181      1  \n",
       "143182     -1  \n",
       "\n",
       "[143183 rows x 4 columns]"
      ]
     },
     "execution_count": 3,
     "metadata": {},
     "output_type": "execute_result"
    }
   ],
   "source": [
    "# 감성점수 데이터\n",
    "con = pd.read_csv('./data/합친파일.csv', index_col=0)\n",
    "con"
   ]
  },
  {
   "cell_type": "code",
   "execution_count": 4,
   "id": "aefdfdae",
   "metadata": {},
   "outputs": [],
   "source": [
    "date_list=[]\n",
    "# date날짜 형식이 kakao와 달라서 형식 수정\n",
    "for i in con['date']:\n",
    "    j=i.rstrip('.')\n",
    "    k=j.replace('.','-')\n",
    "    date_list.append(k)"
   ]
  },
  {
   "cell_type": "code",
   "execution_count": 5,
   "id": "a0c85306",
   "metadata": {},
   "outputs": [],
   "source": [
    "con['date']=date_list\n",
    "con=con.rename(columns={'date':'Date'})"
   ]
  },
  {
   "cell_type": "code",
   "execution_count": 8,
   "id": "50994768",
   "metadata": {},
   "outputs": [
    {
     "data": {
      "text/html": [
       "<div>\n",
       "<style scoped>\n",
       "    .dataframe tbody tr th:only-of-type {\n",
       "        vertical-align: middle;\n",
       "    }\n",
       "\n",
       "    .dataframe tbody tr th {\n",
       "        vertical-align: top;\n",
       "    }\n",
       "\n",
       "    .dataframe thead th {\n",
       "        text-align: right;\n",
       "    }\n",
       "</style>\n",
       "<table border=\"1\" class=\"dataframe\">\n",
       "  <thead>\n",
       "    <tr style=\"text-align: right;\">\n",
       "      <th></th>\n",
       "      <th>Date</th>\n",
       "      <th>text</th>\n",
       "      <th>score</th>\n",
       "      <th>senti</th>\n",
       "    </tr>\n",
       "  </thead>\n",
       "  <tbody>\n",
       "    <tr>\n",
       "      <th>0</th>\n",
       "      <td>2020-01-01</td>\n",
       "      <td>네이버카카오 작년 연매출 사상최대</td>\n",
       "      <td>1</td>\n",
       "      <td>1</td>\n",
       "    </tr>\n",
       "    <tr>\n",
       "      <th>1</th>\n",
       "      <td>2020-01-01</td>\n",
       "      <td>한진네이버카카오두산…국민연금 수익률 ‘효자’</td>\n",
       "      <td>2</td>\n",
       "      <td>1</td>\n",
       "    </tr>\n",
       "    <tr>\n",
       "      <th>2</th>\n",
       "      <td>2020-01-01</td>\n",
       "      <td>백브리핑 돈보다 금배지</td>\n",
       "      <td>1</td>\n",
       "      <td>1</td>\n",
       "    </tr>\n",
       "    <tr>\n",
       "      <th>3</th>\n",
       "      <td>2020-01-01</td>\n",
       "      <td>게임위 GO 애플 STOP19금 게임 이중검열 논란</td>\n",
       "      <td>-2</td>\n",
       "      <td>-1</td>\n",
       "    </tr>\n",
       "    <tr>\n",
       "      <th>4</th>\n",
       "      <td>2020-01-01</td>\n",
       "      <td>달린 거리만큼 보험료 내는 ‘디지털 車보험’ 나온다</td>\n",
       "      <td>0</td>\n",
       "      <td>0</td>\n",
       "    </tr>\n",
       "    <tr>\n",
       "      <th>...</th>\n",
       "      <td>...</td>\n",
       "      <td>...</td>\n",
       "      <td>...</td>\n",
       "      <td>...</td>\n",
       "    </tr>\n",
       "    <tr>\n",
       "      <th>143178</th>\n",
       "      <td>2022-04-12</td>\n",
       "      <td>전세계 매출   위 앱 개발사에   기업  곳  엔씨 넷마블 카카오 포함   다음뉴...</td>\n",
       "      <td>1</td>\n",
       "      <td>1</td>\n",
       "    </tr>\n",
       "    <tr>\n",
       "      <th>143179</th>\n",
       "      <td>2022-04-12</td>\n",
       "      <td>지금 모 행  간식쿠폰     준대  커피부터 치킨까지 커피 편의점 치킨 쿠폰 랜덤...</td>\n",
       "      <td>-1</td>\n",
       "      <td>-1</td>\n",
       "    </tr>\n",
       "    <tr>\n",
       "      <th>143180</th>\n",
       "      <td>2022-04-12</td>\n",
       "      <td>충격  국민연금  중국에   조원 투자       기업에   조원 투자한 국민연금...</td>\n",
       "      <td>-2</td>\n",
       "      <td>-1</td>\n",
       "    </tr>\n",
       "    <tr>\n",
       "      <th>143181</th>\n",
       "      <td>2022-04-12</td>\n",
       "      <td>구글 애플의 갑질은 금지해야 하지만  네이버 카카오의 갑질은 그대로 놔두자고 주장하...</td>\n",
       "      <td>1</td>\n",
       "      <td>1</td>\n",
       "    </tr>\n",
       "    <tr>\n",
       "      <th>143182</th>\n",
       "      <td>2022-04-12</td>\n",
       "      <td>조간브리핑  네이버 카카오 시총   조 증발    분기 실적도 기대 못 미칠 것 ...</td>\n",
       "      <td>-1</td>\n",
       "      <td>-1</td>\n",
       "    </tr>\n",
       "  </tbody>\n",
       "</table>\n",
       "<p>143183 rows × 4 columns</p>\n",
       "</div>"
      ],
      "text/plain": [
       "              Date                                               text  score  \\\n",
       "0       2020-01-01                                 네이버카카오 작년 연매출 사상최대      1   \n",
       "1       2020-01-01                           한진네이버카카오두산…국민연금 수익률 ‘효자’      2   \n",
       "2       2020-01-01                                       백브리핑 돈보다 금배지      1   \n",
       "3       2020-01-01                       게임위 GO 애플 STOP19금 게임 이중검열 논란     -2   \n",
       "4       2020-01-01                       달린 거리만큼 보험료 내는 ‘디지털 車보험’ 나온다      0   \n",
       "...            ...                                                ...    ...   \n",
       "143178  2022-04-12  전세계 매출   위 앱 개발사에   기업  곳  엔씨 넷마블 카카오 포함   다음뉴...      1   \n",
       "143179  2022-04-12  지금 모 행  간식쿠폰     준대  커피부터 치킨까지 커피 편의점 치킨 쿠폰 랜덤...     -1   \n",
       "143180  2022-04-12   충격  국민연금  중국에   조원 투자       기업에   조원 투자한 국민연금...     -2   \n",
       "143181  2022-04-12  구글 애플의 갑질은 금지해야 하지만  네이버 카카오의 갑질은 그대로 놔두자고 주장하...      1   \n",
       "143182  2022-04-12   조간브리핑  네이버 카카오 시총   조 증발    분기 실적도 기대 못 미칠 것 ...     -1   \n",
       "\n",
       "        senti  \n",
       "0           1  \n",
       "1           1  \n",
       "2           1  \n",
       "3          -1  \n",
       "4           0  \n",
       "...       ...  \n",
       "143178      1  \n",
       "143179     -1  \n",
       "143180     -1  \n",
       "143181      1  \n",
       "143182     -1  \n",
       "\n",
       "[143183 rows x 4 columns]"
      ]
     },
     "execution_count": 8,
     "metadata": {},
     "output_type": "execute_result"
    }
   ],
   "source": [
    "con"
   ]
  },
  {
   "cell_type": "code",
   "execution_count": 6,
   "id": "52d4de89",
   "metadata": {},
   "outputs": [],
   "source": [
    "# 일자별 감성점수 평균\n",
    "nalza_score=con['score'].groupby(con['Date']).mean().to_frame()"
   ]
  },
  {
   "cell_type": "code",
   "execution_count": 7,
   "id": "e2ac0ca3",
   "metadata": {},
   "outputs": [
    {
     "data": {
      "text/html": [
       "<div>\n",
       "<style scoped>\n",
       "    .dataframe tbody tr th:only-of-type {\n",
       "        vertical-align: middle;\n",
       "    }\n",
       "\n",
       "    .dataframe tbody tr th {\n",
       "        vertical-align: top;\n",
       "    }\n",
       "\n",
       "    .dataframe thead th {\n",
       "        text-align: right;\n",
       "    }\n",
       "</style>\n",
       "<table border=\"1\" class=\"dataframe\">\n",
       "  <thead>\n",
       "    <tr style=\"text-align: right;\">\n",
       "      <th></th>\n",
       "      <th>Date</th>\n",
       "      <th>Open</th>\n",
       "      <th>High</th>\n",
       "      <th>Low</th>\n",
       "      <th>Close</th>\n",
       "      <th>Adj.Close</th>\n",
       "      <th>Volume</th>\n",
       "      <th>일일종가차이</th>\n",
       "      <th>score</th>\n",
       "    </tr>\n",
       "  </thead>\n",
       "  <tbody>\n",
       "    <tr>\n",
       "      <th>0</th>\n",
       "      <td>2020-01-02</td>\n",
       "      <td>30800.0</td>\n",
       "      <td>30900</td>\n",
       "      <td>30400.0</td>\n",
       "      <td>30500.0</td>\n",
       "      <td>30473.498047</td>\n",
       "      <td>1205235</td>\n",
       "      <td>-200</td>\n",
       "      <td>1.600000</td>\n",
       "    </tr>\n",
       "    <tr>\n",
       "      <th>1</th>\n",
       "      <td>2020-01-03</td>\n",
       "      <td>30700.0</td>\n",
       "      <td>31000</td>\n",
       "      <td>30200.0</td>\n",
       "      <td>30500.0</td>\n",
       "      <td>30473.498047</td>\n",
       "      <td>1574240</td>\n",
       "      <td>0</td>\n",
       "      <td>-0.900000</td>\n",
       "    </tr>\n",
       "    <tr>\n",
       "      <th>2</th>\n",
       "      <td>2020-01-06</td>\n",
       "      <td>30100.0</td>\n",
       "      <td>31000</td>\n",
       "      <td>30000.0</td>\n",
       "      <td>30900.0</td>\n",
       "      <td>30873.152344</td>\n",
       "      <td>1968575</td>\n",
       "      <td>400</td>\n",
       "      <td>0.250000</td>\n",
       "    </tr>\n",
       "    <tr>\n",
       "      <th>3</th>\n",
       "      <td>2020-01-07</td>\n",
       "      <td>31000.0</td>\n",
       "      <td>32000</td>\n",
       "      <td>30900.0</td>\n",
       "      <td>32000.0</td>\n",
       "      <td>31972.195313</td>\n",
       "      <td>4200930</td>\n",
       "      <td>1100</td>\n",
       "      <td>-0.625000</td>\n",
       "    </tr>\n",
       "    <tr>\n",
       "      <th>4</th>\n",
       "      <td>2020-01-08</td>\n",
       "      <td>31700.0</td>\n",
       "      <td>32400</td>\n",
       "      <td>31300.0</td>\n",
       "      <td>31900.0</td>\n",
       "      <td>31872.283203</td>\n",
       "      <td>4258095</td>\n",
       "      <td>-100</td>\n",
       "      <td>-0.312500</td>\n",
       "    </tr>\n",
       "    <tr>\n",
       "      <th>...</th>\n",
       "      <td>...</td>\n",
       "      <td>...</td>\n",
       "      <td>...</td>\n",
       "      <td>...</td>\n",
       "      <td>...</td>\n",
       "      <td>...</td>\n",
       "      <td>...</td>\n",
       "      <td>...</td>\n",
       "      <td>...</td>\n",
       "    </tr>\n",
       "    <tr>\n",
       "      <th>568</th>\n",
       "      <td>2022-04-21</td>\n",
       "      <td>95100.0</td>\n",
       "      <td>95100</td>\n",
       "      <td>93100.0</td>\n",
       "      <td>93600.0</td>\n",
       "      <td>93600.000000</td>\n",
       "      <td>1809576</td>\n",
       "      <td>-1500</td>\n",
       "      <td>1.118156</td>\n",
       "    </tr>\n",
       "    <tr>\n",
       "      <th>569</th>\n",
       "      <td>2022-04-22</td>\n",
       "      <td>92200.0</td>\n",
       "      <td>92400</td>\n",
       "      <td>91400.0</td>\n",
       "      <td>92000.0</td>\n",
       "      <td>92000.000000</td>\n",
       "      <td>1553904</td>\n",
       "      <td>-1600</td>\n",
       "      <td>0.050633</td>\n",
       "    </tr>\n",
       "    <tr>\n",
       "      <th>570</th>\n",
       "      <td>2022-04-25</td>\n",
       "      <td>90400.0</td>\n",
       "      <td>91600</td>\n",
       "      <td>89600.0</td>\n",
       "      <td>89700.0</td>\n",
       "      <td>89700.000000</td>\n",
       "      <td>1511408</td>\n",
       "      <td>-2300</td>\n",
       "      <td>0.036517</td>\n",
       "    </tr>\n",
       "    <tr>\n",
       "      <th>571</th>\n",
       "      <td>2022-04-26</td>\n",
       "      <td>89800.0</td>\n",
       "      <td>91700</td>\n",
       "      <td>89700.0</td>\n",
       "      <td>90200.0</td>\n",
       "      <td>90200.000000</td>\n",
       "      <td>1368258</td>\n",
       "      <td>500</td>\n",
       "      <td>-0.094406</td>\n",
       "    </tr>\n",
       "    <tr>\n",
       "      <th>572</th>\n",
       "      <td>2022-04-27</td>\n",
       "      <td>87600.0</td>\n",
       "      <td>88900</td>\n",
       "      <td>87600.0</td>\n",
       "      <td>88400.0</td>\n",
       "      <td>88400.000000</td>\n",
       "      <td>1379033</td>\n",
       "      <td>-1800</td>\n",
       "      <td>0.128266</td>\n",
       "    </tr>\n",
       "  </tbody>\n",
       "</table>\n",
       "<p>573 rows × 9 columns</p>\n",
       "</div>"
      ],
      "text/plain": [
       "           Date     Open   High      Low    Close     Adj.Close   Volume  \\\n",
       "0    2020-01-02  30800.0  30900  30400.0  30500.0  30473.498047  1205235   \n",
       "1    2020-01-03  30700.0  31000  30200.0  30500.0  30473.498047  1574240   \n",
       "2    2020-01-06  30100.0  31000  30000.0  30900.0  30873.152344  1968575   \n",
       "3    2020-01-07  31000.0  32000  30900.0  32000.0  31972.195313  4200930   \n",
       "4    2020-01-08  31700.0  32400  31300.0  31900.0  31872.283203  4258095   \n",
       "..          ...      ...    ...      ...      ...           ...      ...   \n",
       "568  2022-04-21  95100.0  95100  93100.0  93600.0  93600.000000  1809576   \n",
       "569  2022-04-22  92200.0  92400  91400.0  92000.0  92000.000000  1553904   \n",
       "570  2022-04-25  90400.0  91600  89600.0  89700.0  89700.000000  1511408   \n",
       "571  2022-04-26  89800.0  91700  89700.0  90200.0  90200.000000  1368258   \n",
       "572  2022-04-27  87600.0  88900  87600.0  88400.0  88400.000000  1379033   \n",
       "\n",
       "     일일종가차이     score  \n",
       "0      -200  1.600000  \n",
       "1         0 -0.900000  \n",
       "2       400  0.250000  \n",
       "3      1100 -0.625000  \n",
       "4      -100 -0.312500  \n",
       "..      ...       ...  \n",
       "568   -1500  1.118156  \n",
       "569   -1600  0.050633  \n",
       "570   -2300  0.036517  \n",
       "571     500 -0.094406  \n",
       "572   -1800  0.128266  \n",
       "\n",
       "[573 rows x 9 columns]"
      ]
     },
     "execution_count": 7,
     "metadata": {},
     "output_type": "execute_result"
    }
   ],
   "source": [
    "kanal=kakao.merge(nalza_score, on='Date', how='inner')\n",
    "kanal"
   ]
  },
  {
   "cell_type": "code",
   "execution_count": null,
   "id": "6ce90c02",
   "metadata": {},
   "outputs": [],
   "source": []
  },
  {
   "cell_type": "markdown",
   "id": "7a0b87d4",
   "metadata": {},
   "source": [
    "# 단순회귀분석\n",
    "#### 독립변수 : score\n",
    "#### 종속변수 : 일일종가차이\n",
    "#### 감성점수는 일일종가차이와 상관성을 갖고 있는지 알아보기 위함"
   ]
  },
  {
   "cell_type": "code",
   "execution_count": 9,
   "id": "ce4f84ab",
   "metadata": {},
   "outputs": [],
   "source": [
    "X_data = kanal[['score']] # 독립변수\n",
    "y_target = kanal['일일종가차이'] # 종속변수\n",
    "\n",
    "X_train, X_test, y_train, y_test = train_test_split(X_data, y_target, train_size=0.7, random_state=156)"
   ]
  },
  {
   "cell_type": "code",
   "execution_count": 10,
   "id": "9889626e",
   "metadata": {},
   "outputs": [
    {
     "data": {
      "text/plain": [
       "<matplotlib.collections.PathCollection at 0x17c889ea0d0>"
      ]
     },
     "execution_count": 10,
     "metadata": {},
     "output_type": "execute_result"
    },
    {
     "data": {
      "image/png": "[encoded data removed]",
      "text/plain": [
       "<Figure size 432x288 with 1 Axes>"
      ]
     },
     "metadata": {
      "needs_background": "light"
     },
     "output_type": "display_data"
    }
   ],
   "source": [
    "plt.scatter(X_data,y_target)"
   ]
  },
  {
   "cell_type": "code",
   "execution_count": 11,
   "id": "b1bb8946",
   "metadata": {},
   "outputs": [
    {
     "data": {
      "text/plain": [
       "((573, 1), (573,))"
      ]
     },
     "execution_count": 11,
     "metadata": {},
     "output_type": "execute_result"
    }
   ],
   "source": [
    "X_data.shape, y_target.shape"
   ]
  },
  {
   "cell_type": "code",
   "execution_count": 12,
   "id": "2fbc2f7c",
   "metadata": {},
   "outputs": [
    {
     "data": {
      "text/plain": [
       "LinearRegression()"
      ]
     },
     "execution_count": 12,
     "metadata": {},
     "output_type": "execute_result"
    }
   ],
   "source": [
    "line_fitter = LinearRegression() # 빈 선형회귀모델 생성\n",
    "line_fitter.fit(X_data, y_target)"
   ]
  },
  {
   "cell_type": "code",
   "execution_count": 13,
   "id": "6c6d3956",
   "metadata": {},
   "outputs": [
    {
     "data": {
      "text/plain": [
       "172"
      ]
     },
     "execution_count": 13,
     "metadata": {},
     "output_type": "execute_result"
    }
   ],
   "source": [
    "y_predict = line_fitter.predict(X_test)\n",
    "y_predict\n",
    "len(y_predict)"
   ]
  },
  {
   "cell_type": "code",
   "execution_count": 14,
   "id": "232fd454",
   "metadata": {},
   "outputs": [
    {
     "data": {
      "text/plain": [
       "array([917.58474035])"
      ]
     },
     "execution_count": 14,
     "metadata": {},
     "output_type": "execute_result"
    }
   ],
   "source": [
    "# 회귀계수 : 독립변수의 값에 영향을 미치는 것\n",
    "line_fitter.coef_"
   ]
  },
  {
   "cell_type": "code",
   "execution_count": 15,
   "id": "10e9d7a8",
   "metadata": {},
   "outputs": [
    {
     "data": {
      "text/plain": [
       "-16.324494995320777"
      ]
     },
     "execution_count": 15,
     "metadata": {},
     "output_type": "execute_result"
    }
   ],
   "source": [
    "# 절편\n",
    "line_fitter.intercept_"
   ]
  },
  {
   "cell_type": "code",
   "execution_count": 16,
   "id": "453031e5",
   "metadata": {
    "scrolled": true
   },
   "outputs": [
    {
     "data": {
      "text/plain": [
       "array([ 1.45181109e+03, -8.42150761e+02,  2.13071690e+02, -5.89814958e+02,\n",
       "       -3.03069726e+02,  1.05419104e+03, -1.63244950e+01, -1.08082969e+02,\n",
       "       -5.58533660e+02,  4.42467875e+02, -6.22037320e+01,  1.61493727e+03,\n",
       "        3.70026975e+02,  5.57165968e+02,  5.67593067e+02,  8.40087929e+02,\n",
       "       -1.69255285e+02, -1.53033932e+03, -1.53962206e+02,  2.89537085e+02,\n",
       "       -4.48129079e+02, -6.75838527e+02,  3.17342683e+02,  3.19694387e+01,\n",
       "       -4.17767819e+02, -2.45720680e+02,  5.57165968e+02,  1.28557306e+02,\n",
       "        4.18320908e+02,  8.35718478e+02, -4.02675965e+02, -1.83158084e+02,\n",
       "        4.64315131e+02, -9.61144724e+01, -4.09575098e+02, -3.35484405e+02,\n",
       "       -6.00190064e+01, -6.22037320e+01, -2.28074820e+02, -6.83658852e+02,\n",
       "        6.46388644e+01, -3.49991673e+02, -1.11036784e+03, -6.22037320e+01,\n",
       "       -4.75116865e+02,  2.89537085e+02, -1.59697111e+02,  2.99095259e+02,\n",
       "       -7.96271524e+02, -4.75116865e+02,  1.73520624e+02, -2.06169614e+02,\n",
       "       -1.91102541e+02,  1.45602224e+02, -4.75116865e+02,  3.50709401e+02,\n",
       "        2.23045437e+02, -1.63244950e+01,  5.34226349e+02, -1.02566771e+03,\n",
       "        1.21313216e+02, -1.88371634e+02, -3.91700071e+02, -3.37479154e+02,\n",
       "        5.34226349e+02,  1.45602224e+02,  8.19881558e+01,  1.36005262e+03,\n",
       "        3.11384341e+02,  2.66009271e+02,  4.88347112e+02,  2.53839023e+01,\n",
       "        6.31382381e+02,  2.15251216e+03, -1.91102541e+02,  4.15480089e+02,\n",
       "       -4.36884168e+02, -8.11564603e+02, -6.89219971e+02, -3.11262447e+02,\n",
       "       -8.69079366e+01,  2.53553370e+02,  7.54339790e+01, -1.75904450e+02,\n",
       "        7.57887630e+02,  4.42467875e+02,  3.09270090e+02, -3.56170695e+02,\n",
       "        8.30676804e+02,  9.83735975e+01, -6.28047655e+02,  9.01260245e+02,\n",
       "        4.42467875e+02,  3.68469106e+02,  1.24842388e+02,  2.70420736e+02,\n",
       "        4.97522960e+02,  5.95398665e+02,  6.70922996e+01,  2.64048620e+02,\n",
       "       -8.18662622e+01,  3.48712201e+01, -8.12862465e+01, -4.49519335e+01,\n",
       "        9.29906546e+01,  1.28051793e+01,  1.24514093e+02,  5.37201417e+01,\n",
       "        6.41653945e+01,  1.68734612e+02,  7.99652617e+01,  2.00559171e+02,\n",
       "        1.79087070e+02,  4.35179881e+01,  4.86372565e+01,  3.83648341e+02,\n",
       "        3.18560447e+02,  1.24842388e+02,  1.75728125e+02, -5.56495553e+01,\n",
       "       -5.96067941e+01,  1.72868235e+02, -1.40322433e+02,  1.61714335e+02,\n",
       "        1.19800714e+02,  1.47529923e+02,  1.86715533e+02,  2.71253281e+00,\n",
       "        1.09257358e+02,  2.93855729e+02, -1.15930733e+02, -2.10543132e+01,\n",
       "       -9.88687290e+01, -6.17422132e+00, -2.00825448e+02, -6.33801227e+01,\n",
       "       -1.22014884e+02, -1.21960661e+02, -3.23661863e+01,  1.24088828e+02,\n",
       "       -1.30402598e+02,  2.42481457e+02,  2.76924236e+02,  5.78598068e+00,\n",
       "        3.70026975e+02,  1.88232613e+02,  7.47453285e+00,  6.30341853e+01,\n",
       "        2.24853367e+02,  7.09760775e+01, -2.88256495e+01, -4.94902085e+01,\n",
       "       -5.95630584e+00, -1.60388419e+00,  1.25682667e+02,  8.87002644e+01,\n",
       "        1.01551630e+02,  4.38449962e+01, -1.03880291e+02, -3.67152670e+01,\n",
       "        1.70217458e+02,  3.08534699e+02,  2.35214179e+02,  1.60134109e+02,\n",
       "        1.21880252e+01,  2.20108383e+02, -3.73149956e+01,  8.75530228e+01,\n",
       "       -4.75830079e+00,  8.93013089e+00, -5.66578902e+01, -5.77638058e+01,\n",
       "        6.23906419e+00,  1.06685054e+02, -2.31382431e+01,  1.71639992e+01,\n",
       "       -4.99628832e+00, -3.04411833e+01, -1.63244950e+01, -9.92031167e+01,\n",
       "       -2.46768151e+02, -2.09172813e+02,  2.78805100e+02, -1.51967457e+02,\n",
       "       -2.31556766e+00,  1.44382437e+02, -6.99495772e+01,  2.26056380e+02,\n",
       "        7.67638120e+01, -7.58559271e+00, -1.22571149e+02, -3.56420685e+01,\n",
       "        3.04277402e+02,  2.13071690e+02,  1.89874323e+02, -2.41392450e+02,\n",
       "       -1.85353263e+02, -1.47408029e+02, -1.20317432e+02, -1.74717099e+02,\n",
       "       -7.81147132e+01, -1.24146203e+02,  9.52250225e+01,  2.62940426e+02,\n",
       "       -2.43734839e+01, -1.01528792e+02,  2.06871793e+02, -9.67533021e+00,\n",
       "        1.93631335e+02,  5.78237669e+01,  3.22075551e+02,  1.78752576e+02,\n",
       "        1.32387515e+02,  1.42723527e+02,  2.62043909e+02,  1.75728125e+02,\n",
       "        1.60753262e+02,  2.80541156e+02,  2.84263610e+02,  4.05170376e+01,\n",
       "        7.90089845e+01,  6.30818768e+01,  1.56290456e+02,  2.40172420e+00,\n",
       "        3.00181687e+01, -1.91745107e+02,  2.05509178e+02,  1.48370202e+02,\n",
       "        1.86397715e+02,  1.75728125e+02,  4.71663753e+02,  9.88424634e-01,\n",
       "       -1.07324635e+02,  1.19613985e+02, -9.32003133e+00,  4.06055782e+02,\n",
       "        2.18169383e+02,  1.21313216e+02,  3.19377239e+02, -1.13376727e+02,\n",
       "        1.17489946e+02,  5.27168005e+02,  9.83735975e+01,  1.81790392e+02,\n",
       "        1.09948634e+02,  2.85938714e+02,  3.40514015e+02,  1.77294303e+02,\n",
       "        2.85347200e+02,  6.70922996e+01,  3.52048941e+02,  3.37255818e+01,\n",
       "        4.08979381e+02,  2.06966088e+02,  1.75210184e+02,  2.53971785e+02,\n",
       "       -1.05123018e+02, -1.11592856e+02,  3.66002480e+02,  2.45842574e+02,\n",
       "        2.82424025e+02,  5.30102373e+02,  2.47556084e+02,  1.36606295e+02,\n",
       "       -1.63244950e+01, -2.62920036e+00,  4.79064368e+01, -5.68061747e+01,\n",
       "        4.22447438e+01,  3.01300992e+02,  3.55355400e+02,  3.82936443e+01,\n",
       "       -1.33462972e+02,  2.55840470e+02,  5.24030963e+02,  4.04861943e+02,\n",
       "        1.17704737e+02,  1.47874880e+02,  3.30318629e+02,  1.44550752e+02,\n",
       "       -1.63244950e+01,  1.73259129e+02,  3.11367847e+01, -1.48518907e+02,\n",
       "        1.41385382e+02,  7.17636401e+01, -5.39304270e+01,  3.42107044e+02,\n",
       "        1.43512847e+02,  2.98275987e+02, -6.40798346e+01, -1.48954738e+02,\n",
       "        2.81270556e+02,  2.70858515e+02,  3.74777198e+02,  2.69338679e+02,\n",
       "        1.94614526e+02,  3.49509944e+02,  2.80379553e+02,  1.62716430e+02,\n",
       "        1.30489063e+02,  2.92973732e+02,  1.99027026e+02,  2.57341129e+02,\n",
       "        7.61249823e+00,  4.00759478e+02,  2.92478062e+02,  2.83766112e+02,\n",
       "        3.46269475e+02,  5.61753891e+02,  4.13183256e+02,  1.86680979e+02,\n",
       "        9.26954742e+01,  3.48583722e+02,  3.04277402e+02,  3.42430441e+02,\n",
       "        2.64259269e+02,  2.39984092e+02,  1.03137400e+01, -8.79769996e+00,\n",
       "        1.26552022e+02,  2.84357362e+01,  8.00883944e+01,  2.97107916e+02,\n",
       "        1.16338359e+02, -5.33545619e+00,  1.63855781e+02,  1.93580511e+02,\n",
       "       -1.52023647e+02, -2.03757963e+02, -6.51321940e+01,  1.33281713e+02,\n",
       "       -4.80870437e+01, -1.72811815e+02,  5.12870122e+01,  1.20884438e+02,\n",
       "        6.70922996e+01,  6.24121494e+01,  2.64442853e+01,  2.05161477e+02,\n",
       "        4.90531838e+02,  1.43255460e+02,  1.06766141e+02,  1.89874323e+02,\n",
       "        3.48736101e+02, -6.39029630e+01,  1.93536735e+02, -1.12522895e+02,\n",
       "        2.74617008e+02,  1.66256142e+02,  3.69546190e+01,  7.31959675e+01,\n",
       "        1.18898519e+02,  4.47865432e+02,  2.27408952e+02,  5.70822842e+01,\n",
       "        1.43479589e+02,  1.44720990e+02,  1.26595024e+02,  7.52470982e+01,\n",
       "        1.00861026e+02,  1.64942245e+02,  1.38532376e+02,  1.69124210e+02,\n",
       "        5.54041057e+01,  1.54285441e+02, -8.87729016e+01, -2.31764034e+01,\n",
       "        1.18301838e+02,  1.53206173e+02,  5.60044413e+01,  2.07496359e+01,\n",
       "        7.08204245e+01,  2.39600501e+02,  2.05022701e+02,  4.44793131e+01,\n",
       "        9.88097120e+01,  8.29812128e+01,  1.89663916e+02,  1.69377179e+02,\n",
       "        1.71561904e+02, -6.29813462e+01, -1.94349517e+01, -9.23889854e+00,\n",
       "        4.09053225e+01, -1.07993970e+02,  5.63978387e+01,  1.53488265e+02,\n",
       "        6.53453510e+01,  2.14445320e+02,  1.84397167e+02,  3.58688399e+02,\n",
       "       -3.01227618e+01, -2.79507715e+02, -8.46552735e+01,  2.48755541e+02,\n",
       "        2.91721811e+02,  2.00374484e+02,  4.03696689e+02, -2.49000533e+01,\n",
       "        8.56293650e+01,  1.12592369e+02,  1.07196528e+02,  1.07093336e+02,\n",
       "        4.18737235e+02,  3.48010622e+02, -1.55956955e+02,  9.94069137e+01,\n",
       "       -6.95178133e+01,  1.61911390e+02, -1.56922157e+02,  1.53872675e+02,\n",
       "        3.70234550e+01,  1.58741015e+02,  1.54957990e+02,  1.38959076e+02,\n",
       "        2.16302622e+02, -5.36246877e+01, -5.69389270e+02, -2.43107306e+02,\n",
       "       -2.17902446e+02, -1.14127754e+02, -1.94342459e+02, -1.28290878e+02,\n",
       "       -1.95384830e+02, -1.32638054e+02, -1.61560654e+02, -1.23322009e+02,\n",
       "       -1.69255285e+02, -4.96912128e+01, -2.10100154e+02, -3.26082401e+02,\n",
       "       -3.41919080e+02, -3.62859158e+02, -2.28371389e+02, -1.24731131e+02,\n",
       "       -4.05625825e+01, -1.80178913e+02, -1.15406415e+02,  1.04663003e+01,\n",
       "        1.18780007e+02,  1.24842388e+02, -2.77943042e+01,  1.95079832e+02,\n",
       "       -8.97312742e+01,  3.60540666e+02, -2.42888628e+02,  1.36606295e+02,\n",
       "        7.37954349e+01, -9.76294720e+01, -4.49990181e+01,  3.48836779e+02,\n",
       "        2.09542518e+02,  2.04360443e+02,  2.41353412e+02,  3.28750108e+02,\n",
       "        3.71884434e+02, -1.63244950e+01,  3.02281318e+02,  6.05562062e+00,\n",
       "        7.82247186e+00,  2.22009204e+02,  1.99577797e+02,  3.18324057e+02,\n",
       "        1.33969557e+02,  1.38120461e+02,  4.03774543e+02,  2.00087000e+02,\n",
       "        4.60962356e+01,  2.86567555e+02,  2.06699574e+02,  1.46611113e+02,\n",
       "        2.95547420e+01, -1.45241359e+02, -6.59236701e+01, -1.23166554e+02,\n",
       "        5.05827257e+01,  9.48978978e+01,  1.66736266e+00, -7.23602043e+01,\n",
       "        5.14166603e+01, -4.35791805e+02,  2.57676504e+02, -1.37591201e+02,\n",
       "       -4.86338168e+01,  1.97778611e+02, -4.10984598e+02, -2.30898157e+02,\n",
       "        8.81160446e+01, -8.03420350e+01, -2.35051090e+02,  1.68876095e+02,\n",
       "       -1.92194904e+02, -2.75320188e+02, -8.18662622e+01, -2.02501109e+02,\n",
       "       -4.04714618e+01, -2.17175128e+02, -1.52986052e+02, -6.85173885e+01,\n",
       "       -1.92642307e+02, -1.39595103e+02, -5.40943269e+01, -1.30415719e+02,\n",
       "       -1.58604389e+02, -2.26575323e+02, -2.93890510e+02, -2.68385573e+02,\n",
       "       -1.74474766e+02, -2.44687383e+01, -1.52986052e+02, -1.39845518e+02,\n",
       "       -3.32273718e+01, -2.00046719e+02, -7.44381952e+01, -1.84289159e+02,\n",
       "        1.00922444e+02,  8.83998504e+01, -3.05874702e+01, -1.58623733e+02,\n",
       "        4.33813614e+01,  1.67638424e+02,  2.51620360e+02,  1.73368504e+02,\n",
       "        3.71520601e+02, -1.94038536e+02, -1.14822292e+02,  1.05694752e+02,\n",
       "        1.72053829e+02,  8.37756585e+01, -5.10439176e+01,  3.74330394e+02,\n",
       "        5.95398665e+02, -3.02272941e+01,  2.19161854e+02, -1.62488436e+02,\n",
       "       -2.09192625e+02,  2.89085556e+01,  7.14032450e+01,  2.34276379e+02,\n",
       "        3.46054986e+02,  2.66453192e+02,  2.35068585e+02,  1.64121040e+02,\n",
       "        1.47153246e+02,  5.47143236e+01,  8.32583450e+01,  1.64854658e+02,\n",
       "        1.12847170e+03, -1.25886852e+02,  2.93360355e+02,  5.92540146e+02,\n",
       "        1.38324619e+02, -7.72211261e-01,  3.27769783e+02,  1.74543821e+03,\n",
       "        1.44501417e+03,  3.88942099e+02,  1.46882277e+02,  3.23839318e+02,\n",
       "        1.28050726e+02, -1.17552705e+02,  1.15939972e+02,  4.34691733e+02,\n",
       "        2.47762377e+03,  7.05346017e+00,  5.15997415e+03,  1.33906211e+03,\n",
       "        1.00967804e+03,  3.01354919e+01,  1.71828129e+01, -1.02949628e+02,\n",
       "        1.01370460e+02])"
      ]
     },
     "execution_count": 16,
     "metadata": {},
     "output_type": "execute_result"
    }
   ],
   "source": [
    "# 단순 선형회귀 시각화\n",
    "line_fitter.predict(X_data) #: 생성변수 X에 대한 모델의 예측값"
   ]
  },
  {
   "cell_type": "code",
   "execution_count": 17,
   "id": "d6b05d82",
   "metadata": {},
   "outputs": [
    {
     "data": {
      "image/png": "[encoded data removed]",
      "text/plain": [
       "<Figure size 432x288 with 1 Axes>"
      ]
     },
     "metadata": {
      "needs_background": "light"
     },
     "output_type": "display_data"
    }
   ],
   "source": [
    "plt.plot(X_data,y_target,'o')\n",
    "plt.plot(X_data,line_fitter.predict(X_data)) #예측해낸 값은 직선으로 - 동그라미 데이터들 간의 오차가 가장 적은 대표직선입니다라는 뜻\n",
    "plt.show()"
   ]
  },
  {
   "cell_type": "code",
   "execution_count": 18,
   "id": "f0da329b",
   "metadata": {},
   "outputs": [
    {
     "name": "stdout",
     "output_type": "stream",
     "text": [
      "MSE : 6756771.351 , RMSE : 2599.379\n",
      "R2 결정계수 : 0.035\n"
     ]
    }
   ],
   "source": [
    "mse = mean_squared_error(y_test,y_predict)\n",
    "rmse = np.sqrt(mse)\n",
    "\n",
    "print('MSE : {0:.3f} , RMSE : {1:.3F}'.format(mse , rmse))\n",
    "print('R2 결정계수 : {0:.3f}'.format(r2_score(y_test, y_predict)))\n",
    "# 결정계수는 0~1값을 가지며, 1에 가까울수록 선형회귀 모델이 데이터에 대하여 높은 연관성을 가지고 있다고 해석\n",
    "\n",
    "# mse와 rmse의 값은 크고 R2의 값은 작아 "
   ]
  },
  {
   "cell_type": "markdown",
   "id": "758cbcc2",
   "metadata": {},
   "source": [
    "#### 아래는 교재 참고"
   ]
  },
  {
   "cell_type": "code",
   "execution_count": 18,
   "id": "e440267e",
   "metadata": {},
   "outputs": [],
   "source": [
    "X=kanal[['score']]\n",
    "y=kanal['일일종가차이']"
   ]
  },
  {
   "cell_type": "code",
   "execution_count": 19,
   "id": "14d1ccc8",
   "metadata": {},
   "outputs": [
    {
     "name": "stdout",
     "output_type": "stream",
     "text": [
      "train data 개수 :  401\n",
      "test data 개수 :  172\n"
     ]
    }
   ],
   "source": [
    "X_train, X_test, y_train, y_test = train_test_split(X, y, test_size=0.3, random_state=156)\n",
    "print('train data 개수 : ', len(X_train))\n",
    "print('test data 개수 : ', len(X_test))"
   ]
  },
  {
   "cell_type": "code",
   "execution_count": 20,
   "id": "224e524d",
   "metadata": {},
   "outputs": [
    {
     "data": {
      "text/plain": [
       "LinearRegression()"
      ]
     },
     "execution_count": 20,
     "metadata": {},
     "output_type": "execute_result"
    }
   ],
   "source": [
    "mlr = LinearRegression()\n",
    "mlr.fit(X_train, y_train)"
   ]
  },
  {
   "cell_type": "code",
   "execution_count": 21,
   "id": "97f72661",
   "metadata": {},
   "outputs": [
    {
     "name": "stdout",
     "output_type": "stream",
     "text": [
      "r제곱 :  0.03102283185457666\n",
      "기울기 :  [761.37527757]\n",
      "y절편 :  -19.81475406500867\n"
     ]
    }
   ],
   "source": [
    "r_square = mlr.score(X_test, y_test)\n",
    "print('r제곱 : ', r_square)\n",
    "print('기울기 : ', mlr.coef_)\n",
    "print('y절편 : ', mlr.intercept_)"
   ]
  },
  {
   "cell_type": "code",
   "execution_count": 22,
   "id": "915bded1",
   "metadata": {},
   "outputs": [],
   "source": [
    "y_pred = mlr.predict(X)"
   ]
  },
  {
   "cell_type": "code",
   "execution_count": 23,
   "id": "20f7b389",
   "metadata": {},
   "outputs": [
    {
     "data": {
      "image/png": "[encoded data removed]",
      "text/plain": [
       "<Figure size 720x360 with 1 Axes>"
      ]
     },
     "metadata": {
      "needs_background": "light"
     },
     "output_type": "display_data"
    }
   ],
   "source": [
    "plt.figure(figsize=(10,5))\n",
    "plt.rc('font', family='Gulim')\n",
    "ax1=sns.kdeplot(y,label='y_실제값')\n",
    "ax2=sns.kdeplot(y_pred, label='y_예측값',ax=ax1)\n",
    "plt.legend()\n",
    "plt.show()"
   ]
  },
  {
   "cell_type": "code",
   "execution_count": null,
   "id": "3ccb4651",
   "metadata": {},
   "outputs": [],
   "source": []
  },
  {
   "cell_type": "markdown",
   "id": "9776cb71",
   "metadata": {},
   "source": [
    "# 다중회귀분석\n",
    "#### 독립변수 : (1)Open, Volume, score - 3개 (2)Open, High, Low, Volume, score - 5개\n",
    "#### 종속변수 : 일일종가차이\n",
    "#### 감성점수가 독립변수와 상관성을 갖고 있는지 알아보기 위함"
   ]
  },
  {
   "cell_type": "code",
   "execution_count": 25,
   "id": "bffbf323",
   "metadata": {},
   "outputs": [
    {
     "data": {
      "text/html": [
       "<div>\n",
       "<style scoped>\n",
       "    .dataframe tbody tr th:only-of-type {\n",
       "        vertical-align: middle;\n",
       "    }\n",
       "\n",
       "    .dataframe tbody tr th {\n",
       "        vertical-align: top;\n",
       "    }\n",
       "\n",
       "    .dataframe thead th {\n",
       "        text-align: right;\n",
       "    }\n",
       "</style>\n",
       "<table border=\"1\" class=\"dataframe\">\n",
       "  <thead>\n",
       "    <tr style=\"text-align: right;\">\n",
       "      <th></th>\n",
       "      <th>Date</th>\n",
       "      <th>Open</th>\n",
       "      <th>High</th>\n",
       "      <th>Low</th>\n",
       "      <th>Close</th>\n",
       "      <th>Adj.Close</th>\n",
       "      <th>Volume</th>\n",
       "      <th>일일종가차이</th>\n",
       "      <th>score</th>\n",
       "    </tr>\n",
       "  </thead>\n",
       "  <tbody>\n",
       "    <tr>\n",
       "      <th>0</th>\n",
       "      <td>2020-01-02</td>\n",
       "      <td>30800.0</td>\n",
       "      <td>30900</td>\n",
       "      <td>30400.0</td>\n",
       "      <td>30500.0</td>\n",
       "      <td>30473.498047</td>\n",
       "      <td>1205235</td>\n",
       "      <td>-200</td>\n",
       "      <td>1.600000</td>\n",
       "    </tr>\n",
       "    <tr>\n",
       "      <th>1</th>\n",
       "      <td>2020-01-03</td>\n",
       "      <td>30700.0</td>\n",
       "      <td>31000</td>\n",
       "      <td>30200.0</td>\n",
       "      <td>30500.0</td>\n",
       "      <td>30473.498047</td>\n",
       "      <td>1574240</td>\n",
       "      <td>0</td>\n",
       "      <td>-0.900000</td>\n",
       "    </tr>\n",
       "    <tr>\n",
       "      <th>2</th>\n",
       "      <td>2020-01-06</td>\n",
       "      <td>30100.0</td>\n",
       "      <td>31000</td>\n",
       "      <td>30000.0</td>\n",
       "      <td>30900.0</td>\n",
       "      <td>30873.152344</td>\n",
       "      <td>1968575</td>\n",
       "      <td>400</td>\n",
       "      <td>0.250000</td>\n",
       "    </tr>\n",
       "    <tr>\n",
       "      <th>3</th>\n",
       "      <td>2020-01-07</td>\n",
       "      <td>31000.0</td>\n",
       "      <td>32000</td>\n",
       "      <td>30900.0</td>\n",
       "      <td>32000.0</td>\n",
       "      <td>31972.195313</td>\n",
       "      <td>4200930</td>\n",
       "      <td>1100</td>\n",
       "      <td>-0.625000</td>\n",
       "    </tr>\n",
       "    <tr>\n",
       "      <th>4</th>\n",
       "      <td>2020-01-08</td>\n",
       "      <td>31700.0</td>\n",
       "      <td>32400</td>\n",
       "      <td>31300.0</td>\n",
       "      <td>31900.0</td>\n",
       "      <td>31872.283203</td>\n",
       "      <td>4258095</td>\n",
       "      <td>-100</td>\n",
       "      <td>-0.312500</td>\n",
       "    </tr>\n",
       "    <tr>\n",
       "      <th>...</th>\n",
       "      <td>...</td>\n",
       "      <td>...</td>\n",
       "      <td>...</td>\n",
       "      <td>...</td>\n",
       "      <td>...</td>\n",
       "      <td>...</td>\n",
       "      <td>...</td>\n",
       "      <td>...</td>\n",
       "      <td>...</td>\n",
       "    </tr>\n",
       "    <tr>\n",
       "      <th>568</th>\n",
       "      <td>2022-04-21</td>\n",
       "      <td>95100.0</td>\n",
       "      <td>95100</td>\n",
       "      <td>93100.0</td>\n",
       "      <td>93600.0</td>\n",
       "      <td>93600.000000</td>\n",
       "      <td>1809576</td>\n",
       "      <td>-1500</td>\n",
       "      <td>1.118156</td>\n",
       "    </tr>\n",
       "    <tr>\n",
       "      <th>569</th>\n",
       "      <td>2022-04-22</td>\n",
       "      <td>92200.0</td>\n",
       "      <td>92400</td>\n",
       "      <td>91400.0</td>\n",
       "      <td>92000.0</td>\n",
       "      <td>92000.000000</td>\n",
       "      <td>1553904</td>\n",
       "      <td>-1600</td>\n",
       "      <td>0.050633</td>\n",
       "    </tr>\n",
       "    <tr>\n",
       "      <th>570</th>\n",
       "      <td>2022-04-25</td>\n",
       "      <td>90400.0</td>\n",
       "      <td>91600</td>\n",
       "      <td>89600.0</td>\n",
       "      <td>89700.0</td>\n",
       "      <td>89700.000000</td>\n",
       "      <td>1511408</td>\n",
       "      <td>-2300</td>\n",
       "      <td>0.036517</td>\n",
       "    </tr>\n",
       "    <tr>\n",
       "      <th>571</th>\n",
       "      <td>2022-04-26</td>\n",
       "      <td>89800.0</td>\n",
       "      <td>91700</td>\n",
       "      <td>89700.0</td>\n",
       "      <td>90200.0</td>\n",
       "      <td>90200.000000</td>\n",
       "      <td>1368258</td>\n",
       "      <td>500</td>\n",
       "      <td>-0.094406</td>\n",
       "    </tr>\n",
       "    <tr>\n",
       "      <th>572</th>\n",
       "      <td>2022-04-27</td>\n",
       "      <td>87600.0</td>\n",
       "      <td>88900</td>\n",
       "      <td>87600.0</td>\n",
       "      <td>88400.0</td>\n",
       "      <td>88400.000000</td>\n",
       "      <td>1379033</td>\n",
       "      <td>-1800</td>\n",
       "      <td>0.128266</td>\n",
       "    </tr>\n",
       "  </tbody>\n",
       "</table>\n",
       "<p>573 rows × 9 columns</p>\n",
       "</div>"
      ],
      "text/plain": [
       "           Date     Open   High      Low    Close     Adj.Close   Volume  \\\n",
       "0    2020-01-02  30800.0  30900  30400.0  30500.0  30473.498047  1205235   \n",
       "1    2020-01-03  30700.0  31000  30200.0  30500.0  30473.498047  1574240   \n",
       "2    2020-01-06  30100.0  31000  30000.0  30900.0  30873.152344  1968575   \n",
       "3    2020-01-07  31000.0  32000  30900.0  32000.0  31972.195313  4200930   \n",
       "4    2020-01-08  31700.0  32400  31300.0  31900.0  31872.283203  4258095   \n",
       "..          ...      ...    ...      ...      ...           ...      ...   \n",
       "568  2022-04-21  95100.0  95100  93100.0  93600.0  93600.000000  1809576   \n",
       "569  2022-04-22  92200.0  92400  91400.0  92000.0  92000.000000  1553904   \n",
       "570  2022-04-25  90400.0  91600  89600.0  89700.0  89700.000000  1511408   \n",
       "571  2022-04-26  89800.0  91700  89700.0  90200.0  90200.000000  1368258   \n",
       "572  2022-04-27  87600.0  88900  87600.0  88400.0  88400.000000  1379033   \n",
       "\n",
       "     일일종가차이     score  \n",
       "0      -200  1.600000  \n",
       "1         0 -0.900000  \n",
       "2       400  0.250000  \n",
       "3      1100 -0.625000  \n",
       "4      -100 -0.312500  \n",
       "..      ...       ...  \n",
       "568   -1500  1.118156  \n",
       "569   -1600  0.050633  \n",
       "570   -2300  0.036517  \n",
       "571     500 -0.094406  \n",
       "572   -1800  0.128266  \n",
       "\n",
       "[573 rows x 9 columns]"
      ]
     },
     "execution_count": 25,
     "metadata": {},
     "output_type": "execute_result"
    }
   ],
   "source": [
    "kanal"
   ]
  },
  {
   "cell_type": "code",
   "execution_count": 26,
   "id": "dc27c15e",
   "metadata": {},
   "outputs": [
    {
     "name": "stdout",
     "output_type": "stream",
     "text": [
      "<class 'pandas.core.frame.DataFrame'>\n",
      "Int64Index: 573 entries, 0 to 572\n",
      "Data columns (total 9 columns):\n",
      " #   Column     Non-Null Count  Dtype  \n",
      "---  ------     --------------  -----  \n",
      " 0   Date       573 non-null    object \n",
      " 1   Open       573 non-null    float64\n",
      " 2   High       573 non-null    int64  \n",
      " 3   Low        573 non-null    float64\n",
      " 4   Close      573 non-null    float64\n",
      " 5   Adj.Close  573 non-null    float64\n",
      " 6   Volume     573 non-null    int64  \n",
      " 7   일일종가차이     573 non-null    int64  \n",
      " 8   score      573 non-null    float64\n",
      "dtypes: float64(5), int64(3), object(1)\n",
      "memory usage: 60.9+ KB\n"
     ]
    }
   ],
   "source": [
    "kanal.info()"
   ]
  },
  {
   "cell_type": "markdown",
   "id": "ba84886c",
   "metadata": {},
   "source": [
    "### (1)"
   ]
  },
  {
   "cell_type": "code",
   "execution_count": 92,
   "id": "b7375b22",
   "metadata": {},
   "outputs": [
    {
     "data": {
      "image/png": "[encoded data removed]",
      "text/plain": [
       "<Figure size 1152x360 with 3 Axes>"
      ]
     },
     "metadata": {
      "needs_background": "light"
     },
     "output_type": "display_data"
    }
   ],
   "source": [
    "fig, axs = plt.subplots(figsize=(16,5) , ncols=3 , nrows=1)\n",
    "lm_features = ['Open','Volume','score']\n",
    "for i , feature in enumerate(lm_features):\n",
    "    row = int(i/1)\n",
    "    col = i%3\n",
    "#     # regplot()을 이용해서 각 변수와 price에 대한 산점도와 선형회귀 직선을 표현\n",
    "    sns.regplot(x=feature, y=\"일일종가차이\", data=kanal, ax=axs[col])\n",
    "# 시가와 거래량은 선이 일직선으로 보이나, 감성점수는 클 수록 일일종가차이도 커지는 것을 알 수 있음"
   ]
  },
  {
   "cell_type": "code",
   "execution_count": 93,
   "id": "0eb67527",
   "metadata": {},
   "outputs": [],
   "source": [
    "y_target = kanal['일일종가차이']\n",
    "# 타겟 제외하고 피처 데이터 세트 만들기\n",
    "X_data = kanal[['Open','Volume', 'score']]\n",
    "\n",
    "X_train , X_test , y_train , y_test = train_test_split(X_data , y_target ,test_size=0.3, random_state=156)"
   ]
  },
  {
   "cell_type": "code",
   "execution_count": 94,
   "id": "d0e84278",
   "metadata": {},
   "outputs": [
    {
     "name": "stdout",
     "output_type": "stream",
     "text": [
      "MSE : 6796961.990 , RMSE : 2607.098\n",
      "Variance score : 0.029\n"
     ]
    }
   ],
   "source": [
    "lr = LinearRegression()\n",
    "lr.fit(X_train, y_train) # 학습\n",
    "y_preds = lr.predict(X_test) # 테스트\n",
    "\n",
    "# 평가\n",
    "mse = mean_squared_error(y_test, y_preds)\n",
    "rmse = np.sqrt(mse)\n",
    "\n",
    "print('MSE : {0:.3f} , RMSE : {1:.3F}'.format(mse , rmse))\n",
    "print('Variance score : {0:.3f}'.format(r2_score(y_test, y_preds))) # r2 score는 여기서 계산\n",
    "\n",
    "# mse, rmse값 너무 큼\n",
    "# r2는 너무 작음"
   ]
  },
  {
   "cell_type": "code",
   "execution_count": 95,
   "id": "077d0b6c",
   "metadata": {},
   "outputs": [
    {
     "name": "stdout",
     "output_type": "stream",
     "text": [
      "절편값 : -206.7455639378921\n",
      "회귀계수값 :  [ -0.    0.  811.3]\n"
     ]
    }
   ],
   "source": [
    "print('절편값 :', lr.intercept_)\n",
    "print('회귀계수값 : ', np.round(lr.coef_, 1))"
   ]
  },
  {
   "cell_type": "code",
   "execution_count": 96,
   "id": "4c0c9bb1",
   "metadata": {},
   "outputs": [
    {
     "data": {
      "text/plain": [
       "score     811.3\n",
       "Open       -0.0\n",
       "Volume      0.0\n",
       "dtype: float64"
      ]
     },
     "execution_count": 96,
     "metadata": {},
     "output_type": "execute_result"
    }
   ],
   "source": [
    "# 각각에 대한 회귀계수 값 확인\n",
    "coeff = pd.Series(data=np.round(lr.coef_, 1), index=X_data.columns)\n",
    "coeff.sort_values(ascending=False)\n",
    "# score가 가장 높다(=가중치가 높다)"
   ]
  },
  {
   "cell_type": "code",
   "execution_count": 120,
   "id": "b30f3a0f",
   "metadata": {},
   "outputs": [],
   "source": [
    "y_target = kanal['일일종가차이']\n",
    "X_data = kanal[['Open','Volume','score']]\n",
    "lr = LinearRegression()\n",
    "\n",
    "# 5 fold 셋으로 neg_MSE를 구함\n",
    "neg_mse_scores = cross_val_score(lr, X_data, y_target, scoring='neg_mean_squared_error', cv=500)"
   ]
  },
  {
   "cell_type": "code",
   "execution_count": 108,
   "id": "4cdec4ce",
   "metadata": {},
   "outputs": [
    {
     "data": {
      "text/plain": [
       "array([-2055263.33876846, -6706279.98603278, -8699573.6180453 ])"
      ]
     },
     "execution_count": 108,
     "metadata": {},
     "output_type": "execute_result"
    }
   ],
   "source": [
    "neg_mse_scores"
   ]
  },
  {
   "cell_type": "code",
   "execution_count": 121,
   "id": "72a13dc8",
   "metadata": {
    "collapsed": true
   },
   "outputs": [
    {
     "name": "stdout",
     "output_type": "stream",
     "text": [
      " 500 folds 의 개별 Negative MSE scores:  [-1.97629791e+06 -1.19261154e+06 -7.19160500e+04 -9.43227600e+04\n",
      " -1.21768440e+05 -2.96019018e+06 -1.05670329e+06 -6.84563290e+05\n",
      " -1.72440402e+06 -5.14348100e+05 -1.46205982e+06 -3.64131530e+05\n",
      " -3.14957600e+05 -1.13687890e+05 -5.35140010e+05 -1.77179420e+05\n",
      " -3.69991650e+05 -5.24292320e+05 -1.15673940e+05 -8.76039870e+05\n",
      " -9.87172500e+04 -1.88671094e+06 -1.38749040e+05 -9.10025650e+05\n",
      " -5.94163720e+05 -3.82208866e+06 -3.05255859e+06 -7.02683173e+06\n",
      " -1.48400399e+06 -2.02323667e+06 -1.25742140e+05 -1.30780060e+06\n",
      " -2.01994800e+05 -2.10311416e+06 -1.27883480e+05 -9.02662510e+05\n",
      " -7.36179410e+05 -3.61859510e+05 -2.78276904e+06 -7.23589800e+04\n",
      " -1.88107730e+05 -2.90952198e+06 -2.68159280e+05 -1.11313729e+06\n",
      " -1.09992821e+06 -7.35493350e+05 -1.66478128e+06 -1.17713234e+06\n",
      " -5.53538542e+06 -2.90890707e+06 -4.19139450e+05 -3.40583972e+06\n",
      " -4.76099920e+05 -4.31960810e+05 -6.89110480e+05 -5.11696904e+06\n",
      " -1.61888505e+06 -1.45835640e+05 -1.55163282e+06 -1.40746801e+06\n",
      " -1.42413875e+06 -1.82000600e+04 -4.98400819e+06 -1.98720075e+06\n",
      " -1.70657084e+07 -4.20715050e+05 -2.58988296e+06 -5.32473131e+06\n",
      " -5.39921603e+06 -2.05258540e+06 -4.71650060e+05 -9.24256000e+04\n",
      " -2.01935692e+06 -1.83466701e+07 -2.56932580e+05 -5.68144800e+04\n",
      " -2.74702651e+06 -6.08709675e+06 -2.82964980e+05 -5.52113480e+05\n",
      " -6.62661100e+04 -1.11136079e+06 -6.34482600e+04 -6.55163994e+06\n",
      " -2.50955080e+05 -6.43356830e+06 -1.09783272e+06 -3.06105703e+06\n",
      " -3.03038900e+04 -3.27660988e+06 -1.08260431e+07 -1.40470391e+06\n",
      " -1.48444100e+04 -1.31634470e+06 -3.85388559e+06 -1.62003590e+05\n",
      " -2.97530225e+06 -4.00204305e+06 -1.76248230e+05 -1.63070608e+06\n",
      " -1.65629300e+04 -1.73424029e+06 -1.36601177e+06 -2.10206097e+06\n",
      " -5.53005240e+05 -1.42259684e+06 -2.70250590e+05 -2.07773136e+06\n",
      " -4.66712668e+06 -4.57144238e+06 -6.73692618e+06 -6.41813000e+03\n",
      " -1.10922342e+07 -6.97304570e+05 -9.51539690e+05 -4.35980616e+06\n",
      " -2.28028200e+04 -3.11133800e+04 -2.06788058e+06 -2.38923700e+04\n",
      " -7.60209060e+05 -2.15867075e+06 -3.88667060e+05 -4.55792670e+05\n",
      " -4.00000000e-02 -1.06183370e+05 -4.80128480e+05 -3.05319017e+06\n",
      " -4.10939071e+06 -5.28953500e+05 -4.85725978e+06 -4.57560310e+05\n",
      " -6.32727157e+06 -5.17502230e+05 -1.81366560e+05 -1.78439907e+07\n",
      " -2.85493180e+05 -1.03475631e+06 -2.34780000e+02 -1.13068842e+07\n",
      " -8.25872900e+04 -1.66138800e+04 -2.02140597e+06 -7.45280320e+05\n",
      " -7.35465300e+04 -1.77816440e+05 -1.69090000e+02 -3.77480000e+02\n",
      " -7.79661700e+04 -1.04858426e+06 -1.50592014e+06 -1.90079040e+06\n",
      " -2.57045000e+03 -1.45543533e+06 -1.38264558e+06 -2.13233330e+05\n",
      " -1.95275000e+03 -5.90039010e+06 -9.10487450e+05 -4.09671559e+06\n",
      " -4.42020000e+02 -8.87958920e+05 -1.71873750e+05 -1.61543710e+05\n",
      " -3.44113270e+05 -3.99531000e+03 -2.09214180e+05 -2.42224860e+05\n",
      " -3.65948771e+06 -7.38647230e+05 -1.17694700e+04 -6.19667540e+05\n",
      " -2.57643890e+05 -3.62042929e+06 -6.06073270e+05 -9.29376550e+05\n",
      " -4.79517910e+05 -6.79470000e+02 -1.81081947e+06 -3.15463773e+07\n",
      " -1.02270319e+07 -3.13779170e+05 -7.35887320e+05 -2.39528080e+05\n",
      " -7.45176270e+06 -5.75824824e+06 -5.22211735e+06 -3.06028160e+05\n",
      " -2.21502684e+06 -2.18821796e+06 -3.97731939e+06 -6.10905429e+06\n",
      " -6.89351170e+05 -2.17107315e+06 -1.15492122e+07 -7.17890000e+02\n",
      " -2.71505300e+05 -8.71497997e+06 -2.17418732e+06 -1.05932490e+05\n",
      " -4.02577000e+04 -7.98856000e+04 -2.63174257e+07 -5.58338335e+06\n",
      " -4.97291613e+06 -1.57121341e+06 -2.71711436e+06 -4.48403730e+05\n",
      " -7.93252770e+06 -4.69181320e+05 -6.26202797e+06 -4.52198499e+06\n",
      " -2.39412070e+05 -5.81962110e+05 -1.70432400e+04 -5.79041639e+06\n",
      " -6.15743690e+06 -1.09020926e+07 -6.29483542e+06 -1.22540686e+07\n",
      " -1.23220460e+07 -1.33179800e+04 -3.19297110e+05 -4.96555000e+03\n",
      " -8.91985680e+05 -5.50899328e+06 -1.40810957e+06 -8.68289500e+04\n",
      " -7.88163850e+05 -5.08746300e+04 -2.42811143e+06 -4.44653243e+06\n",
      " -3.22655563e+06 -1.05982845e+06 -4.89132620e+05 -1.97551000e+03\n",
      " -1.43191000e+03 -8.19720000e+03 -6.57565745e+07 -1.96005070e+05\n",
      " -7.66627360e+05 -3.09113547e+06 -1.45241400e+04 -1.56670000e+03\n",
      " -2.09040000e+02 -7.76911936e+07 -3.46695401e+06 -9.76441000e+03\n",
      " -3.65803060e+05 -2.29865704e+06 -4.23721720e+05 -6.20910000e+02\n",
      " -4.73497100e+05 -1.13923376e+07 -4.15601049e+06 -5.00528346e+06\n",
      " -1.04796066e+07 -1.41185307e+06 -1.02327340e+06 -1.17682000e+05\n",
      " -2.66574200e+04 -2.61827836e+06 -2.14422568e+06 -2.06401053e+06\n",
      " -1.24055322e+07 -1.57283300e+05 -2.10112957e+06 -4.71817790e+06\n",
      " -2.50669050e+05 -1.23924425e+07 -2.71637100e+05 -1.74628896e+06\n",
      " -2.99115630e+06 -2.79274732e+07 -7.70329794e+06 -7.90451690e+05\n",
      " -1.56973644e+07 -1.86377500e+04 -1.35951890e+05 -6.08310409e+06\n",
      " -3.03403967e+06 -6.05915008e+06 -4.18647910e+05 -1.96327321e+07\n",
      " -4.03551730e+06 -4.84544669e+07 -4.23626275e+06 -2.22241851e+06\n",
      " -2.46151756e+07 -4.84673633e+07 -2.47839800e+04 -1.72795211e+07\n",
      " -1.10784028e+08 -1.85145485e+08 -7.24193806e+06 -2.81529380e+05\n",
      " -9.41713075e+06 -2.57516139e+07 -8.13038551e+06 -1.48729760e+05\n",
      " -6.64445089e+06 -3.35723240e+05 -1.35107788e+07 -4.53114782e+06\n",
      " -5.67093339e+06 -2.44768382e+06 -9.17164060e+05 -1.15817770e+06\n",
      " -4.97468151e+06 -5.14150781e+06 -7.79503305e+06 -3.93878206e+06\n",
      " -5.03567305e+07 -6.51437759e+06 -3.92800833e+06 -3.59949637e+06\n",
      " -2.33689350e+05 -1.34080000e+03 -1.63241470e+05 -1.48361021e+06\n",
      " -2.18478200e+05 -2.89020037e+06 -3.00089706e+07 -3.02250600e+05\n",
      " -1.26495562e+07 -5.33432778e+06 -1.50545078e+06 -5.48336507e+06\n",
      " -1.31003757e+07 -1.88685369e+06 -1.54911071e+07 -1.09006053e+07\n",
      " -7.40331910e+05 -4.54657400e+06 -2.16300763e+07 -7.07936340e+05\n",
      " -4.29075042e+06 -1.19393420e+06 -3.99173110e+05 -3.10378056e+06\n",
      " -1.28859647e+07 -7.86540010e+05 -1.34380802e+06 -2.47805041e+06\n",
      " -4.38949260e+05 -3.63054200e+05 -2.68535507e+08 -1.08344530e+08\n",
      " -2.26082664e+06 -2.95687050e+07 -8.80626160e+05 -2.02431587e+06\n",
      " -6.37002170e+05 -3.16320404e+06 -1.94394937e+07 -2.22588798e+07\n",
      " -4.35759460e+05 -4.73794336e+06 -3.09188690e+05 -3.65267363e+06\n",
      " -9.54875870e+05 -2.75424371e+07 -4.74857754e+06 -4.34613740e+07\n",
      " -2.96697650e+06 -1.44650969e+07 -1.31473846e+07 -2.00916058e+07\n",
      " -2.95372270e+05 -7.93880500e+04 -3.50100020e+07 -4.56901650e+05\n",
      " -3.38445400e+04 -2.58819000e+03 -2.14574678e+06 -2.73939727e+06\n",
      " -1.76665151e+06 -7.59596865e+06 -2.68815000e+04 -2.36750000e+02\n",
      " -6.29141944e+06 -1.29805320e+07 -2.72187685e+07 -2.94795305e+06\n",
      " -1.14285114e+07 -1.43787200e+05 -1.70058025e+06 -2.83674673e+06\n",
      " -2.14948801e+06 -4.04453338e+06 -2.61444424e+06 -5.93608825e+06\n",
      " -1.89452700e+05 -5.31966726e+06 -2.21136013e+06 -1.49440725e+07\n",
      " -8.09284000e+03 -1.19154630e+07 -6.00747894e+06 -5.55544322e+06\n",
      " -5.50281130e+05 -5.96148130e+05 -9.37662100e+04 -1.33349825e+06\n",
      " -5.77751771e+06 -8.48458800e+04 -5.54571640e+05 -2.60760950e+06\n",
      " -4.59109160e+05 -6.59497580e+06 -1.39634031e+06 -6.61117400e+04\n",
      " -1.01720075e+06 -1.92648139e+06 -1.72768254e+07 -2.53962587e+06\n",
      " -8.05273200e+04 -1.14257938e+06 -2.27004820e+06 -1.24209901e+06\n",
      " -8.57446790e+05 -5.73216470e+05 -1.22816210e+06 -6.73506520e+05\n",
      " -3.34126602e+07 -2.98127405e+07 -1.07894200e+04 -1.04855832e+07\n",
      " -2.12083802e+06 -5.32370582e+06 -7.89695800e+04 -6.61811223e+06\n",
      " -4.90562960e+05 -2.42160200e+05 -1.83879182e+06 -4.54084078e+06\n",
      " -1.82751820e+05 -2.43806137e+06 -4.89156045e+06 -3.83129000e+04\n",
      " -2.31027863e+07 -6.27930355e+06 -1.02400130e+05 -3.90770462e+06\n",
      " -7.71420390e+05 -3.77175500e+04 -1.06887970e+05 -5.31368770e+05\n",
      " -1.69059242e+07 -1.00048063e+07 -3.69781540e+05 -1.08443961e+07\n",
      " -1.09955752e+06 -9.87374030e+05 -4.02326000e+03 -2.72200000e+01\n",
      " -7.41418000e+03 -1.61386162e+06 -1.63698262e+07 -1.89314560e+05\n",
      " -1.04951676e+06 -1.42011400e+06 -1.27398390e+05 -2.21450249e+07\n",
      " -3.20164470e+05 -1.02052000e+04 -4.55274000e+03 -1.23800130e+08\n",
      " -4.39855000e+03 -1.14558000e+03 -1.56428000e+03 -2.45612524e+07\n",
      " -2.81818300e+04 -3.86112333e+06 -2.06855000e+03 -6.61275022e+06\n",
      " -7.04986300e+04 -2.35398900e+04 -2.64597000e+03 -1.06884268e+06\n",
      " -2.99174800e+04 -4.54411140e+05 -4.87914496e+06 -4.60371900e+05\n",
      " -7.62012901e+06 -2.67863271e+07 -4.67786655e+06 -8.61877679e+06\n",
      " -6.13117350e+05 -2.92548079e+06 -2.11310000e+02 -1.11192290e+07\n",
      " -7.42519670e+05 -3.99299785e+07 -1.57346244e+06 -6.05252487e+06\n",
      " -2.32847918e+06 -4.92200235e+06 -5.16826760e+05 -3.26499016e+06]\n",
      " 500 folds 의 개별 RMSE scores :  [1.405810e+03 1.092070e+03 2.681700e+02 3.071200e+02 3.489500e+02\n",
      " 1.720520e+03 1.027960e+03 8.273800e+02 1.313170e+03 7.171800e+02\n",
      " 1.209160e+03 6.034300e+02 5.612100e+02 3.371800e+02 7.315300e+02\n",
      " 4.209300e+02 6.082700e+02 7.240800e+02 3.401100e+02 9.359700e+02\n",
      " 3.141900e+02 1.373580e+03 3.724900e+02 9.539500e+02 7.708200e+02\n",
      " 1.955020e+03 1.747160e+03 2.650820e+03 1.218200e+03 1.422410e+03\n",
      " 3.546000e+02 1.143590e+03 4.494400e+02 1.450210e+03 3.576100e+02\n",
      " 9.500900e+02 8.580100e+02 6.015500e+02 1.668160e+03 2.690000e+02\n",
      " 4.337100e+02 1.705730e+03 5.178400e+02 1.055050e+03 1.048770e+03\n",
      " 8.576100e+02 1.290260e+03 1.084960e+03 2.352740e+03 1.705550e+03\n",
      " 6.474100e+02 1.845490e+03 6.900000e+02 6.572400e+02 8.301300e+02\n",
      " 2.262070e+03 1.272350e+03 3.818800e+02 1.245650e+03 1.186370e+03\n",
      " 1.193370e+03 1.349100e+02 2.232490e+03 1.409680e+03 4.131070e+03\n",
      " 6.486300e+02 1.609310e+03 2.307540e+03 2.323620e+03 1.432680e+03\n",
      " 6.867700e+02 3.040200e+02 1.421040e+03 4.283300e+03 5.068900e+02\n",
      " 2.383600e+02 1.657420e+03 2.467200e+03 5.319400e+02 7.430400e+02\n",
      " 2.574200e+02 1.054210e+03 2.518900e+02 2.559620e+03 5.009500e+02\n",
      " 2.536450e+03 1.047780e+03 1.749590e+03 1.740800e+02 1.810140e+03\n",
      " 3.290300e+03 1.185200e+03 1.218400e+02 1.147320e+03 1.963130e+03\n",
      " 4.025000e+02 1.724910e+03 2.000510e+03 4.198200e+02 1.276990e+03\n",
      " 1.287000e+02 1.316910e+03 1.168770e+03 1.449850e+03 7.436400e+02\n",
      " 1.192730e+03 5.198600e+02 1.441430e+03 2.160350e+03 2.138090e+03\n",
      " 2.595560e+03 8.011000e+01 3.330500e+03 8.350500e+02 9.754700e+02\n",
      " 2.088010e+03 1.510100e+02 1.763900e+02 1.438010e+03 1.545700e+02\n",
      " 8.719000e+02 1.469240e+03 6.234300e+02 6.751200e+02 2.100000e-01\n",
      " 3.258600e+02 6.929100e+02 1.747340e+03 2.027160e+03 7.272900e+02\n",
      " 2.203920e+03 6.764300e+02 2.515410e+03 7.193800e+02 4.258700e+02\n",
      " 4.224210e+03 5.343200e+02 1.017230e+03 1.532000e+01 3.362570e+03\n",
      " 2.873800e+02 1.288900e+02 1.421760e+03 8.633000e+02 2.711900e+02\n",
      " 4.216800e+02 1.300000e+01 1.943000e+01 2.792200e+02 1.024000e+03\n",
      " 1.227160e+03 1.378690e+03 5.070000e+01 1.206410e+03 1.175860e+03\n",
      " 4.617700e+02 4.419000e+01 2.429070e+03 9.541900e+02 2.024030e+03\n",
      " 2.102000e+01 9.423200e+02 4.145800e+02 4.019300e+02 5.866100e+02\n",
      " 6.321000e+01 4.574000e+02 4.921600e+02 1.912980e+03 8.594500e+02\n",
      " 1.084900e+02 7.871900e+02 5.075900e+02 1.902740e+03 7.785100e+02\n",
      " 9.640400e+02 6.924700e+02 2.607000e+01 1.345670e+03 5.616620e+03\n",
      " 3.197970e+03 5.601600e+02 8.578400e+02 4.894200e+02 2.729790e+03\n",
      " 2.399640e+03 2.285200e+03 5.532000e+02 1.488300e+03 1.479260e+03\n",
      " 1.994320e+03 2.471650e+03 8.302700e+02 1.473460e+03 3.398410e+03\n",
      " 2.679000e+01 5.210600e+02 2.952110e+03 1.474510e+03 3.254700e+02\n",
      " 2.006400e+02 2.826400e+02 5.130050e+03 2.362920e+03 2.230000e+03\n",
      " 1.253480e+03 1.648370e+03 6.696300e+02 2.816470e+03 6.849700e+02\n",
      " 2.502400e+03 2.126500e+03 4.893000e+02 7.628600e+02 1.305500e+02\n",
      " 2.406330e+03 2.481420e+03 3.301830e+03 2.508950e+03 3.500580e+03\n",
      " 3.510280e+03 1.154000e+02 5.650600e+02 7.047000e+01 9.444500e+02\n",
      " 2.347120e+03 1.186640e+03 2.946700e+02 8.877900e+02 2.255500e+02\n",
      " 1.558240e+03 2.108680e+03 1.796260e+03 1.029480e+03 6.993800e+02\n",
      " 4.445000e+01 3.784000e+01 9.054000e+01 8.109040e+03 4.427200e+02\n",
      " 8.755700e+02 1.758160e+03 1.205200e+02 3.958000e+01 1.446000e+01\n",
      " 8.814260e+03 1.861980e+03 9.882000e+01 6.048200e+02 1.516130e+03\n",
      " 6.509400e+02 2.492000e+01 6.881100e+02 3.375250e+03 2.038630e+03\n",
      " 2.237250e+03 3.237220e+03 1.188210e+03 1.011570e+03 3.430500e+02\n",
      " 1.632700e+02 1.618110e+03 1.464320e+03 1.436670e+03 3.522150e+03\n",
      " 3.965900e+02 1.449530e+03 2.172140e+03 5.006700e+02 3.520290e+03\n",
      " 5.211900e+02 1.321470e+03 1.729500e+03 5.284650e+03 2.775480e+03\n",
      " 8.890700e+02 3.961990e+03 1.365200e+02 3.687200e+02 2.466390e+03\n",
      " 1.741850e+03 2.461530e+03 6.470300e+02 4.430880e+03 2.008860e+03\n",
      " 6.960920e+03 2.058220e+03 1.490780e+03 4.961370e+03 6.961850e+03\n",
      " 1.574300e+02 4.156860e+03 1.052540e+04 1.360682e+04 2.691080e+03\n",
      " 5.305900e+02 3.068730e+03 5.074600e+03 2.851380e+03 3.856500e+02\n",
      " 2.577680e+03 5.794200e+02 3.675700e+03 2.128650e+03 2.381370e+03\n",
      " 1.564510e+03 9.576900e+02 1.076190e+03 2.230400e+03 2.267490e+03\n",
      " 2.791960e+03 1.984640e+03 7.096250e+03 2.552330e+03 1.981920e+03\n",
      " 1.897230e+03 4.834100e+02 3.662000e+01 4.040300e+02 1.218040e+03\n",
      " 4.674200e+02 1.700060e+03 5.478040e+03 5.497700e+02 3.556620e+03\n",
      " 2.309620e+03 1.226970e+03 2.341660e+03 3.619440e+03 1.373630e+03\n",
      " 3.935870e+03 3.301610e+03 8.604300e+02 2.132270e+03 4.650810e+03\n",
      " 8.413900e+02 2.071410e+03 1.092670e+03 6.318000e+02 1.761750e+03\n",
      " 3.589700e+03 8.868700e+02 1.159230e+03 1.574180e+03 6.625300e+02\n",
      " 6.025400e+02 1.638705e+04 1.040887e+04 1.503600e+03 5.437710e+03\n",
      " 9.384200e+02 1.422780e+03 7.981200e+02 1.778540e+03 4.409020e+03\n",
      " 4.717930e+03 6.601200e+02 2.176680e+03 5.560500e+02 1.911200e+03\n",
      " 9.771800e+02 5.248090e+03 2.179120e+03 6.592520e+03 1.722490e+03\n",
      " 3.803300e+03 3.625930e+03 4.482370e+03 5.434800e+02 2.817600e+02\n",
      " 5.916930e+03 6.759500e+02 1.839700e+02 5.087000e+01 1.464840e+03\n",
      " 1.655110e+03 1.329150e+03 2.756080e+03 1.639600e+02 1.539000e+01\n",
      " 2.508270e+03 3.602850e+03 5.217160e+03 1.716960e+03 3.380610e+03\n",
      " 3.791900e+02 1.304060e+03 1.684260e+03 1.466110e+03 2.011100e+03\n",
      " 1.616920e+03 2.436410e+03 4.352600e+02 2.306440e+03 1.487060e+03\n",
      " 3.865760e+03 8.996000e+01 3.451880e+03 2.451020e+03 2.357000e+03\n",
      " 7.418100e+02 7.721100e+02 3.062100e+02 1.154770e+03 2.403650e+03\n",
      " 2.912800e+02 7.447000e+02 1.614810e+03 6.775800e+02 2.568070e+03\n",
      " 1.181670e+03 2.571200e+02 1.008560e+03 1.387980e+03 4.156540e+03\n",
      " 1.593620e+03 2.837700e+02 1.068920e+03 1.506670e+03 1.114490e+03\n",
      " 9.259800e+02 7.571100e+02 1.108220e+03 8.206700e+02 5.780370e+03\n",
      " 5.460100e+03 1.038700e+02 3.238150e+03 1.456310e+03 2.307320e+03\n",
      " 2.810200e+02 2.572570e+03 7.004000e+02 4.921000e+02 1.356020e+03\n",
      " 2.130920e+03 4.274900e+02 1.561430e+03 2.211690e+03 1.957400e+02\n",
      " 4.806540e+03 2.505850e+03 3.200000e+02 1.976790e+03 8.783100e+02\n",
      " 1.942100e+02 3.269400e+02 7.289500e+02 4.111680e+03 3.163040e+03\n",
      " 6.081000e+02 3.293080e+03 1.048600e+03 9.936700e+02 6.343000e+01\n",
      " 5.220000e+00 8.611000e+01 1.270380e+03 4.045960e+03 4.351000e+02\n",
      " 1.024460e+03 1.191690e+03 3.569300e+02 4.705850e+03 5.658300e+02\n",
      " 1.010200e+02 6.747000e+01 1.112655e+04 6.632000e+01 3.385000e+01\n",
      " 3.955000e+01 4.955930e+03 1.678700e+02 1.964970e+03 4.548000e+01\n",
      " 2.571530e+03 2.655200e+02 1.534300e+02 5.144000e+01 1.033850e+03\n",
      " 1.729700e+02 6.741000e+02 2.208880e+03 6.785100e+02 2.760460e+03\n",
      " 5.175550e+03 2.162840e+03 2.935780e+03 7.830200e+02 1.710400e+03\n",
      " 1.454000e+01 3.334550e+03 8.617000e+02 6.319020e+03 1.254380e+03\n",
      " 2.460190e+03 1.525940e+03 2.218560e+03 7.189100e+02 1.806930e+03]\n",
      " 500 folds 의 평균 RMSE : 1658.766 \n"
     ]
    }
   ],
   "source": [
    "rmse_scores = np.sqrt(-1*neg_mse_scores)\n",
    "avg_rmse = np.mean(rmse_scores)\n",
    "\n",
    "print(' 500 folds 의 개별 Negative MSE scores: ', np.round(neg_mse_scores, 2))\n",
    "print(' 500 folds 의 개별 RMSE scores : ', np.round(rmse_scores, 2))\n",
    "print(' 500 folds 의 평균 RMSE : {0:.3f} '.format(avg_rmse))"
   ]
  },
  {
   "cell_type": "code",
   "execution_count": 122,
   "id": "86a963c4",
   "metadata": {},
   "outputs": [
    {
     "name": "stdout",
     "output_type": "stream",
     "text": [
      "Variance score : 0.029\n"
     ]
    }
   ],
   "source": [
    "print('Variance score : {0:.3f}'.format(r2_score(y_test, y_preds)))"
   ]
  },
  {
   "cell_type": "markdown",
   "id": "91823b14",
   "metadata": {},
   "source": [
    "아래는 교재 참고"
   ]
  },
  {
   "cell_type": "code",
   "execution_count": 46,
   "id": "e15ce9cb",
   "metadata": {},
   "outputs": [],
   "source": [
    "ndf = kanal[['Open','Volume','score','일일종가차이']]\n",
    "X= ndf[['Open','Volume','score']]\n",
    "y=ndf['일일종가차이']"
   ]
  },
  {
   "cell_type": "code",
   "execution_count": 47,
   "id": "b0c47b57",
   "metadata": {},
   "outputs": [],
   "source": [
    "X_train, X_test, y_train, y_test = train_test_split(X,y,test_size=0.3, random_state=156)"
   ]
  },
  {
   "cell_type": "code",
   "execution_count": 48,
   "id": "59a1a874",
   "metadata": {
    "collapsed": true
   },
   "outputs": [
    {
     "name": "stdout",
     "output_type": "stream",
     "text": [
      "(401, 3)\n",
      "(172, 3)\n"
     ]
    }
   ],
   "source": [
    "print(X_train.shape)\n",
    "print(X_test.shape)"
   ]
  },
  {
   "cell_type": "code",
   "execution_count": 49,
   "id": "24429f00",
   "metadata": {},
   "outputs": [],
   "source": [
    "lr = LinearRegression()"
   ]
  },
  {
   "cell_type": "code",
   "execution_count": 50,
   "id": "20e74733",
   "metadata": {},
   "outputs": [
    {
     "data": {
      "text/plain": [
       "LinearRegression()"
      ]
     },
     "execution_count": 50,
     "metadata": {},
     "output_type": "execute_result"
    }
   ],
   "source": [
    "lr.fit(X_train, y_train)"
   ]
  },
  {
   "cell_type": "code",
   "execution_count": 51,
   "id": "302e1759",
   "metadata": {},
   "outputs": [
    {
     "name": "stdout",
     "output_type": "stream",
     "text": [
      "결정계수 :  0.02948101656562052\n",
      "X 변수의 계수 기울기 :  [-7.97815277e-04  6.40486638e-05  8.11347333e+02]\n",
      "회귀식의 y절편 :  -206.7455639378921\n"
     ]
    }
   ],
   "source": [
    "r_square = lr.score(X_test, y_test)\n",
    "print('결정계수 : ',r_square)\n",
    "print('X 변수의 계수 기울기 : ', lr.coef_)\n",
    "print('회귀식의 y절편 : ', lr.intercept_)"
   ]
  },
  {
   "cell_type": "code",
   "execution_count": 52,
   "id": "e6d4efdb",
   "metadata": {},
   "outputs": [],
   "source": [
    "y_hat = lr.predict(X_test)"
   ]
  },
  {
   "cell_type": "code",
   "execution_count": 53,
   "id": "1a0a2fe1",
   "metadata": {},
   "outputs": [
    {
     "data": {
      "image/png": "[encoded data removed]",
      "text/plain": [
       "<Figure size 720x360 with 1 Axes>"
      ]
     },
     "metadata": {
      "needs_background": "light"
     },
     "output_type": "display_data"
    }
   ],
   "source": [
    "plt.figure(figsize=(10,5))\n",
    "ax1=sns.kdeplot(y_test, label='y_실제값')\n",
    "ax2=sns.kdeplot(y_hat, label='y_예측값',ax=ax1)\n",
    "plt.legend()\n",
    "plt.show()"
   ]
  },
  {
   "cell_type": "code",
   "execution_count": null,
   "id": "117062a7",
   "metadata": {},
   "outputs": [],
   "source": []
  },
  {
   "cell_type": "markdown",
   "id": "c126e9e4",
   "metadata": {},
   "source": [
    "### (2)"
   ]
  },
  {
   "cell_type": "code",
   "execution_count": 12,
   "id": "949e29a9",
   "metadata": {},
   "outputs": [
    {
     "data": {
      "image/png": "[encoded data removed]",
      "text/plain": [
       "<Figure size 1440x288 with 5 Axes>"
      ]
     },
     "metadata": {
      "needs_background": "light"
     },
     "output_type": "display_data"
    }
   ],
   "source": [
    "fig, axs = plt.subplots(figsize=(20,4) , ncols=5 , nrows=1)\n",
    "lm_features = ['Open','High','Low', 'Volume','score']\n",
    "for i , feature in enumerate(lm_features):\n",
    "    row = int(i/1)\n",
    "    col = i%5\n",
    "    plt.rc('font', family='Gulim')\n",
    "    sns.regplot(x=feature, y=\"일일종가차이\", data=kanal, ax=axs[col])"
   ]
  },
  {
   "cell_type": "code",
   "execution_count": 9,
   "id": "8ed49813",
   "metadata": {},
   "outputs": [],
   "source": [
    "y_target = kanal['일일종가차이']\n",
    "# 타겟 제외하고 피처 데이터 세트 만들기\n",
    "X_data = kanal[['Open','High','Low','Volume', 'score']]\n",
    "\n",
    "X_train , X_test , y_train , y_test = train_test_split(X_data , y_target ,test_size=0.3, random_state=156)"
   ]
  },
  {
   "cell_type": "code",
   "execution_count": 11,
   "id": "1eccb374",
   "metadata": {},
   "outputs": [
    {
     "name": "stdout",
     "output_type": "stream",
     "text": [
      "MSE : 2071206.885 , RMSE : 1439.169\n",
      "결정계수 Variance score : 0.704\n"
     ]
    }
   ],
   "source": [
    "lr = LinearRegression()\n",
    "lr.fit(X_train, y_train) # 학습\n",
    "y_preds = lr.predict(X_test) # 테스트\n",
    "\n",
    "# 평가\n",
    "mse = mean_squared_error(y_test, y_preds)\n",
    "rmse = np.sqrt(mse)\n",
    "\n",
    "print('MSE : {0:.3f} , RMSE : {1:.3F}'.format(mse , rmse))\n",
    "print('결정계수 Variance score : {0:.3f}'.format(r2_score(y_test, y_preds))) # r2 score는 여기서 계산\n",
    "\n",
    "# mse, rmse 수치가 그나마 작아졌고, r2도 1에 가까워 짐"
   ]
  },
  {
   "cell_type": "code",
   "execution_count": 194,
   "id": "4026e9e3",
   "metadata": {},
   "outputs": [
    {
     "name": "stdout",
     "output_type": "stream",
     "text": [
      "절편값 : 186.7436122235024\n",
      "회귀계수값 :  [ -1.5   0.8   0.7  -0.  443.3]\n"
     ]
    }
   ],
   "source": [
    "print('절편값 :', lr.intercept_)\n",
    "print('회귀계수값 : ', np.round(lr.coef_, 1))"
   ]
  },
  {
   "cell_type": "code",
   "execution_count": 195,
   "id": "1e928aa2",
   "metadata": {},
   "outputs": [
    {
     "data": {
      "text/plain": [
       "score     443.3\n",
       "High        0.8\n",
       "Low         0.7\n",
       "Volume     -0.0\n",
       "Open       -1.5\n",
       "dtype: float64"
      ]
     },
     "execution_count": 195,
     "metadata": {},
     "output_type": "execute_result"
    }
   ],
   "source": [
    "# 각각에 대한 회귀계수 값 확인\n",
    "coeff = pd.Series(data=np.round(lr.coef_, 1), index=X_data.columns)\n",
    "coeff.sort_values(ascending=False)\n",
    "# 여기도 score가 가장 높다(=가중치가 높다)"
   ]
  },
  {
   "cell_type": "code",
   "execution_count": 208,
   "id": "fd6e929d",
   "metadata": {},
   "outputs": [],
   "source": [
    "y_target = kanal['일일종가차이']\n",
    "X_data = kanal[['Open','Volume','score']]\n",
    "lr = LinearRegression()\n",
    "\n",
    "# 5 fold 셋으로 neg_MSE를 구함\n",
    "neg_mse_scores = cross_val_score(lr, X_data, y_target, scoring='neg_mean_squared_error', cv=5)"
   ]
  },
  {
   "cell_type": "code",
   "execution_count": 34,
   "id": "2d519480",
   "metadata": {},
   "outputs": [
    {
     "data": {
      "text/plain": [
       "array([ -1639062.37989359,  -2512429.30165612,  -4631396.36865461,\n",
       "       -14721355.48979076,  -5746402.91588515])"
      ]
     },
     "execution_count": 34,
     "metadata": {},
     "output_type": "execute_result"
    }
   ],
   "source": [
    "neg_mse_scores"
   ]
  },
  {
   "cell_type": "code",
   "execution_count": 209,
   "id": "5d10136e",
   "metadata": {},
   "outputs": [
    {
     "name": "stdout",
     "output_type": "stream",
     "text": [
      " 5 folds 의 개별 Negative MSE scores:  [ -1639062.38  -2512429.3   -4631396.37 -14721355.49  -5746402.92]\n",
      " 5 folds 의 개별 RMSE scores :  [1280.26 1585.06 2152.07 3836.84 2397.17]\n",
      " 5 folds 의 평균 RMSE : 2250.280 \n"
     ]
    }
   ],
   "source": [
    "rmse_scores = np.sqrt(-1*neg_mse_scores)\n",
    "avg_rmse = np.mean(rmse_scores)\n",
    "\n",
    "print(' 5 folds 의 개별 Negative MSE scores: ', np.round(neg_mse_scores, 2))\n",
    "print(' 5 folds 의 개별 RMSE scores : ', np.round(rmse_scores, 2))\n",
    "print(' 5 folds 의 평균 RMSE : {0:.3f} '.format(avg_rmse))\n",
    "# 오히려 RMSE의 값이 더 커짐"
   ]
  },
  {
   "cell_type": "markdown",
   "id": "07aadcda",
   "metadata": {},
   "source": [
    "아래는 교재 참고"
   ]
  },
  {
   "cell_type": "code",
   "execution_count": 32,
   "id": "b94a058b",
   "metadata": {},
   "outputs": [],
   "source": [
    "ndf = kanal[['Open','Volume','score','일일종가차이','High','Low']]\n",
    "X= ndf[['Open','Volume','score','High','Low']]\n",
    "y=ndf['일일종가차이']"
   ]
  },
  {
   "cell_type": "code",
   "execution_count": 33,
   "id": "c8c71fe8",
   "metadata": {},
   "outputs": [],
   "source": [
    "X_train, X_test, y_train, y_test = train_test_split(X,y,test_size=0.3, random_state=156)"
   ]
  },
  {
   "cell_type": "code",
   "execution_count": 34,
   "id": "46e572b2",
   "metadata": {},
   "outputs": [
    {
     "name": "stdout",
     "output_type": "stream",
     "text": [
      "(401, 5)\n",
      "(172, 5)\n"
     ]
    }
   ],
   "source": [
    "print(X_train.shape)\n",
    "print(X_test.shape)"
   ]
  },
  {
   "cell_type": "code",
   "execution_count": 35,
   "id": "3b0ec74f",
   "metadata": {},
   "outputs": [],
   "source": [
    "lr = LinearRegression()"
   ]
  },
  {
   "cell_type": "code",
   "execution_count": 36,
   "id": "f1f886c9",
   "metadata": {},
   "outputs": [
    {
     "data": {
      "text/plain": [
       "LinearRegression()"
      ]
     },
     "execution_count": 36,
     "metadata": {},
     "output_type": "execute_result"
    }
   ],
   "source": [
    "lr.fit(X_train, y_train)"
   ]
  },
  {
   "cell_type": "code",
   "execution_count": 37,
   "id": "04c33f8f",
   "metadata": {},
   "outputs": [
    {
     "name": "stdout",
     "output_type": "stream",
     "text": [
      "결정계수 :  0.7042582254465986\n",
      "X 변수의 계수 기울기 :  [-1.53306655e+00 -2.18438545e-05  4.43278111e+02  7.88989668e-01\n",
      "  7.41492011e-01]\n",
      "회귀식의 y절편 :  186.74361213550696\n"
     ]
    }
   ],
   "source": [
    "r_square = lr.score(X_test, y_test)\n",
    "print('결정계수 : ',r_square)\n",
    "print('X 변수의 계수 기울기 : ', lr.coef_)\n",
    "print('회귀식의 y절편 : ', lr.intercept_)"
   ]
  },
  {
   "cell_type": "code",
   "execution_count": 38,
   "id": "c151ce24",
   "metadata": {},
   "outputs": [],
   "source": [
    "y_hat = lr.predict(X_test)"
   ]
  },
  {
   "cell_type": "code",
   "execution_count": 39,
   "id": "c1054c60",
   "metadata": {},
   "outputs": [
    {
     "data": {
      "image/png": "[encoded data removed]",
      "text/plain": [
       "<Figure size 720x360 with 1 Axes>"
      ]
     },
     "metadata": {
      "needs_background": "light"
     },
     "output_type": "display_data"
    }
   ],
   "source": [
    "plt.figure(figsize=(10,5))\n",
    "ax1=sns.kdeplot(y_test, label='y_실제값')\n",
    "ax2=sns.kdeplot(y_hat, label='y_예측값',ax=ax1)\n",
    "plt.legend()\n",
    "plt.show()\n",
    "# 모형간 오차가 비슷해졌다"
   ]
  },
  {
   "cell_type": "code",
   "execution_count": null,
   "id": "b0fe7423",
   "metadata": {},
   "outputs": [],
   "source": []
  },
  {
   "cell_type": "code",
   "execution_count": 218,
   "id": "2eeee337",
   "metadata": {},
   "outputs": [],
   "source": [
    "# 아래부터는 유의미한 결과를 찾기 어려워, 발표때는 스킵하도록 하고, 이런 분석을 해봤다는 것에 의의를 둠.\n",
    "\n",
    "# 다항회귀\n",
    "\n",
    "X1 = kanal[['Open','Volume', 'score']]\n",
    "y1 = kanal['일일종가차이']\n",
    "X_train , X_test , y_train , y_test = train_test_split(X1, y1 ,test_size=0.3, random_state=156)"
   ]
  },
  {
   "cell_type": "code",
   "execution_count": 219,
   "id": "3c535cca",
   "metadata": {},
   "outputs": [
    {
     "data": {
      "text/plain": [
       "Pipeline(steps=[('poly', PolynomialFeatures(degree=5)),\n",
       "                ('linear', LinearRegression())])"
      ]
     },
     "execution_count": 219,
     "metadata": {},
     "output_type": "execute_result"
    }
   ],
   "source": [
    "p_model = Pipeline([\n",
    "    ('poly',PolynomialFeatures(degree=5)),\n",
    "    ('linear',LinearRegression())\n",
    "])\n",
    "\n",
    "# pipeline에 data를 전달 해서 학습\n",
    "p_model.fit(X_train, y_train)"
   ]
  },
  {
   "cell_type": "code",
   "execution_count": 220,
   "id": "d7a43661",
   "metadata": {},
   "outputs": [
    {
     "name": "stdout",
     "output_type": "stream",
     "text": [
      "Polynomial 회귀 계수\n",
      " [ 0. -0.  0. -0.  0.  0.  0.  0. -0.  0.  0.  0.  0. -0.  0. -0.  0. -0.\n",
      "  0. -0. -0.  0. -0.  0. -0. -0. -0. -0. -0. -0. -0.  0.  0. -0. -0.  0.\n",
      " -0.  0.  0.  0. -0. -0.  0. -0. -0.  0. -0.  0. -0. -0. -0.  0.  0. -0.\n",
      " -0. -0.]\n"
     ]
    }
   ],
   "source": [
    "print('Polynomial 회귀 계수\\n', np.round(p_model.named_steps['linear'].coef_, 2))"
   ]
  },
  {
   "cell_type": "code",
   "execution_count": 221,
   "id": "88db47ba",
   "metadata": {},
   "outputs": [
    {
     "name": "stdout",
     "output_type": "stream",
     "text": [
      "MSE : 4070825.011 , RMSE : 2017.629\n",
      "Variance score : 0.419\n"
     ]
    }
   ],
   "source": [
    "### 학습된 회귀식을 이용해 예측/평가\n",
    "y_preds = p_model.predict(X_test)\n",
    "\n",
    "# 평가\n",
    "mse = mean_squared_error(y_test, y_preds)\n",
    "rmse = np.sqrt(mse)\n",
    "\n",
    "print('MSE : {0:.3f} , RMSE : {1:.3F}'.format(mse , rmse))\n",
    "print('Variance score : {0:.3f}'.format(r2_score(y_test, y_preds))) #r2 score는 여기"
   ]
  },
  {
   "cell_type": "code",
   "execution_count": 224,
   "id": "2e656ed5",
   "metadata": {},
   "outputs": [
    {
     "data": {
      "text/plain": [
       "((401, 55), (401, 3))"
      ]
     },
     "execution_count": 224,
     "metadata": {},
     "output_type": "execute_result"
    }
   ],
   "source": [
    "X_train_poly= PolynomialFeatures(degree=5, include_bias=False).fit_transform(X_train, y_train)\n",
    "X_train_poly.shape, X_train.shape"
   ]
  },
  {
   "cell_type": "markdown",
   "id": "a7cdcc73",
   "metadata": {},
   "source": [
    "아래는 교재 참고"
   ]
  },
  {
   "cell_type": "code",
   "execution_count": 89,
   "id": "7eaf8dab",
   "metadata": {},
   "outputs": [
    {
     "name": "stdout",
     "output_type": "stream",
     "text": [
      "0.41873840731358625\n"
     ]
    }
   ],
   "source": [
    "poly = PolynomialFeatures(degree=5)\n",
    "X_train_poly=poly.fit_transform(X_train)\n",
    "\n",
    "pr = LinearRegression()\n",
    "pr.fit(X_train_poly, y_train)\n",
    "\n",
    "X_test_poly = poly.fit_transform(X_test)\n",
    "r_square = pr.score(X_test_poly, y_test)\n",
    "print(r_square)"
   ]
  },
  {
   "cell_type": "code",
   "execution_count": 90,
   "id": "d82f9c7c",
   "metadata": {},
   "outputs": [
    {
     "data": {
      "image/png": "[encoded data removed]",
      "text/plain": [
       "<Figure size 720x576 with 1 Axes>"
      ]
     },
     "metadata": {
      "needs_background": "light"
     },
     "output_type": "display_data"
    }
   ],
   "source": [
    "y_pred_test = pr.predict(X_test_poly)\n",
    "\n",
    "fig=plt.figure(figsize=(10,8))\n",
    "ax=fig.add_subplot(1,1,1)\n",
    "ax.plot(X_train, y_train, 'o', label='Train Data') # 데이터 분포\n",
    "ax.plot(X_test, y_pred_test, 'r+', label='Predicted Value') # 모형이 학습한 회귀선\n",
    "ax.legend(loc='best')\n",
    "plt.show()\n",
    "plt.close()"
   ]
  },
  {
   "cell_type": "code",
   "execution_count": 91,
   "id": "f00725e5",
   "metadata": {},
   "outputs": [
    {
     "data": {
      "image/png": "[encoded data removed]",
      "text/plain": [
       "<Figure size 720x360 with 1 Axes>"
      ]
     },
     "metadata": {
      "needs_background": "light"
     },
     "output_type": "display_data"
    }
   ],
   "source": [
    "X_poly = poly.fit_transform(X1)\n",
    "y_pred_test = pr.predict(X_poly)\n",
    "\n",
    "plt.figure(figsize=(10,5))\n",
    "ax1=sns.kdeplot(y, label='y_실제값')\n",
    "ax2=sns.kdeplot(y_pred, label='y_예측값', ax=ax1)\n",
    "plt.legend()\n",
    "plt.show()"
   ]
  },
  {
   "cell_type": "code",
   "execution_count": null,
   "id": "175067f5",
   "metadata": {},
   "outputs": [],
   "source": []
  },
  {
   "cell_type": "code",
   "execution_count": null,
   "id": "cd8d3e15",
   "metadata": {},
   "outputs": [],
   "source": []
  },
  {
   "cell_type": "code",
   "execution_count": 149,
   "id": "56db3c5c",
   "metadata": {},
   "outputs": [],
   "source": [
    "from sklearn.linear_model import Ridge\n",
    "from sklearn.model_selection import cross_val_score"
   ]
  },
  {
   "cell_type": "code",
   "execution_count": 225,
   "id": "1991f03c",
   "metadata": {},
   "outputs": [
    {
     "name": "stdout",
     "output_type": "stream",
     "text": [
      " 5 folds 의 개별 Negative MSE scores:  [ -1483679.211  -2530602.941  -4657095.981 -14758479.065  -5549208.07 ]\n",
      " 5 folds 의 개별 RMSE scores :  [1218.064 1590.787 2158.031 3841.677 2355.676]\n",
      " 5 folds 의 평균 RMSE : 2232.847 \n"
     ]
    }
   ],
   "source": [
    "# 다항회귀 릿지\n",
    "X1 = kanal[['Open','Volume', 'score']]\n",
    "y1 = kanal['일일종가차이']\n",
    "\n",
    "ridge = Ridge(alpha=10)\n",
    "neg_mse_scores = cross_val_score(ridge, X1, y1, scoring='neg_mean_squared_error', cv=5) # mse가 음수로 반환\n",
    "rmse_scores = np.sqrt(-1*neg_mse_scores) #-1을 곱해줘서 mse를 양수로 반환해 rmse를 계산\n",
    "avg_rmse = np.mean(rmse_scores)\n",
    "\n",
    "print(' 5 folds 의 개별 Negative MSE scores: ', np.round(neg_mse_scores, 3))\n",
    "print(' 5 folds 의 개별 RMSE scores : ', np.round(rmse_scores,3))\n",
    "print(' 5 folds 의 평균 RMSE : {0:.3f} '.format(avg_rmse))"
   ]
  },
  {
   "cell_type": "code",
   "execution_count": 232,
   "id": "769f7a1b",
   "metadata": {},
   "outputs": [
    {
     "name": "stdout",
     "output_type": "stream",
     "text": [
      "alpha 1 일 때 500 folds 의 평균 RMSE : 1658.575 \n",
      "alpha 10 일 때 500 folds 의 평균 RMSE : 1657.195 \n",
      "alpha 100 일 때 500 folds 의 평균 RMSE : 1656.851 \n",
      "alpha 1000 일 때 500 folds 의 평균 RMSE : 1667.313 \n",
      "alpha 10000 일 때 500 folds 의 평균 RMSE : 1672.179 \n"
     ]
    }
   ],
   "source": [
    "# alpha 파라미터 값 정의\n",
    "alphas = [1,10,100,1000,10000]\n",
    "\n",
    "for alpha in alphas :\n",
    "    ridge = Ridge(alpha=alpha)\n",
    "    neg_mse_scores = cross_val_score(ridge, X_data, y_target, scoring='neg_mean_squared_error', cv=500) # mse가 음수로 반환\n",
    "    rmse_scores = np.sqrt(-1*neg_mse_scores)\n",
    "    avg_rmse = np.mean(rmse_scores)\n",
    "\n",
    "    print('alpha {0} 일 때 500 folds 의 평균 RMSE : {1:.3f} '.format(alpha,avg_rmse))\n",
    "    "
   ]
  },
  {
   "cell_type": "code",
   "execution_count": 227,
   "id": "e2ae5188",
   "metadata": {},
   "outputs": [
    {
     "data": {
      "image/png": "[encoded data removed]",
      "text/plain": [
       "<Figure size 1296x432 with 3 Axes>"
      ]
     },
     "metadata": {
      "needs_background": "light"
     },
     "output_type": "display_data"
    }
   ],
   "source": [
    "# 각 alpha에 따른 회귀 계수 값을 시각화하기 위해 5개의 열로 된 맷플롯립 축 생성  \n",
    "fig , axs = plt.subplots(figsize=(18,6) , nrows=1 , ncols=3)"
   ]
  },
  {
   "cell_type": "code",
   "execution_count": 233,
   "id": "1c2ba036",
   "metadata": {},
   "outputs": [],
   "source": [
    "# 각 alpha에 따른 회귀계수 값을 데이터로 저장하기 위한 df 생성\n",
    "coeff_df = pd.DataFrame()"
   ]
  },
  {
   "cell_type": "code",
   "execution_count": 234,
   "id": "83d3dea9",
   "metadata": {},
   "outputs": [
    {
     "data": {
      "text/plain": [
       "[1, 10, 100, 1000, 10000]"
      ]
     },
     "execution_count": 234,
     "metadata": {},
     "output_type": "execute_result"
    }
   ],
   "source": [
    "alphas"
   ]
  },
  {
   "cell_type": "code",
   "execution_count": 235,
   "id": "4e406a09",
   "metadata": {},
   "outputs": [
    {
     "data": {
      "image/png": "[encoded data removed]",
      "text/plain": [
       "<Figure size 1296x432 with 5 Axes>"
      ]
     },
     "metadata": {
      "needs_background": "light"
     },
     "output_type": "display_data"
    }
   ],
   "source": [
    "fig , axs = plt.subplots(figsize=(18,6) , nrows=1 , ncols=5)\n",
    "\n",
    "for pos, alpha in enumerate(alphas) :\n",
    "    ridge = Ridge(alpha=alpha) # 초기화\n",
    "    ridge.fit(X_data, y_target) #학습\n",
    "    \n",
    "    # alpha에 따른 피처별 회귀 계수를 Series로 변환하고 이를 df의 컬럼으로 추가\n",
    "    coeff = pd.Series(data=ridge.coef_, index = X_data.columns)\n",
    "    colname = 'alpha:'+ str(alpha)\n",
    "    coeff_df[colname] = coeff\n",
    "    \n",
    "    # 막대 그래프로 각 alpha 값에서의 회귀 계수를 시각화. \n",
    "    # 회귀 계수값이 높은 순으로 표현\n",
    "    coeff = coeff.sort_values(ascending=False)\n",
    "    axs[pos].set_title(colname)\n",
    "    axs[pos].set_xlim(0,1660)\n",
    "    sns.barplot(x=coeff.values , y=coeff.index, ax=axs[pos])\n",
    "plt.show()\n",
    "# "
   ]
  },
  {
   "cell_type": "code",
   "execution_count": 236,
   "id": "839611a4",
   "metadata": {},
   "outputs": [
    {
     "data": {
      "text/html": [
       "<div>\n",
       "<style scoped>\n",
       "    .dataframe tbody tr th:only-of-type {\n",
       "        vertical-align: middle;\n",
       "    }\n",
       "\n",
       "    .dataframe tbody tr th {\n",
       "        vertical-align: top;\n",
       "    }\n",
       "\n",
       "    .dataframe thead th {\n",
       "        text-align: right;\n",
       "    }\n",
       "</style>\n",
       "<table border=\"1\" class=\"dataframe\">\n",
       "  <thead>\n",
       "    <tr style=\"text-align: right;\">\n",
       "      <th></th>\n",
       "      <th>alpha:1</th>\n",
       "      <th>alpha:10</th>\n",
       "      <th>alpha:100</th>\n",
       "      <th>alpha:1000</th>\n",
       "      <th>alpha:10000</th>\n",
       "    </tr>\n",
       "  </thead>\n",
       "  <tbody>\n",
       "    <tr>\n",
       "      <th>Open</th>\n",
       "      <td>-0.003005</td>\n",
       "      <td>-0.002995</td>\n",
       "      <td>-0.002944</td>\n",
       "      <td>-0.002892</td>\n",
       "      <td>-0.002881</td>\n",
       "    </tr>\n",
       "    <tr>\n",
       "      <th>Volume</th>\n",
       "      <td>0.000041</td>\n",
       "      <td>0.000041</td>\n",
       "      <td>0.000036</td>\n",
       "      <td>0.000032</td>\n",
       "      <td>0.000031</td>\n",
       "    </tr>\n",
       "    <tr>\n",
       "      <th>score</th>\n",
       "      <td>935.349975</td>\n",
       "      <td>861.189143</td>\n",
       "      <td>480.341845</td>\n",
       "      <td>88.585677</td>\n",
       "      <td>9.675385</td>\n",
       "    </tr>\n",
       "  </tbody>\n",
       "</table>\n",
       "</div>"
      ],
      "text/plain": [
       "           alpha:1    alpha:10   alpha:100  alpha:1000  alpha:10000\n",
       "Open     -0.003005   -0.002995   -0.002944   -0.002892    -0.002881\n",
       "Volume    0.000041    0.000041    0.000036    0.000032     0.000031\n",
       "score   935.349975  861.189143  480.341845   88.585677     9.675385"
      ]
     },
     "execution_count": 236,
     "metadata": {},
     "output_type": "execute_result"
    }
   ],
   "source": [
    "# alpha값에 따른 컬럼별 회귀 계수 출력\n",
    "coeff_df"
   ]
  },
  {
   "cell_type": "code",
   "execution_count": null,
   "id": "c6ede0c2",
   "metadata": {},
   "outputs": [],
   "source": []
  },
  {
   "cell_type": "code",
   "execution_count": null,
   "id": "d4dd255a",
   "metadata": {},
   "outputs": [],
   "source": []
  },
  {
   "cell_type": "code",
   "execution_count": 175,
   "id": "0b1cf69e",
   "metadata": {},
   "outputs": [],
   "source": [
    "from sklearn.linear_model import Lasso, ElasticNet\n",
    "\n",
    "# 뒤에 ElasticNet에서도 사용할 수 있도록 함수로 작성\n",
    "# alpha값에 따른 회귀 모델의 폴드 평균 RMSE를 출력하고\n",
    "# 회귀 계수값들을 DataFrame으로 반환하는 함수 생성\n",
    "\n",
    "def get_linear_reg_eval(model_name,params=None,X_data_n=None,y_target_n=None,verbose=True) :\n",
    "    coeff_df = pd.DataFrame() # 회귀계수를 저장할 빈 df 생성\n",
    "    if verbose : print('####### ', model_name , '#######') # Log 출력\n",
    "    print(params)    \n",
    "    for param in params : # alpha값 변화\n",
    "        # 모델별 해당 클래스 객체 생성\n",
    "        if model_name =='Ridge': model = Ridge(alpha=param)\n",
    "        elif model_name =='Lasso': model = Lasso(alpha=param)\n",
    "        elif model_name =='ElasticNet': model = ElasticNet(alpha=param, l1_ratio=0.7)\n",
    "            \n",
    "        # 교차 검증 수행\n",
    "        neg_mse_scores = cross_val_score(model, X_data_n, \n",
    "                                             y_target_n, scoring=\"neg_mean_squared_error\", cv = 500)\n",
    "        avg_rmse = np.mean(np.sqrt(-1 * neg_mse_scores))\n",
    "        print('alpha {0}일 때 5 폴드 세트의 평균 RMSE: {1:.3f} '.format(param, avg_rmse))\n",
    "        \n",
    "        # cross_val_score는 evaluation metric만 반환하므로 모델을 다시 학습하여 회귀 계수 추출\n",
    "        model.fit(X_data, y_target_n)\n",
    "        \n",
    "        # alpha에 따른 피처별 회귀 계수를 Series로 변환하고 이를 DataFrame의 컬럼으로 추가. \n",
    "        coeff = pd.Series(data=model.coef_ , index=X_data.columns )\n",
    "        colname='alpha:'+str(param)\n",
    "        coeff_df[colname] = coeff\n",
    "        \n",
    "    return coeff_df\n",
    "        "
   ]
  },
  {
   "cell_type": "code",
   "execution_count": 180,
   "id": "2ee20dde",
   "metadata": {},
   "outputs": [
    {
     "name": "stdout",
     "output_type": "stream",
     "text": [
      "#######  Lasso #######\n",
      "[0.1, 1, 5, 50, 100]\n",
      "alpha 0.1일 때 5 폴드 세트의 평균 RMSE: 1658.758 \n",
      "alpha 1일 때 5 폴드 세트의 평균 RMSE: 1658.691 \n",
      "alpha 5일 때 5 폴드 세트의 평균 RMSE: 1658.399 \n",
      "alpha 50일 때 5 폴드 세트의 평균 RMSE: 1657.109 \n",
      "alpha 100일 때 5 폴드 세트의 평균 RMSE: 1659.785 \n"
     ]
    }
   ],
   "source": [
    "lasso_alphas = [ 0.1, 1, 5, 50,100]\n",
    "coeff_lasso_df = get_linear_reg_eval('Lasso', params=lasso_alphas, X_data_n=X_data, y_target_n=y_target)"
   ]
  },
  {
   "cell_type": "code",
   "execution_count": 181,
   "id": "6b36706a",
   "metadata": {},
   "outputs": [
    {
     "data": {
      "text/html": [
       "<div>\n",
       "<style scoped>\n",
       "    .dataframe tbody tr th:only-of-type {\n",
       "        vertical-align: middle;\n",
       "    }\n",
       "\n",
       "    .dataframe tbody tr th {\n",
       "        vertical-align: top;\n",
       "    }\n",
       "\n",
       "    .dataframe thead th {\n",
       "        text-align: right;\n",
       "    }\n",
       "</style>\n",
       "<table border=\"1\" class=\"dataframe\">\n",
       "  <thead>\n",
       "    <tr style=\"text-align: right;\">\n",
       "      <th></th>\n",
       "      <th>alpha:0.1</th>\n",
       "      <th>alpha:1</th>\n",
       "      <th>alpha:5</th>\n",
       "      <th>alpha:50</th>\n",
       "      <th>alpha:100</th>\n",
       "    </tr>\n",
       "  </thead>\n",
       "  <tbody>\n",
       "    <tr>\n",
       "      <th>Open</th>\n",
       "      <td>-0.003006</td>\n",
       "      <td>-0.003005</td>\n",
       "      <td>-0.003003</td>\n",
       "      <td>-0.002969</td>\n",
       "      <td>-0.002932</td>\n",
       "    </tr>\n",
       "    <tr>\n",
       "      <th>Volume</th>\n",
       "      <td>0.000042</td>\n",
       "      <td>0.000041</td>\n",
       "      <td>0.000041</td>\n",
       "      <td>0.000038</td>\n",
       "      <td>0.000035</td>\n",
       "    </tr>\n",
       "    <tr>\n",
       "      <th>score</th>\n",
       "      <td>943.832560</td>\n",
       "      <td>938.850532</td>\n",
       "      <td>916.708185</td>\n",
       "      <td>667.606769</td>\n",
       "      <td>390.827449</td>\n",
       "    </tr>\n",
       "  </tbody>\n",
       "</table>\n",
       "</div>"
      ],
      "text/plain": [
       "         alpha:0.1     alpha:1     alpha:5    alpha:50   alpha:100\n",
       "Open     -0.003006   -0.003005   -0.003003   -0.002969   -0.002932\n",
       "Volume    0.000042    0.000041    0.000041    0.000038    0.000035\n",
       "score   943.832560  938.850532  916.708185  667.606769  390.827449"
      ]
     },
     "execution_count": 181,
     "metadata": {},
     "output_type": "execute_result"
    }
   ],
   "source": [
    "# alpha 값에 따른 피처별 회귀 계수\n",
    "# 반환된 coeff_lasso_df를 첫번째 컬럼순으로 내림차순 정렬하여 회귀계수 DataFrame출력\n",
    "coeff_lasso_df"
   ]
  },
  {
   "cell_type": "code",
   "execution_count": null,
   "id": "929b5ead",
   "metadata": {},
   "outputs": [],
   "source": []
  },
  {
   "cell_type": "code",
   "execution_count": null,
   "id": "e67f7076",
   "metadata": {},
   "outputs": [],
   "source": []
  },
  {
   "cell_type": "code",
   "execution_count": null,
   "id": "f7bc6c3a",
   "metadata": {},
   "outputs": [],
   "source": []
  }
 ],
 "metadata": {
  "kernelspec": {
   "display_name": "Python 3 (ipykernel)",
   "language": "python",
   "name": "python3"
  },
  "language_info": {
   "codemirror_mode": {
    "name": "ipython",
    "version": 3
   },
   "file_extension": ".py",
   "mimetype": "text/x-python",
   "name": "python",
   "nbconvert_exporter": "python",
   "pygments_lexer": "ipython3",
   "version": "3.9.7"
  }
 },
 "nbformat": 4,
 "nbformat_minor": 5
}
