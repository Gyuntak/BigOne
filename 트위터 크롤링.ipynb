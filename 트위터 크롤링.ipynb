{
 "cells": [
  {
   "cell_type": "code",
   "execution_count": 1,
   "id": "ebd8ee45",
   "metadata": {
    "collapsed": true
   },
   "outputs": [
    {
     "name": "stdout",
     "output_type": "stream",
     "text": [
      "Collecting snscrape\n",
      "  Downloading snscrape-0.4.3.20220106-py3-none-any.whl (59 kB)\n",
      "Requirement already satisfied: requests[socks] in c:\\anaconda3\\lib\\site-packages (from snscrape) (2.26.0)\n",
      "Requirement already satisfied: beautifulsoup4 in c:\\anaconda3\\lib\\site-packages (from snscrape) (4.10.0)\n",
      "Requirement already satisfied: filelock in c:\\anaconda3\\lib\\site-packages (from snscrape) (3.3.1)\n",
      "Requirement already satisfied: lxml in c:\\anaconda3\\lib\\site-packages (from snscrape) (4.6.3)\n",
      "Requirement already satisfied: soupsieve>1.2 in c:\\anaconda3\\lib\\site-packages (from beautifulsoup4->snscrape) (2.2.1)\n",
      "Requirement already satisfied: certifi>=2017.4.17 in c:\\anaconda3\\lib\\site-packages (from requests[socks]->snscrape) (2021.10.8)\n",
      "Requirement already satisfied: urllib3<1.27,>=1.21.1 in c:\\anaconda3\\lib\\site-packages (from requests[socks]->snscrape) (1.26.7)\n",
      "Requirement already satisfied: charset-normalizer~=2.0.0 in c:\\anaconda3\\lib\\site-packages (from requests[socks]->snscrape) (2.0.4)\n",
      "Requirement already satisfied: idna<4,>=2.5 in c:\\anaconda3\\lib\\site-packages (from requests[socks]->snscrape) (3.2)\n",
      "Requirement already satisfied: PySocks!=1.5.7,>=1.5.6 in c:\\anaconda3\\lib\\site-packages (from requests[socks]->snscrape) (1.7.1)\n",
      "Installing collected packages: snscrape\n",
      "Successfully installed snscrape-0.4.3.20220106\n"
     ]
    }
   ],
   "source": [
    "!pip install snscrape"
   ]
  },
  {
   "cell_type": "code",
   "execution_count": 1,
   "id": "54ae24be",
   "metadata": {
    "scrolled": true
   },
   "outputs": [
    {
     "data": {
      "text/html": [
       "<div>\n",
       "<style scoped>\n",
       "    .dataframe tbody tr th:only-of-type {\n",
       "        vertical-align: middle;\n",
       "    }\n",
       "\n",
       "    .dataframe tbody tr th {\n",
       "        vertical-align: top;\n",
       "    }\n",
       "\n",
       "    .dataframe thead th {\n",
       "        text-align: right;\n",
       "    }\n",
       "</style>\n",
       "<table border=\"1\" class=\"dataframe\">\n",
       "  <thead>\n",
       "    <tr style=\"text-align: right;\">\n",
       "      <th></th>\n",
       "      <th>Datetime</th>\n",
       "      <th>Text</th>\n",
       "    </tr>\n",
       "  </thead>\n",
       "  <tbody>\n",
       "    <tr>\n",
       "      <th>0</th>\n",
       "      <td>2022-04-27 10:52:12+00:00</td>\n",
       "      <td>@HI_Lite_asahi 기업은 카카오도 커피콩도 아니면서 블랙이지 말아라! (돈...</td>\n",
       "    </tr>\n",
       "    <tr>\n",
       "      <th>1</th>\n",
       "      <td>2022-04-27 10:49:15+00:00</td>\n",
       "      <td>카카오 기업이 독과점이 뭔지 제대로 보여주는 예시인데 아무리 불편하다고 우리가 외친...</td>\n",
       "    </tr>\n",
       "    <tr>\n",
       "      <th>2</th>\n",
       "      <td>2022-04-27 10:18:46+00:00</td>\n",
       "      <td>카카오·네이버·넷마블에 두나무까지…IT 기업이 '대기업 지도' 바꾼다 https:/...</td>\n",
       "    </tr>\n",
       "    <tr>\n",
       "      <th>3</th>\n",
       "      <td>2022-04-27 09:28:57+00:00</td>\n",
       "      <td>주식krx bj봄설희주식 주식갤러리카카오 주식회사로고 증권방송포도티비 주식추천책 네...</td>\n",
       "    </tr>\n",
       "    <tr>\n",
       "      <th>4</th>\n",
       "      <td>2022-04-27 05:59:45+00:00</td>\n",
       "      <td>@Crazy_cat_sound 내가 생각하는 국내 IT기업 최악의 합병은 다음과 카...</td>\n",
       "    </tr>\n",
       "    <tr>\n",
       "      <th>...</th>\n",
       "      <td>...</td>\n",
       "      <td>...</td>\n",
       "    </tr>\n",
       "    <tr>\n",
       "      <th>3874</th>\n",
       "      <td>2020-01-05 20:57:48+00:00</td>\n",
       "      <td>아맞아 확실히 SF는 시대상을 반영하는게 정보기업이 얼마나 무서운지 드러냄\\n실제로...</td>\n",
       "    </tr>\n",
       "    <tr>\n",
       "      <th>3875</th>\n",
       "      <td>2020-01-05 15:30:19+00:00</td>\n",
       "      <td>몇년전부터 그래서 중국계 기업 쓰지말라고 정보 다 넘어간다고 얘기 돌았었음 카카오뿐...</td>\n",
       "    </tr>\n",
       "    <tr>\n",
       "      <th>3876</th>\n",
       "      <td>2020-01-03 03:26:17+00:00</td>\n",
       "      <td>현재 전 세계 5만개 이상의 기업이 ‘시프티’를 이용하고 있다. 카카오, 위워크, ...</td>\n",
       "    </tr>\n",
       "    <tr>\n",
       "      <th>3877</th>\n",
       "      <td>2020-01-02 13:23:38+00:00</td>\n",
       "      <td>① 기업핵심분석자료\\n② 알짜중견중소 50곳 가이드북 (초봉 5,400만원 등 대기...</td>\n",
       "    </tr>\n",
       "    <tr>\n",
       "      <th>3878</th>\n",
       "      <td>2020-01-01 20:13:55+00:00</td>\n",
       "      <td>@New_Zeta 되는 은행들이 정해져있어요 금융위원회 공식 블로그에 청년층 맞춤형...</td>\n",
       "    </tr>\n",
       "  </tbody>\n",
       "</table>\n",
       "<p>3879 rows × 2 columns</p>\n",
       "</div>"
      ],
      "text/plain": [
       "                      Datetime  \\\n",
       "0    2022-04-27 10:52:12+00:00   \n",
       "1    2022-04-27 10:49:15+00:00   \n",
       "2    2022-04-27 10:18:46+00:00   \n",
       "3    2022-04-27 09:28:57+00:00   \n",
       "4    2022-04-27 05:59:45+00:00   \n",
       "...                        ...   \n",
       "3874 2020-01-05 20:57:48+00:00   \n",
       "3875 2020-01-05 15:30:19+00:00   \n",
       "3876 2020-01-03 03:26:17+00:00   \n",
       "3877 2020-01-02 13:23:38+00:00   \n",
       "3878 2020-01-01 20:13:55+00:00   \n",
       "\n",
       "                                                   Text  \n",
       "0     @HI_Lite_asahi 기업은 카카오도 커피콩도 아니면서 블랙이지 말아라! (돈...  \n",
       "1     카카오 기업이 독과점이 뭔지 제대로 보여주는 예시인데 아무리 불편하다고 우리가 외친...  \n",
       "2     카카오·네이버·넷마블에 두나무까지…IT 기업이 '대기업 지도' 바꾼다 https:/...  \n",
       "3     주식krx bj봄설희주식 주식갤러리카카오 주식회사로고 증권방송포도티비 주식추천책 네...  \n",
       "4     @Crazy_cat_sound 내가 생각하는 국내 IT기업 최악의 합병은 다음과 카...  \n",
       "...                                                 ...  \n",
       "3874  아맞아 확실히 SF는 시대상을 반영하는게 정보기업이 얼마나 무서운지 드러냄\\n실제로...  \n",
       "3875  몇년전부터 그래서 중국계 기업 쓰지말라고 정보 다 넘어간다고 얘기 돌았었음 카카오뿐...  \n",
       "3876  현재 전 세계 5만개 이상의 기업이 ‘시프티’를 이용하고 있다. 카카오, 위워크, ...  \n",
       "3877  ① 기업핵심분석자료\\n② 알짜중견중소 50곳 가이드북 (초봉 5,400만원 등 대기...  \n",
       "3878  @New_Zeta 되는 은행들이 정해져있어요 금융위원회 공식 블로그에 청년층 맞춤형...  \n",
       "\n",
       "[3879 rows x 2 columns]"
      ]
     },
     "execution_count": 1,
     "metadata": {},
     "output_type": "execute_result"
    }
   ],
   "source": [
    "import snscrape.modules.twitter as sntwitter\n",
    "import pandas as pd\n",
    "\n",
    "# 트윗을 긁어와서 넣어놓을 리스트 생성\n",
    "tweets_list = []\n",
    "\n",
    "# TwitterSearchScraper를 이용하여 해당 트윗을 긁어와서 리스트에 넣기\n",
    "for i,tweet in enumerate(sntwitter.TwitterSearchScraper('카카오 기업 since:2020-01-01 until:2022-04-28').get_items()):\n",
    "    tweets_list.append([tweet.date, tweet.content])\n",
    "    \n",
    "# 다 긁어왔다면 데이터 프레임으로 저장시키기\n",
    "tweets_df = pd.DataFrame(tweets_list, columns=['Datetime', 'Text'])\n",
    "tweets_df"
   ]
  },
  {
   "cell_type": "code",
   "execution_count": 4,
   "id": "c1bb6ccb",
   "metadata": {},
   "outputs": [],
   "source": [
    "tweets_df.to_csv('./twitter2주치.csv')"
   ]
  },
  {
   "cell_type": "code",
   "execution_count": null,
   "id": "ede6baa9",
   "metadata": {},
   "outputs": [],
   "source": []
  },
  {
   "cell_type": "code",
   "execution_count": null,
   "id": "e3f160b0",
   "metadata": {},
   "outputs": [],
   "source": []
  },
  {
   "cell_type": "code",
   "execution_count": null,
   "id": "b0876adb",
   "metadata": {},
   "outputs": [],
   "source": []
  },
  {
   "cell_type": "code",
   "execution_count": null,
   "id": "59dda0c7",
   "metadata": {},
   "outputs": [],
   "source": []
  },
  {
   "cell_type": "code",
   "execution_count": null,
   "id": "86cbe656",
   "metadata": {},
   "outputs": [],
   "source": []
  },
  {
   "cell_type": "code",
   "execution_count": null,
   "id": "232b9077",
   "metadata": {},
   "outputs": [],
   "source": []
  }
 ],
 "metadata": {
  "kernelspec": {
   "display_name": "Python 3 (ipykernel)",
   "language": "python",
   "name": "python3"
  },
  "language_info": {
   "codemirror_mode": {
    "name": "ipython",
    "version": 3
   },
   "file_extension": ".py",
   "mimetype": "text/x-python",
   "name": "python",
   "nbconvert_exporter": "python",
   "pygments_lexer": "ipython3",
   "version": "3.9.12"
  }
 },
 "nbformat": 4,
 "nbformat_minor": 5
}
