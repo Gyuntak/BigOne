{
 "cells": [
  {
   "cell_type": "markdown",
   "id": "707f9682",
   "metadata": {},
   "source": [
    "### 네이버 증권페이지 내의 종목토론실에서 의견 수집"
   ]
  },
  {
   "cell_type": "code",
   "execution_count": 1,
   "id": "822a56d1",
   "metadata": {},
   "outputs": [],
   "source": [
    "from selenium import webdriver\n",
    "import time\n",
    "\n",
    "from bs4 import BeautifulSoup\n",
    "from urllib.request import urlopen\n",
    "from urllib.request import Request\n",
    "import pandas as pd\n",
    "import numpy as np"
   ]
  },
  {
   "cell_type": "code",
   "execution_count": 2,
   "id": "80e8ced2",
   "metadata": {},
   "outputs": [
    {
     "name": "stderr",
     "output_type": "stream",
     "text": [
      "C:\\Users\\admin\\AppData\\Local\\Temp/ipykernel_20112/627124562.py:2: DeprecationWarning: executable_path has been deprecated, please pass in a Service object\n",
      "  driver = webdriver.Chrome('./driver/chromedriver')\n"
     ]
    }
   ],
   "source": [
    "# 크롬 웹브라우저 실행\n",
    "driver = webdriver.Chrome('./driver/chromedriver')"
   ]
  },
  {
   "cell_type": "code",
   "execution_count": 3,
   "id": "8b00efd8",
   "metadata": {},
   "outputs": [],
   "source": [
    "# 네이버증권 페이지 접속 - 1페이지 테스트\n",
    "driver.get('https://finance.naver.com/item/board.naver?code=035720&page=1')"
   ]
  },
  {
   "cell_type": "code",
   "execution_count": 275,
   "id": "299275d1",
   "metadata": {},
   "outputs": [
    {
     "data": {
      "text/plain": [
       "16519"
      ]
     },
     "execution_count": 275,
     "metadata": {},
     "output_type": "execute_result"
    }
   ],
   "source": [
    "# 해당 페이지 소스 가져오기\n",
    "req = driver.page_source\n",
    "soup = BeautifulSoup(req, 'html.parser')\n",
    "soup\n",
    "# 마지막 페이지 숫자만 추출\n",
    "last_page = int(soup.select_one('#content > div.section.inner_sub > table:nth-child(3) > tbody > tr > td:nth-child(2) > table > tbody > tr > td.pgRR > a')['href'][35:])\n",
    "type(last_page) # str -> int로 변경\n",
    "last_page # 16519"
   ]
  },
  {
   "cell_type": "markdown",
   "id": "290ec755",
   "metadata": {},
   "source": [
    "### 테이블로 구성되어있는데, 한페이지 내에서 자식선택자로 모든 tr 가져오기\n",
    "- content > div.section.inner_sub > table.type2 > tbody > tr:nth-child(3) ~ 3부터 7\n",
    "- content > div.section.inner_sub > table.type2 > tbody > tr:nth-child(9) ~ 9부터 13\n",
    "- content > div.section.inner_sub > table.type2 > tbody > tr:nth-child(15) ~ 15부터 19\n",
    "- content > div.section.inner_sub > table.type2 > tbody > tr:nth-child(21) ~ 21부터 25"
   ]
  },
  {
   "cell_type": "markdown",
   "id": "fa41b1f4",
   "metadata": {},
   "source": [
    "- 날짜, 제목, url, 공감수, 비공감수 수집할 것\n",
    "\n",
    "**공감수와 비공감수**\n",
    "- \" 0 \" 인 경우 : ('strong',{'class':'tah p10 gray03'})\n",
    "- \" 0 초과 \" 공감 : ('strong',{'class':'tah p10 red01'})\n",
    "- \" 0 초과 \" 비공감 : ('strong',{'class':'tah p10 blue01'})\n",
    "\n",
    "\n",
    "- 날짜에서 2020.01.01까지 조건걸기\n",
    "\n",
    "\n",
    "- url접속 후 글내용을 위 df에 합치기"
   ]
  },
  {
   "cell_type": "code",
   "execution_count": 276,
   "id": "ce9665c5",
   "metadata": {},
   "outputs": [],
   "source": [
    "# 빈리스트생성\n",
    "date = []\n",
    "title = []\n",
    "url = []\n",
    "upvote = []\n",
    "downvote = []\n",
    "\n",
    "\n",
    "# 네이버증권 페이지 이동\n",
    "base_url = 'https://finance.naver.com/item/board.naver?code=035720&page='\n",
    "\n",
    "num = 1"
   ]
  },
  {
   "cell_type": "code",
   "execution_count": 277,
   "id": "ec1754d5",
   "metadata": {
    "scrolled": true
   },
   "outputs": [],
   "source": [
    "\n",
    "while num <= last_page :\n",
    "    driver.get('https://finance.naver.com/item/board.naver?code=035720&page='+str(num))\n",
    "\n",
    "    # 해당 페이지 소스 가져오기\n",
    "    req = driver.page_source\n",
    "    soup = BeautifulSoup(req, 'html.parser')\n",
    "\n",
    "    # 테이블 tr 전체 가져오기 \n",
    "    for i in range(3,26) : \n",
    "        boxes = soup.select('#content > div.section.inner_sub > table.type2 > tbody > tr:nth-child('+str(i)+')')\n",
    "    #         print(boxes)\n",
    "\n",
    "        # tr 코드 하나씩 for문으로 읽기\n",
    "        for box in boxes :\n",
    "\n",
    "            # 중간에 구분선 tr이 있어서 에러발생. 예외처리\n",
    "            try :\n",
    "                # 2022~2020 년도 작성글만 수집\n",
    "                year_check = box.find('span',{'class':'tah p10 gray03'}).text[:-6]\n",
    "\n",
    "                if \"2022\"or\"2021\"or\"2020\" in year_check : \n",
    "\n",
    "                    # 날짜\n",
    "                    date.append(year_check)\n",
    "                    # 제목\n",
    "                    title.append(box.find('a')['title'])\n",
    "                    # url\n",
    "                    url.append(box.find('a')['href'])\n",
    "                    # 공감\n",
    "                    upvote.append(box.select('strong')[0].text)\n",
    "                    # 비공감\n",
    "                    downvote.append(box.select('strong')[1].text)\n",
    "\n",
    "            except :\n",
    "                continue\n",
    "\n",
    "    # VIEW탭에서 수집한 url 데이터프레임\n",
    "    discuss_df = pd.DataFrame({'작성일':date,'제목':title,'url':url, '공감':upvote, '비공감':downvote})\n",
    "    \n",
    "    if num%5 == 0 :\n",
    "        discuss_df.to_csv('./crawl_data/discuss_df_df.csv')\n",
    "    \n",
    "    num+=1"
   ]
  },
  {
   "cell_type": "code",
   "execution_count": 279,
   "id": "3e050ee2",
   "metadata": {},
   "outputs": [],
   "source": [
    "driver.close()"
   ]
  },
  {
   "cell_type": "code",
   "execution_count": null,
   "id": "86f2a16c",
   "metadata": {},
   "outputs": [],
   "source": []
  },
  {
   "cell_type": "markdown",
   "id": "567f41ce",
   "metadata": {},
   "source": [
    "### 페이지 넘기기\n",
    "- url : https://finance.naver.com/item/board.naver?code=035720&page= \"페이지번호\"\n",
    "\n",
    "1. select나 xpath를 통해 드라이버로 클릭?\n",
    "\n",
    "2. for문으로 마지막페이지까지..?"
   ]
  },
  {
   "cell_type": "markdown",
   "id": "1e9bd75d",
   "metadata": {},
   "source": [
    "### 드라이버로 페이지 이동 후 데이터 수집"
   ]
  },
  {
   "cell_type": "markdown",
   "id": "089094e1",
   "metadata": {},
   "source": [
    "- 1페이지 \n",
    "- //*[@id=\"content\"]/div[2]/table[2]/tbody/tr/td[2]/table/tbody/tr/td[1]/a\n",
    "- //*[@id=\"content\"]/div[2]/table[2]/tbody/tr/td[2]/table/tbody/tr/td[2]/a\n",
    "- //*[@id=\"content\"]/div[2]/table[2]/tbody/tr/td[2]/table/tbody/tr/td[3]/a\n",
    "- ...\n",
    "- //*[@id=\"content\"]/div[2]/table[2]/tbody/tr/td[2]/table/tbody/tr/td[10]/a\n",
    "- 1페이지 > 다음\n",
    "- //*[@id=\"content\"]/div[2]/table[2]/tbody/tr/td[2]/table/tbody/tr/td[11]/a\n",
    "\n",
    "\n",
    "- 2페이지\n",
    "- //*[@id=\"content\"]/div[2]/table[2]/tbody/tr/td[2]/table/tbody/tr/td[3]/a\n",
    "- //*[@id=\"content\"]/div[2]/table[2]/tbody/tr/td[2]/table/tbody/tr/td[3]/a\n",
    "- //*[@id=\"content\"]/div[2]/table[2]/tbody/tr/td[2]/table/tbody/tr/td[4]/a\n",
    "- ...\n",
    "- //*[@id=\"content\"]/div[2]/table[2]/tbody/tr/td[2]/table/tbody/tr/td[12]/a\n",
    "- //*[@id=\"content\"]/div[2]/table[2]/tbody/tr/td[2]/table/tbody/tr/td[12]/a\n",
    "- 2페이지 > 다음\n",
    "- //*[@id=\"content\"]/div[2]/table[2]/tbody/tr/td[2]/table/tbody/tr/td[13]/a\n",
    "- //*[@id=\"content\"]/div[2]/table[2]/tbody/tr/td[2]/table/tbody/tr/td[13]/a "
   ]
  },
  {
   "cell_type": "code",
   "execution_count": 278,
   "id": "7a59fd88",
   "metadata": {},
   "outputs": [
    {
     "data": {
      "text/plain": [
       "'https://finance.naver.com/item/board.naver?code=035720&page=16519'"
      ]
     },
     "execution_count": 278,
     "metadata": {},
     "output_type": "execute_result"
    }
   ],
   "source": [
    "driver.current_url"
   ]
  },
  {
   "cell_type": "code",
   "execution_count": null,
   "id": "c1940d00",
   "metadata": {},
   "outputs": [],
   "source": [
    "from selenium import webdriver\n",
    "import time\n",
    "\n",
    "from bs4 import BeautifulSoup\n",
    "from urllib.request import urlopen\n",
    "from urllib.request import Request\n",
    "import pandas as pd\n",
    "import numpy as np"
   ]
  },
  {
   "cell_type": "code",
   "execution_count": null,
   "id": "39c3b91a",
   "metadata": {},
   "outputs": [],
   "source": [
    "# 네이버증권 페이지 접속 - 1페이지 테스트\n",
    "#driver.get('https://finance.naver.com/item/board.naver?code=035720&page=1')\n",
    "#content > div.section.inner_sub > table:nth-child(3) > tbody > tr > td:nth-child(2) > table > tbody > tr > td.on > a\n",
    "#content > div.section.inner_sub > table:nth-child(3) > tbody > tr > td:nth-child(2) > table > tbody > tr > td:nth-child(2) > a\n",
    "#content > div.section.inner_sub > table:nth-child(3) > tbody > tr > td:nth-child(2) > table > tbody > tr > td:nth-child(5) > a\n",
    "#content > div.section.inner_sub > table:nth-child(3) > tbody > tr > td:nth-child(2) > table > tbody > tr > td:nth-child(10) > a"
   ]
  },
  {
   "cell_type": "code",
   "execution_count": null,
   "id": "6043a10f",
   "metadata": {},
   "outputs": [],
   "source": []
  },
  {
   "cell_type": "code",
   "execution_count": 232,
   "id": "2357f849",
   "metadata": {},
   "outputs": [
    {
     "name": "stderr",
     "output_type": "stream",
     "text": [
      "C:\\Users\\admin\\AppData\\Local\\Temp/ipykernel_22500/2879495366.py:2: DeprecationWarning: executable_path has been deprecated, please pass in a Service object\n",
      "  driver = webdriver.Chrome('./driver/chromedriver')\n"
     ]
    },
    {
     "data": {
      "text/plain": [
       "16519"
      ]
     },
     "execution_count": 232,
     "metadata": {},
     "output_type": "execute_result"
    }
   ],
   "source": [
    "# 크롬 웹브라우저 실행\n",
    "driver = webdriver.Chrome('./driver/chromedriver')\n",
    "\n",
    "# 카카오종목토론실 1페이지로 일단 접속\n",
    "driver.get('https://finance.naver.com/item/board.naver?code=035720&page=1')\n",
    "\n",
    "# 1페이지 소스 가져오기\n",
    "req = driver.page_source\n",
    "soup = BeautifulSoup(req, 'html.parser')\n",
    "\n",
    "# 네이버증권 페이지 접속 - 1페이지 테스트\n",
    "base_url = 'https://finance.naver.com/item/board.naver?code=035720&page='\n",
    "# 마지막 페이지 숫자만 추출\n",
    "last_page = int(soup.select_one('#content > div.section.inner_sub > table:nth-child(3) > tbody > tr > td:nth-child(2) > table > tbody > tr > td.pgRR > a')['href'][35:])\n",
    "type(last_page) # str -> int로 변경\n",
    "last_page # 16519"
   ]
  },
  {
   "cell_type": "markdown",
   "id": "45f4ee11",
   "metadata": {},
   "source": [
    "### 테스트데이터 수집 (2022.04.18~04.27)"
   ]
  },
  {
   "cell_type": "code",
   "execution_count": 4,
   "id": "a1ea72d1",
   "metadata": {},
   "outputs": [],
   "source": [
    "from selenium import webdriver\n",
    "import time\n",
    "\n",
    "from bs4 import BeautifulSoup\n",
    "from urllib.request import urlopen\n",
    "from urllib.request import Request\n",
    "import pandas as pd\n",
    "import numpy as np"
   ]
  },
  {
   "cell_type": "code",
   "execution_count": 9,
   "id": "717e3fe9",
   "metadata": {},
   "outputs": [],
   "source": [
    "# 빈리스트생성\n",
    "date = []\n",
    "title = []\n",
    "url = []\n",
    "\n",
    "# 네이버증권 페이지 이동 \n",
    "base_url = 'https://finance.naver.com/item/board.naver?code=035720&page='\n",
    "# 84페이지까지\n",
    "last_page = 84\n",
    "\n",
    "num = 1"
   ]
  },
  {
   "cell_type": "code",
   "execution_count": 10,
   "id": "909b91a7",
   "metadata": {},
   "outputs": [],
   "source": [
    "\n",
    "while num <= last_page :\n",
    "    driver.get('https://finance.naver.com/item/board.naver?code=035720&page='+str(num))\n",
    "\n",
    "    # 해당 페이지 소스 가져오기\n",
    "    req = driver.page_source\n",
    "    soup = BeautifulSoup(req, 'html.parser')\n",
    "\n",
    "    # 테이블 tr 전체 가져오기 \n",
    "    for i in range(3,26) : \n",
    "        boxes = soup.select('#content > div.section.inner_sub > table.type2 > tbody > tr:nth-child('+str(i)+')')\n",
    "    #         print(boxes)\n",
    "\n",
    "        # tr 코드 하나씩 for문으로 읽기\n",
    "        for box in boxes :\n",
    "\n",
    "            # 중간에 구분선 tr이 있어서 에러발생. 예외처리\n",
    "            try :\n",
    "                # 2022~2020 년도 작성글만 수집\n",
    "                year_check = box.find('span',{'class':'tah p10 gray03'}).text[:-6]\n",
    "\n",
    "                if \"2022.04.17\" not in year_check : \n",
    "\n",
    "                    # 날짜\n",
    "                    date.append(year_check)\n",
    "                    # 제목\n",
    "                    title.append(box.find('a')['title'])\n",
    "                    # url\n",
    "                    url.append(box.find('a')['href'])\n",
    "\n",
    "            except :\n",
    "                continue\n",
    "\n",
    "    # VIEW탭에서 수집한 url 데이터프레임\n",
    "    discuss_df = pd.DataFrame({'작성일':date,'제목':title,'url':url})\n",
    "    \n",
    "    if num%5 == 0 :\n",
    "        discuss_df.to_csv('./crawl_data/test_discuss.csv')\n",
    "    \n",
    "    num+=1"
   ]
  },
  {
   "cell_type": "code",
   "execution_count": 13,
   "id": "8a8c19eb",
   "metadata": {},
   "outputs": [],
   "source": [
    "discuss_df_1 = discuss_df.drop(1667)\n",
    "discuss_df_1\n",
    "discuss_df_1.to_csv('./crawl_data/test_discuss.csv')"
   ]
  },
  {
   "cell_type": "code",
   "execution_count": 14,
   "id": "96d6c206",
   "metadata": {},
   "outputs": [],
   "source": [
    "driver.close()"
   ]
  }
 ],
 "metadata": {
  "kernelspec": {
   "display_name": "Python 3 (ipykernel)",
   "language": "python",
   "name": "python3"
  },
  "language_info": {
   "codemirror_mode": {
    "name": "ipython",
    "version": 3
   },
   "file_extension": ".py",
   "mimetype": "text/x-python",
   "name": "python",
   "nbconvert_exporter": "python",
   "pygments_lexer": "ipython3",
   "version": "3.9.7"
  }
 },
 "nbformat": 4,
 "nbformat_minor": 5
}
